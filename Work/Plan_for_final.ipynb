{
 "cells": [
  {
   "cell_type": "markdown",
   "metadata": {},
   "source": [
    "The goal of this project is to use some sort of network analysis to analyze citation trees to find influential papers in the field. There will be a second part that once a paper is identified the text will be mined and turned into a sound file which can be listened to. \n",
    "\n",
    "Honestly, I think the idea is cool and could be ueful but im mostly just doing this for fun. If you have cool ideas that might be more applicable to my research please let me know! \n",
    "\n",
    "Feed back that could be useful might be: would you use this? Is this even useful? How could this be improved to make it a better tool?"
   ]
  },
  {
   "cell_type": "markdown",
   "metadata": {},
   "source": [
    "## Pseudo Code"
   ]
  },
  {
   "cell_type": "markdown",
   "metadata": {},
   "source": [
    "Part 1: Input paper and grab citations.\n",
    "This function should take a paper as an input then output a structure of citations."
   ]
  },
  {
   "cell_type": "code",
   "execution_count": null,
   "metadata": {
    "collapsed": true
   },
   "outputs": [],
   "source": [
    "def import_paper(pub_med_url)\n",
    "    return citation_structure, abstract_text, full_text"
   ]
  },
  {
   "cell_type": "markdown",
   "metadata": {},
   "source": [
    "Part 2: This function takes the output from the part 1 as an input and iteratively mines the citations out a certain number of levels. Would probably be able to combine this part 1 but for testing would wnat to seperate them.\n",
    "Citation tree could be a dict with the name of the paper and number of times cited?"
   ]
  },
  {
   "cell_type": "code",
   "execution_count": null,
   "metadata": {
    "collapsed": true
   },
   "outputs": [],
   "source": [
    "def mine_citations(citation_structure)\n",
    "    return citation_tree"
   ]
  },
  {
   "cell_type": "markdown",
   "metadata": {},
   "source": [
    "Part 3: Do some sort of netowrk analysis, probably graph theory to analyze the citation trees from part 2. inputs: dataframe of citation trees. Output could be who cited who or nodes and edges im not really sure."
   ]
  },
  {
   "cell_type": "code",
   "execution_count": null,
   "metadata": {
    "collapsed": true
   },
   "outputs": [],
   "source": [
    "def analyze_citation_tree(citation_tree)\n",
    "    return network_analysis_output"
   ]
  },
  {
   "cell_type": "markdown",
   "metadata": {},
   "source": [
    "Part 4: Plot results. Plot the results in some way that is interpretable. Allowing a user to visually see the most connected papers so that they can choose look those papers up and read them."
   ]
  },
  {
   "cell_type": "code",
   "execution_count": null,
   "metadata": {
    "collapsed": true
   },
   "outputs": [],
   "source": [
    "def plot_citation_network(network_analysis_output)\n",
    "    return plots"
   ]
  },
  {
   "cell_type": "markdown",
   "metadata": {},
   "source": [
    "Part 5: talknerdy2me creates out put sound file to listen to. "
   ]
  },
  {
   "cell_type": "code",
   "execution_count": null,
   "metadata": {
    "collapsed": true
   },
   "outputs": [],
   "source": [
    "def import_paper\n",
    "    return citation_structure, abstract_text, full_text"
   ]
  },
  {
   "cell_type": "code",
   "execution_count": null,
   "metadata": {
    "collapsed": true
   },
   "outputs": [],
   "source": [
    "def create_sound_file(full_text|abstract_text)\n",
    "    return sound_file"
   ]
  }
 ],
 "metadata": {
  "kernelspec": {
   "display_name": "Python 3",
   "language": "python",
   "name": "python3"
  },
  "language_info": {
   "codemirror_mode": {
    "name": "ipython",
    "version": 3
   },
   "file_extension": ".py",
   "mimetype": "text/x-python",
   "name": "python",
   "nbconvert_exporter": "python",
   "pygments_lexer": "ipython3",
   "version": "3.6.0"
  }
 },
 "nbformat": 4,
 "nbformat_minor": 2
}
