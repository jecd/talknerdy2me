{
 "cells": [
  {
   "cell_type": "markdown",
   "metadata": {},
   "source": [
    "How to retrieve the reference lists of a specific paper:\n",
    "\n",
    "an example using the Elsevier API:\n",
    "https://api.elsevier.com/content/abstract/doi/10.1016/j.cognition.2016.08.009?apiKey=40acd4c83833cb8ead38b50834823fd9&view=REF\n",
    "for this paper\n",
    "http://www.sciencedirect.com/science/article/pii/S0010027716301998\n",
    "\n",
    "All 54 references are included in the xml, starting with the tag **&lt;reference id=\"\"&gt;** and **&lt;reference&gt;**\n",
    "\n",
    "So hopefully we can randomly sample references by the reference id, and get its corresponding DOI or whatever serves as a unique identifying number (already included in the xml above)\n"
   ]
  },
  {
   "cell_type": "markdown",
   "metadata": {},
   "source": [
    "I tried the Web of Science Core collection API yesterday and it is not working (probably we don't have premium access). I thought we did have because we were able to batch download references in papers using their websites; but obviously it is not viable using the API. "
   ]
  },
  {
   "cell_type": "markdown",
   "metadata": {},
   "source": [
    "Interestingly, (and I didn't know this before) Thompson Reuters Web of Science they have alread had a function named \"Citation Trees\". You are welcome to try it out or I can show you a demo"
   ]
  },
  {
   "cell_type": "markdown",
   "metadata": {},
   "source": [
    "However, on my end, their function never works. What i received on my end was just a blank page, but not what I expected as a \"citation map\" with \"nodes\". Also, they didn't have graph theory indicators to decide on important nodes. It might be a relief for all of us to know that, even one of largest academic publication databases, they don't do more than 3 layers (or in their terms, \"depth\"). The maximum is 2 depths and it took me 6 minutes to receive their citation graphs. So we are not alone!!!!!!!!!!!!"
   ]
  },
  {
   "cell_type": "markdown",
   "metadata": {},
   "source": [
    "today I am going to learn how to parse the XML file returned by the link in the beginning of this document. If you are interested, you can work on it too! I am still confused by the HTML structure, so I would need your help badly. :( "
   ]
  },
  {
   "cell_type": "markdown",
   "metadata": {},
   "source": [
    "I register the Elsevier API key by myself. I haven't read their terms of use yet, so I have no idea what is the usage limit or/and what is the maximum speed of query. :( :(   For safety reasons, let's limit our depth to 2 and breadth to randomly sampling 10 references. Would you all agree? :)"
   ]
  },
  {
   "cell_type": "markdown",
   "metadata": {},
   "source": [
    "SEE the FAQ by Elsevier\n",
    "\n",
    "Are there limits on the amount of content I can download?\n",
    "\n",
    "No, there are no hard limits on the number of items that may be downloaded via our API. Nevertheless, a reasonable and customary rate limit remains in place to ensure equal access to the API for all users, and we continue to ask users to use our service responsibly.\n",
    "\n",
    "We understand the need to be flexible and continue to monitor usage and consult with researchers. However, we do reserve the right to deactivate any API key if we believe usage is abusive or impacting the stability of our systems."
   ]
  }
 ],
 "metadata": {
  "kernelspec": {
   "display_name": "Python 3",
   "language": "python",
   "name": "python3"
  },
  "language_info": {
   "codemirror_mode": {
    "name": "ipython",
    "version": 3
   },
   "file_extension": ".py",
   "mimetype": "text/x-python",
   "name": "python",
   "nbconvert_exporter": "python",
   "pygments_lexer": "ipython3",
   "version": "3.6.0"
  }
 },
 "nbformat": 4,
 "nbformat_minor": 2
}
