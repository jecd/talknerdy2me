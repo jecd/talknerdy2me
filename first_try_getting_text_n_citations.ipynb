{
 "cells": [
  {
   "cell_type": "markdown",
   "metadata": {},
   "source": [
    "This looks like it may be a killer project. I've given comments to others, so you guys should make sure to compare notes. - This looks like it should be a class --> passing full text between functions is messy, self.text is nicer. - It's rare that you find a problem where recursion is the right way to do it, building a tree of nodes is one of them. I think you are going to want to make a function that takes in a article, and calls itself. - networkx is a good package for node-graph representations in python."
   ]
  },
  {
   "cell_type": "markdown",
   "metadata": {},
   "source": [
    "## Here is the code to get the paper citations"
   ]
  },
  {
   "cell_type": "code",
   "execution_count": 1,
   "metadata": {
    "collapsed": false
   },
   "outputs": [],
   "source": [
    "import bs4 as bs\n",
    "import urllib.request\n",
    "import re as re\n",
    "import matplotlib.pyplot as plt\n",
    "import seaborn as sns\n",
    "import pandas as pd\n",
    "import numpy as np"
   ]
  },
  {
   "cell_type": "code",
   "execution_count": 14,
   "metadata": {
    "collapsed": false
   },
   "outputs": [],
   "source": [
    "class nerdy:\n",
    "    def __init__(self, paper_url):\n",
    "        self.paper_url = paper_url\n",
    "        \n",
    "    def get_full_text(self):\n",
    "        self.html = urllib.request.urlopen(self.paper_url)# grab html\n",
    "        self.soup = bs.BeautifulSoup(self.html,'lxml')# trun pretty \n",
    "        self.citations = self.soup.find('ol', {'class':'references'}).select('li[id]') # get citations\n",
    "        self.article_title = self.soup.title # get article title needs revision\n",
    "        \n",
    "    def get_links(self):    \n",
    "        ## get links\n",
    "        counter = 0\n",
    "        prefix = 'http://dx.doi.org/'\n",
    "        links_output = [] # create output \n",
    "        for i in range(len(self.citations[0:])):\n",
    "            if self.citations[i].a is None: # if link doesnt exist \n",
    "                counter = counter + 1\n",
    "                links_output.append('no_link')\n",
    "            elif len(self.citations[i].a['href']) > 120: # if the link is really long \n",
    "                links_output.append(re.sub(\"http://dx.doi.org/\", '' ,self.citations[i].a['href']))\n",
    "            elif 'http://dx.doi.org/' in self.citations[i].a['href']: # normal\n",
    "                links_output.append(self.citations[i].a['href'])\n",
    "            else: # if its short add prefix\n",
    "                links_output.append(prefix + re.sub(\"/doifinder/\", '' ,self.citations[i].a['href']))\n",
    "        ## save em to class\n",
    "        self.links_output = links_output\n",
    "        self.missing_links = counter\n",
    "        self.random_ten = np.random.choice(self.links_output,size = 10)"
   ]
  },
  {
   "cell_type": "code",
   "execution_count": 15,
   "metadata": {
    "collapsed": false
   },
   "outputs": [],
   "source": [
    "a = nerdy('http://www.nature.com/nrn/journal/v13/n10/full/nrn3338.html')"
   ]
  },
  {
   "cell_type": "code",
   "execution_count": 16,
   "metadata": {
    "collapsed": false,
    "scrolled": false
   },
   "outputs": [],
   "source": [
    "a.get_full_text()"
   ]
  },
  {
   "cell_type": "code",
   "execution_count": 17,
   "metadata": {
    "collapsed": true
   },
   "outputs": [],
   "source": [
    "a.get_links()"
   ]
  },
  {
   "cell_type": "code",
   "execution_count": 18,
   "metadata": {
    "collapsed": false
   },
   "outputs": [
    {
     "data": {
      "text/plain": [
       "array(['http://dx.doi.org/10.1037//0735-7044.116.1.85',\n",
       "       'http://dx.doi.org/10.1038/35049064',\n",
       "       'http://dx.doi.org/10.1093/cercor/bhp116',\n",
       "       'http://www.ncbi.nlm.nih.gov/entrez/query.fcgi?holding=npg&amp;cmd=Retrieve&amp;db=PubMed&amp;list_uids=11739590&amp;dopt=Abstract',\n",
       "       'http://dx.doi.org/10.1002/cne.20079',\n",
       "       'http://dx.doi.org/10.1093/brain/awg034',\n",
       "       'http://dx.doi.org/10.1523/JNEUROSCI.3711-11.2012',\n",
       "       'http://dx.doi.org/10.1093/cercor/12.10.1048',\n",
       "       'http://dx.doi.org/10.1038/nrn1825',\n",
       "       'http://dx.doi.org/10.1080/02724990444000203'], \n",
       "      dtype='<U186')"
      ]
     },
     "execution_count": 18,
     "metadata": {},
     "output_type": "execute_result"
    }
   ],
   "source": [
    "a.random_ten"
   ]
  },
  {
   "cell_type": "markdown",
   "metadata": {},
   "source": [
    "## This is all test stuff so ignore"
   ]
  },
  {
   "cell_type": "code",
   "execution_count": null,
   "metadata": {
    "collapsed": false
   },
   "outputs": [],
   "source": [
    "a.soup.div.find_all('p',attrs = {'id' : 'aug'})[0].get_text()"
   ]
  },
  {
   "cell_type": "code",
   "execution_count": null,
   "metadata": {
    "collapsed": false
   },
   "outputs": [],
   "source": [
    "re.sub(\"[1-9](.*)\",'',a.soup.div.find_all('p',attrs = {'id' : 'aug'})[0].get_text())\n",
    "# 'RH[ABCPE]+[Aa-z].*[12]''RH[ABCPE]+[Aa-z].*[12]''RH[ABCPE]+[Aa-z].*[12]'"
   ]
  },
  {
   "cell_type": "code",
   "execution_count": null,
   "metadata": {
    "collapsed": false
   },
   "outputs": [],
   "source": [
    "a.soup.div.find_all(attrs={'class','norm'})\n",
    "# a.soup.div.find(attrs={'class','norm'})\n",
    "# div.find({'class' : 'nor)"
   ]
  },
  {
   "cell_type": "code",
   "execution_count": null,
   "metadata": {
    "collapsed": false
   },
   "outputs": [],
   "source": [
    "a.soup.div.find"
   ]
  },
  {
   "cell_type": "code",
   "execution_count": null,
   "metadata": {
    "collapsed": false
   },
   "outputs": [],
   "source": [
    "a.links_output"
   ]
  },
  {
   "cell_type": "code",
   "execution_count": null,
   "metadata": {
    "collapsed": false
   },
   "outputs": [],
   "source": [
    "a.citations[0]"
   ]
  },
  {
   "cell_type": "code",
   "execution_count": null,
   "metadata": {
    "collapsed": false
   },
   "outputs": [],
   "source": [
    "a.citations[2]"
   ]
  },
  {
   "cell_type": "code",
   "execution_count": null,
   "metadata": {
    "collapsed": false
   },
   "outputs": [],
   "source": [
    "a.citations[0:]"
   ]
  },
  {
   "cell_type": "code",
   "execution_count": null,
   "metadata": {
    "collapsed": false
   },
   "outputs": [],
   "source": [
    "a.citations[1]"
   ]
  },
  {
   "cell_type": "code",
   "execution_count": null,
   "metadata": {
    "collapsed": false
   },
   "outputs": [],
   "source": [
    "len(a.citations)"
   ]
  },
  {
   "cell_type": "code",
   "execution_count": null,
   "metadata": {
    "collapsed": false
   },
   "outputs": [],
   "source": [
    "prefix = 'http://dx.doi.org/'\n",
    "for i in range(0,10):\n",
    "    if 'http://dx.doi.org/' in a.citations[i].a['href']:\n",
    "        print(a.citations[i].a['href'])\n",
    "    else:\n",
    "        print(prefix + re.sub(\"/doifinder/\", '' ,a.citations[i].a['href']))"
   ]
  },
  {
   "cell_type": "code",
   "execution_count": null,
   "metadata": {
    "collapsed": false
   },
   "outputs": [],
   "source": [
    "m"
   ]
  },
  {
   "cell_type": "code",
   "execution_count": null,
   "metadata": {
    "collapsed": false
   },
   "outputs": [],
   "source": [
    "a.soup.find('p',{'id':'aug'}).get_text()"
   ]
  },
  {
   "cell_type": "code",
   "execution_count": null,
   "metadata": {
    "collapsed": false
   },
   "outputs": [],
   "source": [
    "citations = a.soup.find('ol', {'class':'references'})\n",
    "citations.select('li[id]')[]"
   ]
  },
  {
   "cell_type": "code",
   "execution_count": null,
   "metadata": {
    "collapsed": true
   },
   "outputs": [],
   "source": [
    "import re\n",
    "import urllib\n",
    "from bs4 import BeautifulSoup\n",
    " \n",
    "html = urllib.urlopen('http://bgr.com/2014/10/15/google-android-5-0-lollipop-release/')\n",
    "soup = BeautifulSoup(html)\n",
    "data = soup.findAll(text=True)\n",
    " \n",
    "def visible(element):\n",
    "    if element.parent.name in ['style', 'script', '[document]', 'head', 'title']:\n",
    "        return False\n",
    "    elif re.match('<!--.*-->', str(element.encode('utf-8'))):\n",
    "        return False\n",
    "    return True\n",
    " \n",
    "result = filter(visible, data)\n",
    " \n",
    "print visible_texts"
   ]
  },
  {
   "cell_type": "code",
   "execution_count": null,
   "metadata": {
    "collapsed": true
   },
   "outputs": [],
   "source": [
    "class a_bit_of_text_class():\n",
    "    def __init__(self):\n",
    "        self.text = 'I am some text'\n",
    "\n",
    "    def update_text(self, new_text):\n",
    "        self.text = new_text\n",
    "        \n",
    "    def print_text(self):\n",
    "        print( self.text )"
   ]
  }
 ],
 "metadata": {
  "kernelspec": {
   "display_name": "Python 3",
   "language": "python",
   "name": "python3"
  },
  "language_info": {
   "codemirror_mode": {
    "name": "ipython",
    "version": 3
   },
   "file_extension": ".py",
   "mimetype": "text/x-python",
   "name": "python",
   "nbconvert_exporter": "python",
   "pygments_lexer": "ipython3",
   "version": "3.6.0"
  }
 },
 "nbformat": 4,
 "nbformat_minor": 2
}
