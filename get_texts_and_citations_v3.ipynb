{
 "cells": [
  {
   "cell_type": "markdown",
   "metadata": {},
   "source": [
    "## Here is the code to get the paper citations"
   ]
  },
  {
   "cell_type": "code",
   "execution_count": 1,
   "metadata": {
    "collapsed": true
   },
   "outputs": [],
   "source": [
    "import bs4 as bs\n",
    "import urllib.request\n",
    "import re as re\n",
    "import matplotlib.pyplot as plt\n",
    "import seaborn as sns\n",
    "import pandas as pd\n",
    "import numpy as np"
   ]
  },
  {
   "cell_type": "code",
   "execution_count": null,
   "metadata": {
    "collapsed": true
   },
   "outputs": [],
   "source": [
    "#     def get_full_text(self):\n",
    "#         self.html = urllib.request.urlopen(self.paper_url)# grab html\n",
    "#         self.soup = bs.BeautifulSoup(self.html,'lxml')# trun pretty \n",
    "#         ## extract\n",
    "#         self.citations = self.soup.find_all('div', attrs={'class':'References'})\n",
    "#         self.cite_flag = True;\n",
    "#         if self.citations is None:\n",
    "#             print('cant get citations for ',self.paper_url) \n",
    "#         elif not self.citations: # NN\n",
    "#             self.citations = self.soup.find('ol', {'class':'references'}).select('li[id]') # get citations\n",
    "#             if self.citations is None:\n",
    "#                 print('cant get citations for ',self.paper_url) \n",
    "#             elif not a.citations:\n",
    "#                 print('cant get citations for ',self.paper_url)"
   ]
  },
  {
   "cell_type": "code",
   "execution_count": null,
   "metadata": {
    "collapsed": true
   },
   "outputs": [],
   "source": [
    "\n",
    "links_output = []\n",
    "for link in a.soup.find_all('a'):\n",
    "    links_output.append(link.get('href'))\n",
    "    \n",
    "for i in range(0,len(links_output)): \n",
    "    if links_output[i] is None:\n",
    "        continue\n",
    "    else:\n",
    "        if '.full' in links_output[i]:\n",
    "            if 'http:' in links_output[i]:\n",
    "                master_link = links_output[i]\n",
    "                break"
   ]
  },
  {
   "cell_type": "code",
   "execution_count": 88,
   "metadata": {
    "collapsed": false,
    "scrolled": true
   },
   "outputs": [
    {
     "ename": "SyntaxError",
     "evalue": "invalid syntax (<ipython-input-88-2ce3a1234360>, line 7)",
     "output_type": "error",
     "traceback": [
      "\u001b[0;36m  File \u001b[0;32m\"<ipython-input-88-2ce3a1234360>\"\u001b[0;36m, line \u001b[0;32m7\u001b[0m\n\u001b[0;31m    elif: 'http' in paper_url:\u001b[0m\n\u001b[0m        ^\u001b[0m\n\u001b[0;31mSyntaxError\u001b[0m\u001b[0;31m:\u001b[0m invalid syntax\n"
     ]
    }
   ],
   "source": [
    "# need to get j neuroscience to work better\n",
    "class nerdy:\n",
    "    def __init__(self, paper_url):\n",
    "        if 'http://dx' in paper_url:\n",
    "            print('a')\n",
    "            self.paper_url = paper_url\n",
    "        elif: 'http' in paper_url:\n",
    "            print('b')\n",
    "            self.paper_url = paper_url\n",
    "        else:\n",
    "            print('c')\n",
    "            self.paper_url = 'http://dx.doi.org/' + paper_url\n",
    "\n",
    "        \n",
    "    def elsevier_ref(self):\n",
    "        prefix = 'https://api.elsevier.com/content/abstract/doi/'\n",
    "        suffix = '?apiKey=40acd4c83833cb8ead38b50834823fd9&view=REF'\n",
    "        doi = self.paper_url\n",
    "\n",
    "        self.link = prefix+doi+suffix\n",
    "        self.html = urllib.request.urlopen(self.link)# grab html\n",
    "        self.soup = bs.BeautifulSoup(self.html,'xml')# trun pretty \n",
    "        \n",
    "        self.citations =[]\n",
    "        for doi in self.soup.find_all('doi'):\n",
    "            self.citations.append(doi.contents[0])\n",
    "        \n",
    "        self.random_ten = np.random.choice(self.citations,size = 10)\n",
    "                        \n",
    "    def get_full_text(self):\n",
    "        # added error handeling\n",
    "        req = urllib.request.Request(self.paper_url)\n",
    "        try: urllib.request.urlopen(req)\n",
    "        except urllib.error.URLError as e:\n",
    "            print('link ' + e.reason)\n",
    "            return\n",
    "        else:\n",
    "            self.html = urllib.request.urlopen(self.paper_url)\n",
    "        \n",
    "#         self.html = urllib.request.urlopen(self.paper_url)# grab html\n",
    "        self.soup = bs.BeautifulSoup(self.html,'lxml')# trun pretty \n",
    "        ## extract\n",
    "        ## auto detect journal\n",
    "        if \"Nature\" in self.soup.title.get_text():\n",
    "            print('Nature Journal')\n",
    "            self.journal = 'Nature'\n",
    "            self.citations = self.soup.find('ol', {'class':'references'}).select('li[id]')\n",
    "            \n",
    "            counter = 0\n",
    "            prefix = ''#'http://dx.doi.org/'\n",
    "            links_output = []\n",
    "            for i in range(len(self.citations[0:])):\n",
    "                if self.citations[i].a is None: # if link doesnt exist \n",
    "                    counter = counter + 1\n",
    "                    print(i, 'cant find link')\n",
    "                elif len(self.citations[i].a['href']) > 90: # if the link is really long \n",
    "                    print(i, 'long link')\n",
    "#                     links_output.append(re.sub(\"http://dx.doi.org/\", '' ,self.citations[i].a['href']))\n",
    "                elif 'http://dx.doi.org/' in self.citations[i].a['href']: # normal\n",
    "                    links_output.append(re.sub(\"http://dx.doi.org/\", '' ,self.citations[i].a['href']))\n",
    "                else: # if its short add prefix\n",
    "                    links_output.append(re.sub(\"/doifinder/\", '' ,self.citations[i].a['href']))\n",
    "                    \n",
    "            ## save em to class\n",
    "            self.links_output = links_output\n",
    "            self.missing_links = counter\n",
    "            self.random_ten = np.random.choice(self.links_output,size = 10)\n",
    "            \n",
    "        elif \"ScienceDirect\" in self.soup.title.get_text(): \n",
    "            print(self.soup.title.get_text())\n",
    "        elif \"Science\" in self.soup.title.get_text(): # science\n",
    "            print(self.soup.title.get_text())\n",
    "            \n",
    "            print('getting full text','Science Journal')\n",
    "            self.journal = 'Science'\n",
    "            self.soup = bs.BeautifulSoup(self.html,'lxml')#        \n",
    "            self.citations = self.soup.find_all('div', attrs={'class':'References'})\n",
    "            if self.citations is None:\n",
    "                print('actually abstract getting really')\n",
    "                links_output = []\n",
    "                for link in self.soup.find_all('a'):\n",
    "                    links_output.append(link.get('href'))\n",
    "\n",
    "                for i in range(0,len(links_output)): \n",
    "                    if links_output[i] is None:\n",
    "                        continue\n",
    "                    else:\n",
    "                        if '.full' in links_output[i]:\n",
    "                            if 'http:' in links_output[i]:\n",
    "                                self.master_link = links_output[i]\n",
    "                                break\n",
    "                self.html = urllib.request.urlopen(self.master_link)# grab html\n",
    "                self.soup = bs.BeautifulSoup(self.html,'lxml')#        \n",
    "                self.citations = self.soup.find_all('div', attrs={'class':'References'})\n",
    "                self.random_ten = np.random.choice(self.citations,size = 10)\n",
    "            else:\n",
    "                print(self.citations)\n",
    "                self.random_ten = np.random.choice(self.citations,size = 10)\n",
    "\n",
    "        elif \"Elsevier\" in self.soup.title.get_text(): # if elsevier use api\n",
    "            prefix = 'https://api.elsevier.com/content/abstract/doi/'\n",
    "            suffix = '?apiKey=40acd4c83833cb8ead38b50834823fd9&view=REF'\n",
    "            doi = self.paper_url\n",
    "\n",
    "            self.link = prefix+doi+suffix\n",
    "            self.html = urllib.request.urlopen(self.link)# grab html\n",
    "            self.soup = bs.BeautifulSoup(self.html,'xml')# trun pretty \n",
    "\n",
    "            self.citations =[]\n",
    "            for doi in self.soup.find_all('doi'):\n",
    "                self.citations.append(doi.contents[0])\n",
    "\n",
    "            self.random_ten = np.random.choice(self.citations,size = 10)\n",
    "        \n",
    "    def get_links(self):    \n",
    "        ## get links\n",
    "        counter = 0\n",
    "        prefix = ''#'http://dx.doi.org/'\n",
    "        links_output = [] # create output \n",
    "        if self.cite_flag == True:\n",
    "            for i in range(len(self.citations[0:])):\n",
    "                if len(self.citations[i].find_all('a')) == 4:\n",
    "                    links_output.append(self.citations[i].find_all('a')[3]['href'])\n",
    "                elif len(self.citations[i].find_all('a')) < 2 :\n",
    "                    counter = counter + 1\n",
    "                    print(i,'cant find link')\n",
    "                elif 'http://dx.doi.org/' in self.citations[i].find_all('a')[1]['href']:\n",
    "                    links_output.append(self.citations[i].find_all('a')[1]['href'])\n",
    "                else:\n",
    "                    counter = counter + 1\n",
    "                    print(i,'cant find link')\n",
    "\n",
    "        else: ## v1 \n",
    "            for i in range(len(self.citations[0:])):\n",
    "                if self.citations[i].a is None: # if link doesnt exist \n",
    "                    counter = counter + 1\n",
    "                    print(i, 'cant find link')\n",
    "                elif len(self.citations[i].a['href']) > 120: # if the link is really long \n",
    "                    links_output.append(re.sub(\"http://dx.doi.org/\", '' ,self.citations[i].a['href']))\n",
    "                elif 'http://dx.doi.org/' in self.citations[i].a['href']: # normal\n",
    "                    links_output.append(self.citations[i].a['href'])\n",
    "                else: # if its short add prefix\n",
    "                    links_output.append(prefix + re.sub(\"/doifinder/\", '' ,self.citations[i].a['href']))\n",
    "                    \n",
    "        ## save em to class\n",
    "        self.links_output = links_output\n",
    "        self.missing_links = counter\n",
    "        self.random_ten = np.random.choice(self.links_output,size = 10)"
   ]
  },
  {
   "cell_type": "code",
   "execution_count": 15,
   "metadata": {
    "collapsed": false
   },
   "outputs": [
    {
     "name": "stdout",
     "output_type": "stream",
     "text": [
      "Nature Journal\n",
      "0 long link\n",
      "2 long link\n",
      "3 long link\n",
      "5 long link\n",
      "7 long link\n",
      "8 long link\n",
      "9 long link\n",
      "11 long link\n",
      "14 long link\n",
      "15 cant find link\n",
      "16 long link\n",
      "17 long link\n",
      "20 long link\n",
      "21 long link\n",
      "22 long link\n",
      "26 long link\n",
      "29 long link\n",
      "30 long link\n",
      "32 long link\n",
      "33 long link\n",
      "34 long link\n",
      "35 long link\n",
      "37 long link\n",
      "39 cant find link\n",
      "42 long link\n",
      "44 long link\n",
      "47 long link\n",
      "49 long link\n",
      "50 long link\n",
      "51 cant find link\n",
      "56 long link\n",
      "57 long link\n",
      "61 long link\n",
      "62 long link\n",
      "63 long link\n",
      "64 long link\n",
      "65 long link\n",
      "66 long link\n",
      "67 long link\n",
      "71 long link\n",
      "72 long link\n",
      "73 long link\n",
      "76 long link\n",
      "77 long link\n",
      "78 long link\n",
      "79 cant find link\n",
      "82 long link\n",
      "84 long link\n",
      "85 long link\n",
      "86 long link\n",
      "87 long link\n",
      "88 long link\n",
      "91 long link\n",
      "93 long link\n",
      "94 long link\n",
      "96 long link\n",
      "97 long link\n",
      "101 long link\n",
      "103 long link\n",
      "104 long link\n",
      "105 long link\n",
      "109 cant find link\n",
      "112 long link\n",
      "114 long link\n",
      "115 long link\n",
      "122 cant find link\n",
      "124 long link\n",
      "127 long link\n",
      "128 cant find link\n",
      "130 long link\n",
      "132 long link\n",
      "134 cant find link\n",
      "136 long link\n",
      "137 long link\n",
      "138 long link\n",
      "139 long link\n",
      "140 long link\n",
      "141 cant find link\n",
      "142 cant find link\n",
      "144 long link\n"
     ]
    }
   ],
   "source": [
    "a = nerdy('http://dx.doi.org/10.1038/35049064')\n",
    "a.get_full_text()"
   ]
  },
  {
   "cell_type": "code",
   "execution_count": 16,
   "metadata": {
    "collapsed": false
   },
   "outputs": [
    {
     "data": {
      "text/plain": [
       "array(['10.1006/nimg.1995.1038', '10.1016/S0896-6273(00)80315-3',\n",
       "       '10.1002/(SICI)1096-9861(19970602)382:2<153::AID-CNE2>3.3.CO;2-#',\n",
       "       '10.1126/science.8290960', '10.1037//0033-295X.87.3.252',\n",
       "       '10.1016/S0301-0082(98)00002-1', '10.1037//0735-7044.114.3.459',\n",
       "       '10.1037//0735-7044.111.3.467', '10.1126/science.8290960',\n",
       "       '10.1037//0735-7044.108.1.11'], \n",
       "      dtype='<U63')"
      ]
     },
     "execution_count": 16,
     "metadata": {},
     "output_type": "execute_result"
    }
   ],
   "source": [
    "a.random_ten"
   ]
  },
  {
   "cell_type": "code",
   "execution_count": 56,
   "metadata": {
    "collapsed": false
   },
   "outputs": [
    {
     "name": "stdout",
     "output_type": "stream",
     "text": [
      "link Not Found\n"
     ]
    }
   ],
   "source": [
    "a=nerdy('10.1006/nimg.1995.1038')\n",
    "a.get_full_text()\n",
    "# html = urllib.request.urlopen(a.paper_url)"
   ]
  },
  {
   "cell_type": "code",
   "execution_count": 35,
   "metadata": {
    "collapsed": false
   },
   "outputs": [
    {
     "name": "stdout",
     "output_type": "stream",
     "text": [
      "link Not Found\n"
     ]
    }
   ],
   "source": [
    "req = urllib.request.Request('http://dx.doi.org/10.1006/nimg.1995.1038')\n",
    "try: urllib.request.urlopen(req)\n",
    "except urllib.error.URLError as e:\n",
    "    print('link ' + e.reason)"
   ]
  },
  {
   "cell_type": "code",
   "execution_count": 32,
   "metadata": {
    "collapsed": true
   },
   "outputs": [],
   "source": [
    "req = urllib.request.Request('http://dx.doi.org/10.1006/nimg.1995.1038')"
   ]
  },
  {
   "cell_type": "code",
   "execution_count": 31,
   "metadata": {
    "collapsed": false
   },
   "outputs": [
    {
     "data": {
      "text/plain": [
       "<urllib.request.Request at 0x7f4d777902e8>"
      ]
     },
     "execution_count": 31,
     "metadata": {},
     "output_type": "execute_result"
    }
   ],
   "source": [
    "req"
   ]
  },
  {
   "cell_type": "code",
   "execution_count": 27,
   "metadata": {
    "collapsed": false
   },
   "outputs": [
    {
     "ename": "TypeError",
     "evalue": "__init__() missing 4 required positional arguments: 'code', 'msg', 'hdrs', and 'fp'",
     "output_type": "error",
     "traceback": [
      "\u001b[0;31m---------------------------------------------------------------------------\u001b[0m",
      "\u001b[0;31mTypeError\u001b[0m                                 Traceback (most recent call last)",
      "\u001b[0;32m<ipython-input-27-2810eb1a4c35>\u001b[0m in \u001b[0;36m<module>\u001b[0;34m()\u001b[0m\n\u001b[0;32m----> 1\u001b[0;31m \u001b[0murllib\u001b[0m\u001b[0;34m.\u001b[0m\u001b[0mrequest\u001b[0m\u001b[0;34m.\u001b[0m\u001b[0mHTTPError\u001b[0m\u001b[0;34m(\u001b[0m\u001b[0;34m'http://dx.doi.org/10.1006/nimg.1995.1038'\u001b[0m\u001b[0;34m)\u001b[0m\u001b[0;34m\u001b[0m\u001b[0m\n\u001b[0m",
      "\u001b[0;31mTypeError\u001b[0m: __init__() missing 4 required positional arguments: 'code', 'msg', 'hdrs', and 'fp'"
     ]
    }
   ],
   "source": [
    "urllib.request.HTTPError('http://dx.doi.org/10.1006`/nimg.1995.1038')"
   ]
  },
  {
   "cell_type": "code",
   "execution_count": 23,
   "metadata": {
    "collapsed": false
   },
   "outputs": [
    {
     "ename": "TypeError",
     "evalue": "__init__() missing 4 required positional arguments: 'code', 'msg', 'hdrs', and 'fp'",
     "output_type": "error",
     "traceback": [
      "\u001b[0;31m---------------------------------------------------------------------------\u001b[0m",
      "\u001b[0;31mTypeError\u001b[0m                                 Traceback (most recent call last)",
      "\u001b[0;32m<ipython-input-23-832d71f76eff>\u001b[0m in \u001b[0;36m<module>\u001b[0;34m()\u001b[0m\n\u001b[0;32m----> 1\u001b[0;31m \u001b[0murllib\u001b[0m\u001b[0;34m.\u001b[0m\u001b[0merror\u001b[0m\u001b[0;34m.\u001b[0m\u001b[0mHTTPError\u001b[0m\u001b[0;34m(\u001b[0m\u001b[0;34m'http://dx.doi.org/10.1006/nimg.1995.1038'\u001b[0m\u001b[0;34m)\u001b[0m\u001b[0;34m\u001b[0m\u001b[0m\n\u001b[0m",
      "\u001b[0;31mTypeError\u001b[0m: __init__() missing 4 required positional arguments: 'code', 'msg', 'hdrs', and 'fp'"
     ]
    }
   ],
   "source": [
    "urllib.error.HTTPError('http://dx.doi.org/10.1006/nimg.1995.1038')"
   ]
  },
  {
   "cell_type": "code",
   "execution_count": 204,
   "metadata": {
    "collapsed": false
   },
   "outputs": [
    {
     "data": {
      "text/plain": [
       "'10.1016/0166-4328(96)00006-X'"
      ]
     },
     "execution_count": 204,
     "metadata": {},
     "output_type": "execute_result"
    }
   ],
   "source": [
    "a.random_ten[1]"
   ]
  },
  {
   "cell_type": "code",
   "execution_count": 173,
   "metadata": {
    "collapsed": false
   },
   "outputs": [
    {
     "data": {
      "text/plain": [
       "<li id=\"B2\"><p class=\"details\">Gaffan, D. &amp; \n",
       "Murray, E. A. <span class=\"atl\">Monkeys (<i>Macaca fascicularis\n",
       "</i>) with rhinal cortex ablations succeed in object discrimination learning\n",
       "despite 24-hr intertrial intervals and fail at matching to sample despite\n",
       "double sample presentations</span>. <span class=\"jtl\">Behav. Neurosci.</span> <span class=\"vid\">106</span>, \n",
       "30–38 (<span class=\"cite-month-year\">1992</span>).</p><ul class=\"article-views\"><li class=\"ref-doi first\"><a href=\"http://dx.doi.org/10.1037//0735-7044.106.1.30\" title=\"\">Article</a></li><li class=\"ref-medline\"><a href=\"http://www.ncbi.nlm.nih.gov/entrez/query.fcgi?holding=npg&amp;cmd=Retrieve&amp;db=PubMed&amp;list_uids=1554436&amp;dopt=Abstract\" title=\"Article on PubMed - \">PubMed</a></li><li class=\"ref-isi\"><a href=\"http://links.isiglobalnet2.com/gateway/Gateway.cgi?&amp;GWVersion=2&amp;SrcAuth=Nature&amp;SrcApp=Nature&amp;DestLinkType=FullRecord&amp;KeyUT=A1992HF35800003&amp;DestApp=WOS_CPL\" title=\"Article on ISI - \">ISI</a></li><li class=\"ref-coi\"><a href=\"http://chemport.cas.org/cgi-bin/sdcgi?APP=ftslink&amp;action=reflink&amp;origin=npg&amp;version=1.0&amp;coi=1:STN:280:By2B3cjktVE%3D&amp;pissn=1471-003X&amp;pyear=2001&amp;md5=256b2589507cac2be8d13364cadea6ce\" title=\"Article on ChemPort - \">ChemPort</a></li></ul></li>"
      ]
     },
     "execution_count": 173,
     "metadata": {},
     "output_type": "execute_result"
    }
   ],
   "source": [
    "a.citations[1]"
   ]
  },
  {
   "cell_type": "code",
   "execution_count": 176,
   "metadata": {
    "collapsed": false
   },
   "outputs": [
    {
     "ename": "AttributeError",
     "evalue": "'ResultSet' object has no attribute 'select'",
     "output_type": "error",
     "traceback": [
      "\u001b[0;31m---------------------------------------------------------------------------\u001b[0m",
      "\u001b[0;31mAttributeError\u001b[0m                            Traceback (most recent call last)",
      "\u001b[0;32m<ipython-input-176-c9a9e0eeb073>\u001b[0m in \u001b[0;36m<module>\u001b[0;34m()\u001b[0m\n\u001b[1;32m      1\u001b[0m \u001b[0;32mfor\u001b[0m \u001b[0mlink\u001b[0m \u001b[0;32min\u001b[0m \u001b[0ma\u001b[0m\u001b[0;34m.\u001b[0m\u001b[0mcitations\u001b[0m\u001b[0;34m:\u001b[0m\u001b[0;34m\u001b[0m\u001b[0m\n\u001b[0;32m----> 2\u001b[0;31m     \u001b[0mprint\u001b[0m\u001b[0;34m(\u001b[0m\u001b[0mlink\u001b[0m\u001b[0;34m.\u001b[0m\u001b[0mfind_all\u001b[0m\u001b[0;34m(\u001b[0m\u001b[0;34m'a'\u001b[0m\u001b[0;34m)\u001b[0m\u001b[0;34m.\u001b[0m\u001b[0mselect\u001b[0m\u001b[0;34m(\u001b[0m\u001b[0;34m'href'\u001b[0m\u001b[0;34m)\u001b[0m\u001b[0;34m)\u001b[0m\u001b[0;34m\u001b[0m\u001b[0m\n\u001b[0m",
      "\u001b[0;31mAttributeError\u001b[0m: 'ResultSet' object has no attribute 'select'"
     ]
    }
   ],
   "source": [
    "for link in a.citations:\n",
    "    print(link.find_all('a').select('href'))"
   ]
  },
  {
   "cell_type": "code",
   "execution_count": 164,
   "metadata": {
    "collapsed": false
   },
   "outputs": [
    {
     "name": "stdout",
     "output_type": "stream",
     "text": [
      "getting full text Science Journal\n"
     ]
    }
   ],
   "source": [
    "a = nerdy(\"http://science.sciencemag.org/content/285/5433/1582\")\n",
    "a.get_full_text()"
   ]
  },
  {
   "cell_type": "code",
   "execution_count": 165,
   "metadata": {
    "collapsed": false
   },
   "outputs": [
    {
     "data": {
      "text/plain": [
       "[]"
      ]
     },
     "execution_count": 165,
     "metadata": {},
     "output_type": "execute_result"
    }
   ],
   "source": [
    "a.citations"
   ]
  },
  {
   "cell_type": "code",
   "execution_count": 143,
   "metadata": {
    "collapsed": false
   },
   "outputs": [
    {
     "data": {
      "text/plain": [
       "[<div class=\"section ref-list\" id=\"ref-list-1\"><h2 class=\"\">REFERENCES AND NOTES</h2><ol class=\"cit-list\"><li><a class=\"rev-xref-ref\" href=\"#xref-ref-1-1\" id=\"ref-1\" title=\"View reference 1 in text\">↵</a><div class=\"cit ref-cit ref-journal\" data-doi=\"10.1126/science.1896849\" id=\"cit-285.5433.1582.1\"><div class=\"cit-metadata\"><ol class=\"cit-auth-list\"><li><span class=\"cit-auth\"> <span class=\"cit-name-given-names\">L. R.</span> <span class=\"cit-name-surname\">Squire</span></span>, </li><li><span class=\"cit-auth\"> <span class=\"cit-name-given-names\">S.</span> <span class=\"cit-name-surname\">Zola-Morgan</span></span></li></ol><cite>, <abbr class=\"cit-jnl-abbrev\">Science</abbr> <span class=\"cit-vol\">253</span>, <span class=\"cit-fpage\">1380</span> (<span class=\"cit-pub-date\">1991</span>).</cite></div><div class=\"cit-extra\"><a class=\"cit-ref-sprinkles cit-ref-sprinkles-openurl cit-ref-sprinkles-open-url\" href=\"{openurl}?query=rft.jtitle%253DScience%26rft.stitle%253DScience%26rft.aulast%253DSquire%26rft.auinit1%253DL.%26rft.volume%253D253%26rft.issue%253D5026%26rft.spage%253D1380%26rft.epage%253D1386%26rft.atitle%253DThe%2Bmedial%2Btemporal%2Blobe%2Bmemory%2Bsystem%26rft_id%253Dinfo%253Adoi%252F10.1126%252Fscience.1896849%26rft_id%253Dinfo%253Apmid%252F1896849%26rft.genre%253Darticle%26rft_val_fmt%253Dinfo%253Aofi%252Ffmt%253Akev%253Amtx%253Ajournal%26ctx_ver%253DZ39.88-2004%26url_ver%253DZ39.88-2004%26url_ctx_fmt%253Dinfo%253Aofi%252Ffmt%253Akev%253Amtx%253Actx\"><span>OpenUrl</span></a><a class=\"cit-ref-sprinkles cit-ref-sprinkles-ijlink\" href=\"/lookup/ijlink?linkType=ABST&amp;journalCode=sci&amp;resid=253/5026/1380&amp;atom=%2Fsci%2F285%2F5433%2F1582.atom\"><span><span class=\"cit-reflinks-abstract\">Abstract</span><span class=\"cit-sep cit-reflinks-variant-name-sep\">/</span><span class=\"cit-reflinks-full-text\"><span class=\"free-full-text\">FREE </span>Full Text</span></span></a></div></div></li><li><a class=\"rev-xref-ref\" href=\"#xref-ref-2-1\" id=\"ref-2\" title=\"View reference 2 in text\">↵</a><div class=\"cit ref-cit ref-other\" id=\"cit-285.5433.1582.2\"><div class=\"cit-metadata unstructured\">E. Tulving, in <em>Organization of Memory</em>, E. Tulving and W. Donaldson, Eds. (Academic Press, New York, 1972), pp. 381–403.</div><div class=\"cit-extra\"></div></div></li><li><a class=\"rev-xref-ref\" href=\"#xref-ref-3-1\" id=\"ref-3\" title=\"View reference 3 in text\">↵</a><div class=\"cit ref-cit ref-journal\" data-doi=\"10.1136/jnnp.20.1.11\" id=\"cit-285.5433.1582.3\"><div class=\"cit-metadata\"><ol class=\"cit-auth-list\"><li><span class=\"cit-auth\"> <span class=\"cit-name-given-names\">W. B.</span> <span class=\"cit-name-surname\">Scoville</span></span>, </li><li><span class=\"cit-auth\"> <span class=\"cit-name-given-names\">B.</span> <span class=\"cit-name-surname\">Milner</span></span></li></ol><cite>, <abbr class=\"cit-jnl-abbrev\">J. Neurol. Neurosurg. Psychiatry</abbr> <span class=\"cit-vol\">20</span>, <span class=\"cit-fpage\">11</span> (<span class=\"cit-pub-date\">1957</span>).</cite></div><div class=\"cit-extra\"><a class=\"cit-ref-sprinkles cit-ref-sprinkles-openurl cit-ref-sprinkles-open-url\" href=\"{openurl}?query=rft.jtitle%253DJournal%2Bof%2BNeurology%252C%2BNeurosurgery%2B%2526%2BPsychiatry%26rft.stitle%253DJ.%2BNeurol.%2BNeurosurg.%2BPsychiatry%26rft.aulast%253DScoville%26rft.auinit1%253DW.%2BB.%26rft.volume%253D20%26rft.issue%253D1%26rft.spage%253D11%26rft.epage%253D21%26rft.atitle%253DLOSS%2BOF%2BRECENT%2BMEMORY%2BAFTER%2BBILATERAL%2BHIPPOCAMPAL%2BLESIONS%26rft_id%253Dinfo%253Adoi%252F10.1136%252Fjnnp.20.1.11%26rft_id%253Dinfo%253Apmid%252F13406589%26rft.genre%253Darticle%26rft_val_fmt%253Dinfo%253Aofi%252Ffmt%253Akev%253Amtx%253Ajournal%26ctx_ver%253DZ39.88-2004%26url_ver%253DZ39.88-2004%26url_ctx_fmt%253Dinfo%253Aofi%252Ffmt%253Akev%253Amtx%253Actx\"><span>OpenUrl</span></a><a class=\"cit-ref-sprinkles cit-ref-sprinkles-ijlink\" href=\"/lookup/ijlink?linkType=PDF&amp;journalCode=jnnp&amp;resid=20/1/11&amp;atom=%2Fsci%2F285%2F5433%2F1582.atom\"><span><span class=\"cit-reflinks-full-text\"><span class=\"free-full-text\">FREE </span>Full Text</span></span></a></div></div></li><li><a class=\"rev-xref-ref\" href=\"#xref-ref-4-1\" id=\"ref-4\" title=\"View reference 4 in text\">↵</a><div class=\"cit ref-cit ref-journal\" data-doi=\"10.1126/science.281.5380.1185\" id=\"cit-285.5433.1582.4\"><div class=\"cit-metadata\"><ol class=\"cit-auth-list\"><li><span class=\"cit-auth\"> <span class=\"cit-name-given-names\">J. B.</span> <span class=\"cit-name-surname\">Brewer</span></span>, </li><li><span class=\"cit-auth\"> <span class=\"cit-name-given-names\">Z.</span> <span class=\"cit-name-surname\">Zhao</span></span>, </li><li><span class=\"cit-auth\"> <span class=\"cit-name-given-names\">J. E.</span> <span class=\"cit-name-surname\">Desmond</span></span>, </li><li><span class=\"cit-auth\"> <span class=\"cit-name-given-names\">G. H.</span> <span class=\"cit-name-surname\">Glover</span></span>, </li><li><span class=\"cit-auth\"> <span class=\"cit-name-given-names\">J. D. E.</span> <span class=\"cit-name-surname\">Gabrieli</span></span></li></ol><cite>, <abbr class=\"cit-jnl-abbrev\">Science</abbr> <span class=\"cit-vol\">281</span>, <span class=\"cit-fpage\">1185</span> (<span class=\"cit-pub-date\">1998</span>);</cite></div><div class=\"cit-extra\"><a class=\"cit-ref-sprinkles cit-ref-sprinkles-openurl cit-ref-sprinkles-open-url\" href=\"{openurl}?query=rft.jtitle%253DScience%26rft.stitle%253DScience%26rft.aulast%253DBrewer%26rft.auinit1%253DJ.%2BB.%26rft.volume%253D281%26rft.issue%253D5380%26rft.spage%253D1185%26rft.epage%253D1187%26rft.atitle%253DMaking%2BMemories%253A%2BBrain%2BActivity%2Bthat%2BPredicts%2BHow%2BWell%2BVisual%2BExperience%2BWill%2BBe%2BRemembered%26rft_id%253Dinfo%253Adoi%252F10.1126%252Fscience.281.5380.1185%26rft_id%253Dinfo%253Apmid%252F9712581%26rft.genre%253Darticle%26rft_val_fmt%253Dinfo%253Aofi%252Ffmt%253Akev%253Amtx%253Ajournal%26ctx_ver%253DZ39.88-2004%26url_ver%253DZ39.88-2004%26url_ctx_fmt%253Dinfo%253Aofi%252Ffmt%253Akev%253Amtx%253Actx\"><span>OpenUrl</span></a><a class=\"cit-ref-sprinkles cit-ref-sprinkles-ijlink\" href=\"/lookup/ijlink?linkType=ABST&amp;journalCode=sci&amp;resid=281/5380/1185&amp;atom=%2Fsci%2F285%2F5433%2F1582.atom\"><span><span class=\"cit-reflinks-abstract\">Abstract</span><span class=\"cit-sep cit-reflinks-variant-name-sep\">/</span><span class=\"cit-reflinks-full-text\"><span class=\"free-full-text\">FREE </span>Full Text</span></span></a></div></div><div class=\"cit ref-cit ref-other\" id=\"cit-285.5433.1582.5\"><div class=\"cit-metadata unstructured\">; A. D. Wagner <em>et al.</em>, <em>ibid.</em>, p. 1188.</div><div class=\"cit-extra\"></div></div></li><li><a class=\"rev-xref-ref\" href=\"#xref-ref-5-1\" id=\"ref-5\" title=\"View reference 5 in text\">↵</a><div class=\"cit ref-cit ref-journal\" data-doi=\"10.1002/(SICI)1098-1063(1999)9:1&lt;25::AID-HIPO3&gt;3.0.CO;2-4\" id=\"cit-285.5433.1582.6\"><div class=\"cit-metadata\"><ol class=\"cit-auth-list\"><li><span class=\"cit-auth\"> <span class=\"cit-name-given-names\">R. J.</span> <span class=\"cit-name-surname\">Dolan</span></span>, </li><li><span class=\"cit-auth\"> <span class=\"cit-name-given-names\">P. F.</span> <span class=\"cit-name-surname\">Fletcher</span></span></li></ol><cite>, <abbr class=\"cit-jnl-abbrev\">Hippocampus</abbr> <span class=\"cit-vol\">9</span>, <span class=\"cit-fpage\">25</span> (<span class=\"cit-pub-date\">1999</span>);</cite></div><div class=\"cit-extra\"><a class=\"cit-ref-sprinkles cit-ref-sprinkles-openurl cit-ref-sprinkles-open-url\" href=\"{openurl}?query=rft.jtitle%253DHippocampus%26rft.stitle%253DHippocampus%26rft.aulast%253DDolan%26rft.auinit1%253DR.%2BJ.%26rft.volume%253D9%26rft.issue%253D1%26rft.spage%253D25%26rft.epage%253D34%26rft.atitle%253DEncoding%2Band%2Bretrieval%2Bin%2Bhuman%2Bmedial%2Btemporal%2Blobes%253A%2Ban%2Bempirical%2Binvestigation%2Busing%2Bfunctional%2Bmagnetic%2Bresonance%2Bimaging%2B%2528fMRI%2529.%26rft_id%253Dinfo%253Adoi%252F10.1002%252F%2528SICI%25291098-1063%25281999%25299%253A1%253C25%253A%253AAID-HIPO3%253E3.0.CO%253B2-4%26rft_id%253Dinfo%253Apmid%252F10088897%26rft.genre%253Darticle%26rft_val_fmt%253Dinfo%253Aofi%252Ffmt%253Akev%253Amtx%253Ajournal%26ctx_ver%253DZ39.88-2004%26url_ver%253DZ39.88-2004%26url_ctx_fmt%253Dinfo%253Aofi%252Ffmt%253Akev%253Amtx%253Actx\"><span>OpenUrl</span></a><a class=\"cit-ref-sprinkles cit-ref-sprinkles-doi cit-ref-sprinkles-crossref\" href=\"/lookup/external-ref?access_num=10.1002/(SICI)1098-1063(1999)9:1&lt;25::AID-HIPO3&gt;3.0.CO;2-4&amp;link_type=DOI\"><span>CrossRef</span></a><a class=\"cit-ref-sprinkles cit-ref-sprinkles-medline\" href=\"/lookup/external-ref?access_num=10088897&amp;link_type=MED&amp;atom=%2Fsci%2F285%2F5433%2F1582.atom\"><span>PubMed</span></a><a class=\"cit-ref-sprinkles cit-ref-sprinkles-newisilink cit-ref-sprinkles-webofscience\" href=\"/lookup/external-ref?access_num=000079002000003&amp;link_type=ISI\"><span>Web of Science</span></a></div></div><div class=\"cit ref-cit ref-journal\" id=\"cit-285.5433.1582.7\"><div class=\"cit-metadata\"><ol class=\"cit-auth-list\"><li><span class=\"cit-auth\"> <span class=\"cit-name-given-names\">G.</span> <span class=\"cit-name-surname\">Fernández</span></span> </li><li><span class=\"cit-etal\">et al.</span></li></ol><cite>, <abbr class=\"cit-jnl-abbrev\">J. Neurosci.</abbr> <span class=\"cit-vol\">18</span>, <span class=\"cit-fpage\">1841</span> (<span class=\"cit-pub-date\">1998</span>);</cite></div><div class=\"cit-extra\"><a class=\"cit-ref-sprinkles cit-ref-sprinkles-openurl cit-ref-sprinkles-open-url\" href=\"{openurl}?query=rft.jtitle%253DJournal%2Bof%2BNeuroscience%26rft.stitle%253DJ.%2BNeurosci.%26rft.aulast%253DFernandez%26rft.auinit1%253DG.%26rft.volume%253D18%26rft.issue%253D5%26rft.spage%253D1841%26rft.epage%253D1847%26rft.atitle%253DSuccessful%2BVerbal%2BEncoding%2Binto%2BEpisodic%2BMemory%2BEngages%2Bthe%2BPosterior%2BHippocampus%253A%2BA%2BParametrically%2BAnalyzed%2BFunctional%2BMagnetic%2BResonance%2BImaging%2BStudy%26rft_id%253Dinfo%253Apmid%252F9465008%26rft.genre%253Darticle%26rft_val_fmt%253Dinfo%253Aofi%252Ffmt%253Akev%253Amtx%253Ajournal%26ctx_ver%253DZ39.88-2004%26url_ver%253DZ39.88-2004%26url_ctx_fmt%253Dinfo%253Aofi%252Ffmt%253Akev%253Amtx%253Actx\"><span>OpenUrl</span></a><a class=\"cit-ref-sprinkles cit-ref-sprinkles-ijlink\" href=\"/lookup/ijlink?linkType=ABST&amp;journalCode=jneuro&amp;resid=18/5/1841&amp;atom=%2Fsci%2F285%2F5433%2F1582.atom\"><span><span class=\"cit-reflinks-abstract\">Abstract</span><span class=\"cit-sep cit-reflinks-variant-name-sep\">/</span><span class=\"cit-reflinks-full-text\"><span class=\"free-full-text\">FREE </span>Full Text</span></span></a></div></div><div class=\"cit ref-cit ref-journal\" data-doi=\"10.1002/(SICI)1098-1063(1999)9:1&lt;35::AID-HIPO4&gt;3.0.CO;2-Z\" id=\"cit-285.5433.1582.8\"><div class=\"cit-metadata\"><ol class=\"cit-auth-list\"><li><span class=\"cit-auth\"> <span class=\"cit-name-given-names\">G.</span> <span class=\"cit-name-surname\">Fernández</span></span>, </li><li><span class=\"cit-auth\"> <span class=\"cit-name-given-names\">J. B.</span> <span class=\"cit-name-surname\">Brewer</span></span>, </li><li><span class=\"cit-auth\"> <span class=\"cit-name-given-names\">Z.</span> <span class=\"cit-name-surname\">Zhao</span></span>, </li><li><span class=\"cit-auth\"> <span class=\"cit-name-given-names\">G. H.</span> <span class=\"cit-name-surname\">Glover</span></span>, </li><li><span class=\"cit-auth\"> <span class=\"cit-name-given-names\">J. D. E.</span> <span class=\"cit-name-surname\">Gabrieli</span></span></li></ol><cite>, <abbr class=\"cit-jnl-abbrev\">Hippocampus</abbr> <span class=\"cit-vol\">9</span>, <span class=\"cit-fpage\">35</span> (<span class=\"cit-pub-date\">1999</span>);</cite></div><div class=\"cit-extra\"><a class=\"cit-ref-sprinkles cit-ref-sprinkles-openurl cit-ref-sprinkles-open-url\" href=\"{openurl}?query=rft.jtitle%253DHippocampus%26rft.stitle%253DHippocampus%26rft.aulast%253DFern%25C3%25A1ndez%26rft.auinit1%253DG.%26rft.volume%253D9%26rft.issue%253D1%26rft.spage%253D35%26rft.epage%253D44%26rft.atitle%253DLevel%2Bof%2Bsustained%2Bentorhinal%2Bactivity%2Bat%2Bstudy%2Bcorrelates%2Bwith%2Bsubsequent%2Bcued-recall%2Bperformance%253A%2Ba%2Bfunctional%2Bmagnetic%2Bresonance%2Bimaging%2Bstudy%2Bwith%2Bhigh%2Bacquisition%2Brate.%26rft_id%253Dinfo%253Adoi%252F10.1002%252F%2528SICI%25291098-1063%25281999%25299%253A1%253C35%253A%253AAID-HIPO4%253E3.0.CO%253B2-Z%26rft_id%253Dinfo%253Apmid%252F10088898%26rft.genre%253Darticle%26rft_val_fmt%253Dinfo%253Aofi%252Ffmt%253Akev%253Amtx%253Ajournal%26ctx_ver%253DZ39.88-2004%26url_ver%253DZ39.88-2004%26url_ctx_fmt%253Dinfo%253Aofi%252Ffmt%253Akev%253Amtx%253Actx\"><span>OpenUrl</span></a><a class=\"cit-ref-sprinkles cit-ref-sprinkles-doi cit-ref-sprinkles-crossref\" href=\"/lookup/external-ref?access_num=10.1002/(SICI)1098-1063(1999)9:1&lt;35::AID-HIPO4&gt;3.0.CO;2-Z&amp;link_type=DOI\"><span>CrossRef</span></a><a class=\"cit-ref-sprinkles cit-ref-sprinkles-medline\" href=\"/lookup/external-ref?access_num=10088898&amp;link_type=MED&amp;atom=%2Fsci%2F285%2F5433%2F1582.atom\"><span>PubMed</span></a><a class=\"cit-ref-sprinkles cit-ref-sprinkles-newisilink cit-ref-sprinkles-webofscience\" href=\"/lookup/external-ref?access_num=000079002000004&amp;link_type=ISI\"><span>Web of Science</span></a></div></div><div class=\"cit ref-cit ref-journal\" data-doi=\"10.1073/pnas.96.10.5884\" id=\"cit-285.5433.1582.9\"><div class=\"cit-metadata\"><ol class=\"cit-auth-list\"><li><span class=\"cit-auth\"> <span class=\"cit-name-given-names\">K.</span> <span class=\"cit-name-surname\">Henke</span></span>, </li><li><span class=\"cit-auth\"> <span class=\"cit-name-given-names\">B.</span> <span class=\"cit-name-surname\">Weber</span></span>, </li><li><span class=\"cit-auth\"> <span class=\"cit-name-given-names\">S.</span> <span class=\"cit-name-surname\">Kneifel</span></span>, </li><li><span class=\"cit-auth\"> <span class=\"cit-name-given-names\">H. G.</span> <span class=\"cit-name-surname\">Wieser</span></span>, </li><li><span class=\"cit-auth\"> <span class=\"cit-name-given-names\">A.</span> <span class=\"cit-name-surname\">Buck</span></span></li></ol><cite>, <abbr class=\"cit-jnl-abbrev\">Proc. Natl. Acad. Sci. U.S.A.</abbr> <span class=\"cit-vol\">96</span>, <span class=\"cit-fpage\">5884</span> (<span class=\"cit-pub-date\">1999</span>).</cite></div><div class=\"cit-extra\"><a class=\"cit-ref-sprinkles cit-ref-sprinkles-openurl cit-ref-sprinkles-open-url\" href=\"{openurl}?query=rft.jtitle%253DPNAS%26rft.stitle%253DProc.%2BNatl.%2BAcad.%2BSci.%2BUSA%26rft.aulast%253DHenke%26rft.auinit1%253DK.%26rft.volume%253D96%26rft.issue%253D10%26rft.spage%253D5884%26rft.epage%253D5889%26rft.atitle%253DHuman%2Bhippocampus%2Bassociates%2Binformation%2Bin%2Bmemory%26rft_id%253Dinfo%253Adoi%252F10.1073%252Fpnas.96.10.5884%26rft_id%253Dinfo%253Apmid%252F10318979%26rft.genre%253Darticle%26rft_val_fmt%253Dinfo%253Aofi%252Ffmt%253Akev%253Amtx%253Ajournal%26ctx_ver%253DZ39.88-2004%26url_ver%253DZ39.88-2004%26url_ctx_fmt%253Dinfo%253Aofi%252Ffmt%253Akev%253Amtx%253Actx\"><span>OpenUrl</span></a><a class=\"cit-ref-sprinkles cit-ref-sprinkles-ijlink\" href=\"/lookup/ijlink?linkType=ABST&amp;journalCode=pnas&amp;resid=96/10/5884&amp;atom=%2Fsci%2F285%2F5433%2F1582.atom\"><span><span class=\"cit-reflinks-abstract\">Abstract</span><span class=\"cit-sep cit-reflinks-variant-name-sep\">/</span><span class=\"cit-reflinks-full-text\"><span class=\"free-full-text\">FREE </span>Full Text</span></span></a></div></div></li><li><a class=\"rev-xref-ref\" href=\"#xref-ref-6-1\" id=\"ref-6\" title=\"View reference 6 in text\">↵</a><div class=\"cit ref-cit ref-other\" id=\"cit-285.5433.1582.10\"><div class=\"cit-metadata unstructured\">D. G. Amaral and R. Insausti, in <em>The Human Nervous System</em>, G. Paxinos, Ed. (Academic Press, San Diego, CA, 1990), pp. 711–755;</div><div class=\"cit-extra\"></div></div><div class=\"cit ref-cit ref-journal\" id=\"cit-285.5433.1582.11\"><div class=\"cit-metadata\"><ol class=\"cit-auth-list\"><li><span class=\"cit-auth\"> <span class=\"cit-name-given-names\">W. A.</span> <span class=\"cit-name-surname\">Suzuki</span></span>, </li><li><span class=\"cit-auth\"> <span class=\"cit-name-given-names\">D. G.</span> <span class=\"cit-name-surname\">Amaral</span></span></li></ol><cite>, <abbr class=\"cit-jnl-abbrev\">J. Neurosci.</abbr> <span class=\"cit-vol\">14</span>, <span class=\"cit-fpage\">1856</span> (<span class=\"cit-pub-date\">1994</span>).</cite></div><div class=\"cit-extra\"><a class=\"cit-ref-sprinkles cit-ref-sprinkles-openurl cit-ref-sprinkles-open-url\" href=\"{openurl}?query=rft.jtitle%253DJournal%2Bof%2BNeuroscience%26rft.stitle%253DJ.%2BNeurosci.%26rft.aulast%253DSuzuki%26rft.auinit1%253DW.%26rft.volume%253D14%26rft.issue%253D3%26rft.spage%253D1856%26rft.epage%253D1877%26rft.atitle%253DTopographic%2Borganization%2Bof%2Bthe%2Breciprocal%2Bconnections%2Bbetween%2Bthe%2Bmonkey%2Bentorhinal%2Bcortex%2Band%2Bthe%2Bperirhinal%2Band%2Bparahippocampal%2Bcortices%26rft_id%253Dinfo%253Apmid%252F8126576%26rft.genre%253Darticle%26rft_val_fmt%253Dinfo%253Aofi%252Ffmt%253Akev%253Amtx%253Ajournal%26ctx_ver%253DZ39.88-2004%26url_ver%253DZ39.88-2004%26url_ctx_fmt%253Dinfo%253Aofi%252Ffmt%253Akev%253Amtx%253Actx\"><span>OpenUrl</span></a><a class=\"cit-ref-sprinkles cit-ref-sprinkles-ijlink\" href=\"/lookup/ijlink?linkType=ABST&amp;journalCode=jneuro&amp;resid=14/3/1856&amp;atom=%2Fsci%2F285%2F5433%2F1582.atom\"><span><span class=\"cit-reflinks-abstract\">Abstract</span></span></a></div></div></li><li><a class=\"rev-xref-ref\" href=\"#xref-ref-7-1\" id=\"ref-7\" title=\"View reference 7 in text\">↵</a><div class=\"cit ref-cit ref-journal\" data-doi=\"10.1002/(SICI)1098-1063(1998)8:4&lt;313::AID-HIPO1&gt;3.0.CO;2-I\" id=\"cit-285.5433.1582.12\"><div class=\"cit-metadata\"><ol class=\"cit-auth-list\"><li><span class=\"cit-auth\"> <span class=\"cit-name-given-names\">M.</span> <span class=\"cit-name-surname\">Lepage</span></span>, </li><li><span class=\"cit-auth\"> <span class=\"cit-name-given-names\">R.</span> <span class=\"cit-name-surname\">Habib</span></span>, </li><li><span class=\"cit-auth\"> <span class=\"cit-name-given-names\">E.</span> <span class=\"cit-name-surname\">Tulving</span></span></li></ol><cite>, <abbr class=\"cit-jnl-abbrev\">Hippocampus</abbr> <span class=\"cit-vol\">8</span>, <span class=\"cit-fpage\">313</span> (<span class=\"cit-pub-date\">1998</span>);</cite></div><div class=\"cit-extra\"><a class=\"cit-ref-sprinkles cit-ref-sprinkles-openurl cit-ref-sprinkles-open-url\" href=\"{openurl}?query=rft.jtitle%253DHippocampus%26rft.stitle%253DHippocampus%26rft.aulast%253DLepage%26rft.auinit1%253DM.%26rft.volume%253D8%26rft.issue%253D4%26rft.spage%253D313%26rft.epage%253D322%26rft.atitle%253DHippocampal%2BPET%2Bactivations%2Bof%2Bmemory%2Bencoding%2Band%2Bretrieval%253A%2Bthe%2BHIPER%2Bmodel.%26rft_id%253Dinfo%253Adoi%252F10.1002%252F%2528SICI%25291098-1063%25281998%25298%253A4%253C313%253A%253AAID-HIPO1%253E3.0.CO%253B2-I%26rft_id%253Dinfo%253Apmid%252F9744418%26rft.genre%253Darticle%26rft_val_fmt%253Dinfo%253Aofi%252Ffmt%253Akev%253Amtx%253Ajournal%26ctx_ver%253DZ39.88-2004%26url_ver%253DZ39.88-2004%26url_ctx_fmt%253Dinfo%253Aofi%252Ffmt%253Akev%253Amtx%253Actx\"><span>OpenUrl</span></a><a class=\"cit-ref-sprinkles cit-ref-sprinkles-doi cit-ref-sprinkles-crossref\" href=\"/lookup/external-ref?access_num=10.1002/(SICI)1098-1063(1998)8:4&lt;313::AID-HIPO1&gt;3.0.CO;2-I&amp;link_type=DOI\"><span>CrossRef</span></a><a class=\"cit-ref-sprinkles cit-ref-sprinkles-medline\" href=\"/lookup/external-ref?access_num=9744418&amp;link_type=MED&amp;atom=%2Fsci%2F285%2F5433%2F1582.atom\"><span>PubMed</span></a><a class=\"cit-ref-sprinkles cit-ref-sprinkles-newisilink cit-ref-sprinkles-webofscience\" href=\"/lookup/external-ref?access_num=000075732900001&amp;link_type=ISI\"><span>Web of Science</span></a></div></div><div class=\"cit ref-cit ref-journal\" id=\"cit-285.5433.1582.13\"><div class=\"cit-metadata\"><ol class=\"cit-auth-list\"><li><span class=\"cit-auth\"> <span class=\"cit-name-given-names\">D. L.</span> <span class=\"cit-name-surname\">Schacter</span></span>, </li><li><span class=\"cit-auth\"> <span class=\"cit-name-given-names\">A. D.</span> <span class=\"cit-name-surname\">Wagner</span></span></li></ol><cite>, <span class=\"cit-vol\">9</span>, <span class=\"cit-fpage\">7</span> (<span class=\"cit-pub-date\">1999</span>).</cite></div><div class=\"cit-extra\"></div></div></li><li><a class=\"rev-xref-ref\" href=\"#xref-ref-8-1\" id=\"ref-8\" title=\"View reference 8 in text\">↵</a><div class=\"cit ref-cit ref-journal\" data-doi=\"10.1002/(SICI)1098-1063(1998)8:3&lt;205::AID-HIPO3&gt;3.0.CO;2-I\" id=\"cit-285.5433.1582.14\"><div class=\"cit-metadata\"><ol class=\"cit-auth-list\"><li><span class=\"cit-auth\"> <span class=\"cit-name-given-names\">L. R.</span> <span class=\"cit-name-surname\">Squire</span></span>, </li><li><span class=\"cit-auth\"> <span class=\"cit-name-given-names\">S. M.</span> <span class=\"cit-name-surname\">Zola</span></span></li></ol><cite>, <abbr class=\"cit-jnl-abbrev\">Hippocampus</abbr> <span class=\"cit-vol\">8</span>, <span class=\"cit-fpage\">205</span> (<span class=\"cit-pub-date\">1998</span>);</cite></div><div class=\"cit-extra\"><a class=\"cit-ref-sprinkles cit-ref-sprinkles-openurl cit-ref-sprinkles-open-url\" href=\"{openurl}?query=rft.jtitle%253DHippocampus%26rft.stitle%253DHippocampus%26rft.aulast%253DSquire%26rft.auinit1%253DL.%2BR.%26rft.volume%253D8%26rft.issue%253D3%26rft.spage%253D205%26rft.epage%253D211%26rft.atitle%253DEpisodic%2Bmemory%252C%2Bsemantic%2Bmemory%252C%2Band%2Bamnesia.%26rft_id%253Dinfo%253Adoi%252F10.1002%252F%2528SICI%25291098-1063%25281998%25298%253A3%253C205%253A%253AAID-HIPO3%253E3.0.CO%253B2-I%26rft_id%253Dinfo%253Apmid%252F9662135%26rft.genre%253Darticle%26rft_val_fmt%253Dinfo%253Aofi%252Ffmt%253Akev%253Amtx%253Ajournal%26ctx_ver%253DZ39.88-2004%26url_ver%253DZ39.88-2004%26url_ctx_fmt%253Dinfo%253Aofi%252Ffmt%253Akev%253Amtx%253Actx\"><span>OpenUrl</span></a><a class=\"cit-ref-sprinkles cit-ref-sprinkles-doi cit-ref-sprinkles-crossref\" href=\"/lookup/external-ref?access_num=10.1002/(SICI)1098-1063(1998)8:3&lt;205::AID-HIPO3&gt;3.0.CO;2-I&amp;link_type=DOI\"><span>CrossRef</span></a><a class=\"cit-ref-sprinkles cit-ref-sprinkles-medline\" href=\"/lookup/external-ref?access_num=9662135&amp;link_type=MED&amp;atom=%2Fsci%2F285%2F5433%2F1582.atom\"><span>PubMed</span></a><a class=\"cit-ref-sprinkles cit-ref-sprinkles-newisilink cit-ref-sprinkles-webofscience\" href=\"/lookup/external-ref?access_num=000074338600003&amp;link_type=ISI\"><span>Web of Science</span></a></div></div><div class=\"cit ref-cit ref-journal\" data-doi=\"10.1126/science.277.5324.376\" id=\"cit-285.5433.1582.15\"><div class=\"cit-metadata\"><ol class=\"cit-auth-list\"><li><span class=\"cit-auth\"> <span class=\"cit-name-given-names\">F.</span> <span class=\"cit-name-surname\">Vargha-Khadem</span></span> </li><li><span class=\"cit-etal\">et al.</span></li></ol><cite>, <abbr class=\"cit-jnl-abbrev\">Science</abbr> <span class=\"cit-vol\">277</span>, <span class=\"cit-fpage\">376</span> (<span class=\"cit-pub-date\">1997</span>);</cite></div><div class=\"cit-extra\"><a class=\"cit-ref-sprinkles cit-ref-sprinkles-openurl cit-ref-sprinkles-open-url\" href=\"{openurl}?query=rft.jtitle%253DScience%26rft.stitle%253DScience%26rft.aulast%253DVargha-Khadem%26rft.auinit1%253DF.%26rft.volume%253D277%26rft.issue%253D5324%26rft.spage%253D376%26rft.epage%253D380%26rft.atitle%253DDifferential%2BEffects%2Bof%2BEarly%2BHippocampal%2BPathology%2Bon%2BEpisodic%2Band%2BSemantic%2BMemory%26rft_id%253Dinfo%253Adoi%252F10.1126%252Fscience.277.5324.376%26rft_id%253Dinfo%253Apmid%252F9219696%26rft.genre%253Darticle%26rft_val_fmt%253Dinfo%253Aofi%252Ffmt%253Akev%253Amtx%253Ajournal%26ctx_ver%253DZ39.88-2004%26url_ver%253DZ39.88-2004%26url_ctx_fmt%253Dinfo%253Aofi%252Ffmt%253Akev%253Amtx%253Actx\"><span>OpenUrl</span></a><a class=\"cit-ref-sprinkles cit-ref-sprinkles-ijlink\" href=\"/lookup/ijlink?linkType=ABST&amp;journalCode=sci&amp;resid=277/5324/376&amp;atom=%2Fsci%2F285%2F5433%2F1582.atom\"><span><span class=\"cit-reflinks-abstract\">Abstract</span><span class=\"cit-sep cit-reflinks-variant-name-sep\">/</span><span class=\"cit-reflinks-full-text\"><span class=\"free-full-text\">FREE </span>Full Text</span></span></a></div></div><div class=\"cit ref-cit ref-journal\" id=\"cit-285.5433.1582.16\"><div class=\"cit-metadata\"><ol class=\"cit-auth-list\"><li><span class=\"cit-auth\"> <span class=\"cit-name-given-names\">S.</span> <span class=\"cit-name-surname\">Zola-Morgan</span></span>, </li><li><span class=\"cit-auth\"> <span class=\"cit-name-given-names\">L. R.</span> <span class=\"cit-name-surname\">Squire</span></span>, </li><li><span class=\"cit-auth\"> <span class=\"cit-name-given-names\">D. G.</span> <span class=\"cit-name-surname\">Amaral</span></span></li></ol><cite>, <abbr class=\"cit-jnl-abbrev\">J. Neurosci.</abbr> <span class=\"cit-vol\">6</span>, <span class=\"cit-fpage\">2950</span> (<span class=\"cit-pub-date\">1986</span>).</cite></div><div class=\"cit-extra\"><a class=\"cit-ref-sprinkles cit-ref-sprinkles-openurl cit-ref-sprinkles-open-url\" href=\"{openurl}?query=rft.jtitle%253DJournal%2Bof%2BNeuroscience%26rft.stitle%253DJ.%2BNeurosci.%26rft.aulast%253DZola-Morgan%26rft.auinit1%253DS%26rft.volume%253D6%26rft.issue%253D10%26rft.spage%253D2950%26rft.epage%253D2967%26rft.atitle%253DHuman%2Bamnesia%2Band%2Bthe%2Bmedial%2Btemporal%2Bregion%253A%2Benduring%2Bmemory%2Bimpairment%2Bfollowing%2Ba%2Bbilateral%2Blesion%2Blimited%2Bto%2Bfield%2BCA1%2Bof%2Bthe%2Bhippocampus%26rft_id%253Dinfo%253Apmid%252F3760943%26rft.genre%253Darticle%26rft_val_fmt%253Dinfo%253Aofi%252Ffmt%253Akev%253Amtx%253Ajournal%26ctx_ver%253DZ39.88-2004%26url_ver%253DZ39.88-2004%26url_ctx_fmt%253Dinfo%253Aofi%252Ffmt%253Akev%253Amtx%253Actx\"><span>OpenUrl</span></a><a class=\"cit-ref-sprinkles cit-ref-sprinkles-ijlink\" href=\"/lookup/ijlink?linkType=ABST&amp;journalCode=jneuro&amp;resid=6/10/2950&amp;atom=%2Fsci%2F285%2F5433%2F1582.atom\"><span><span class=\"cit-reflinks-abstract\">Abstract</span></span></a></div></div></li><li><a class=\"rev-xref-ref\" href=\"#xref-ref-9-1\" id=\"ref-9\" title=\"View reference 9 in text\">↵</a><div class=\"cit ref-cit ref-other\" id=\"cit-285.5433.1582.17\"><div class=\"cit-metadata unstructured\">J. P. Aggleton and M. W. Brown, <em>Behav. Brain. Sci.</em>, in press; N. J. Cohen and H. Eichenbaum, <em>Memory, Amnesia, and the Hippocampal System.</em> (MIT Press, Cambridge, MA, 1993);</div><div class=\"cit-extra\"></div></div><div class=\"cit ref-cit ref-journal\" data-doi=\"10.1017/S0140525X00035391\" id=\"cit-285.5433.1582.18\"><div class=\"cit-metadata\"><ol class=\"cit-auth-list\"><li><span class=\"cit-auth\"> <span class=\"cit-name-given-names\">H.</span> <span class=\"cit-name-surname\">Eichenbaum</span></span>, </li><li><span class=\"cit-auth\"> <span class=\"cit-name-given-names\">T.</span> <span class=\"cit-name-surname\">Otto</span></span>, </li><li><span class=\"cit-auth\"> <span class=\"cit-name-given-names\">N. J.</span> <span class=\"cit-name-surname\">Cohen</span></span></li></ol><cite>, <abbr class=\"cit-jnl-abbrev\">Behav. Brain Sci.</abbr> <span class=\"cit-vol\">17</span>, <span class=\"cit-fpage\">449</span> (<span class=\"cit-pub-date\">1994</span>);</cite></div><div class=\"cit-extra\"><a class=\"cit-ref-sprinkles cit-ref-sprinkles-openurl cit-ref-sprinkles-open-url\" href=\"{openurl}?query=rft.jtitle%253DBehav.%2BBrain%2BSci.%26rft.volume%253D17%26rft.spage%253D449%26rft_id%253Dinfo%253Adoi%252F10.1017%252FS0140525X00035391%26rft.genre%253Darticle%26rft_val_fmt%253Dinfo%253Aofi%252Ffmt%253Akev%253Amtx%253Ajournal%26ctx_ver%253DZ39.88-2004%26url_ver%253DZ39.88-2004%26url_ctx_fmt%253Dinfo%253Aofi%252Ffmt%253Akev%253Amtx%253Actx\"><span>OpenUrl</span></a><a class=\"cit-ref-sprinkles cit-ref-sprinkles-doi cit-ref-sprinkles-crossref\" href=\"/lookup/external-ref?access_num=10.1017/S0140525X00035391&amp;link_type=DOI\"><span>CrossRef</span></a><a class=\"cit-ref-sprinkles cit-ref-sprinkles-newisilink cit-ref-sprinkles-webofscience\" href=\"/lookup/external-ref?access_num=A1994PH24500037&amp;link_type=ISI\"><span>Web of Science</span></a></div></div><div class=\"cit ref-cit ref-journal\" data-doi=\"10.1098/rstb.1997.0132\" id=\"cit-285.5433.1582.19\"><div class=\"cit-metadata\"><ol class=\"cit-auth-list\"><li><span class=\"cit-auth\"> <span class=\"cit-name-given-names\">M.</span> <span class=\"cit-name-surname\">Mishkin</span></span>, </li><li><span class=\"cit-auth\"> <span class=\"cit-name-given-names\">W. A.</span> <span class=\"cit-name-surname\">Suzuki</span></span>, </li><li><span class=\"cit-auth\"> <span class=\"cit-name-given-names\">D. G.</span> <span class=\"cit-name-surname\">Gadian</span></span>, </li><li><span class=\"cit-auth\"> <span class=\"cit-name-given-names\">F.</span> <span class=\"cit-name-surname\">Vargha-Khadem</span></span></li></ol><cite>, <abbr class=\"cit-jnl-abbrev\">Philos. Trans. R. Soc. London Ser. B</abbr> <span class=\"cit-vol\">352</span>, <span class=\"cit-fpage\">1461</span> (<span class=\"cit-pub-date\">1997</span>);</cite></div><div class=\"cit-extra\"><a class=\"cit-ref-sprinkles cit-ref-sprinkles-openurl cit-ref-sprinkles-open-url\" href=\"{openurl}?query=rft.jtitle%253DPhilosophical%2BTransactions%2Bof%2Bthe%2BRoyal%2BSociety%2BB%253A%2BBiological%2BSciences%26rft.stitle%253DPhil%2BTrans%2BR%2BSoc%2BB%26rft.aulast%253DMishkin%26rft.auinit1%253DM.%26rft.volume%253D352%26rft.issue%253D1360%26rft.spage%253D1461%26rft.epage%253D1467%26rft.atitle%253DHierarchical%2Borganization%2Bof%2Bcognitive%2Bmemory%26rft_id%253Dinfo%253Adoi%252F10.1098%252Frstb.1997.0132%26rft_id%253Dinfo%253Apmid%252F9368934%26rft.genre%253Darticle%26rft_val_fmt%253Dinfo%253Aofi%252Ffmt%253Akev%253Amtx%253Ajournal%26ctx_ver%253DZ39.88-2004%26url_ver%253DZ39.88-2004%26url_ctx_fmt%253Dinfo%253Aofi%252Ffmt%253Akev%253Amtx%253Actx\"><span>OpenUrl</span></a><a class=\"cit-ref-sprinkles cit-ref-sprinkles-ijlink\" href=\"/lookup/ijlink?linkType=ABST&amp;journalCode=royptb&amp;resid=352/1360/1461&amp;atom=%2Fsci%2F285%2F5433%2F1582.atom\"><span><span class=\"cit-reflinks-abstract\">Abstract</span><span class=\"cit-sep cit-reflinks-variant-name-sep\">/</span><span class=\"cit-reflinks-full-text\"><span class=\"free-full-text\">FREE </span>Full Text</span></span></a></div></div><div class=\"cit ref-cit ref-journal\" data-doi=\"10.1002/hipo.450040410\" id=\"cit-285.5433.1582.20\"><div class=\"cit-metadata\"><ol class=\"cit-auth-list\"><li><span class=\"cit-auth\"> <span class=\"cit-name-given-names\">S.</span> <span class=\"cit-name-surname\">Zola-Morgan</span></span>, </li><li><span class=\"cit-auth\"> <span class=\"cit-name-given-names\">L. R.</span> <span class=\"cit-name-surname\">Squire</span></span>, </li><li><span class=\"cit-auth\"> <span class=\"cit-name-given-names\">S. J.</span> <span class=\"cit-name-surname\">Ramus</span></span></li></ol><cite>, <abbr class=\"cit-jnl-abbrev\">Hippocampus</abbr> <span class=\"cit-vol\">4</span>, <span class=\"cit-fpage\">483</span> (<span class=\"cit-pub-date\">1994</span>).</cite></div><div class=\"cit-extra\"><a class=\"cit-ref-sprinkles cit-ref-sprinkles-openurl cit-ref-sprinkles-open-url\" href=\"{openurl}?query=rft.jtitle%253DHippocampus%26rft.stitle%253DHippocampus%26rft.aulast%253DZola-Morgan%26rft.auinit1%253DS.%26rft.volume%253D4%26rft.issue%253D4%26rft.spage%253D483%26rft.epage%253D495%26rft.atitle%253DSeverity%2Bof%2Bmemory%2Bimpairment%2Bin%2Bmonkeys%2Bas%2Ba%2Bfunction%2Bof%2Blocus%2Band%2Bextent%2Bof%2Bdamage%2Bwithin%2Bthe%2Bmedial%2Btemporal%2Blobe%2Bmemory%2Bsystem.%26rft_id%253Dinfo%253Adoi%252F10.1002%252Fhipo.450040410%26rft_id%253Dinfo%253Apmid%252F7874239%26rft.genre%253Darticle%26rft_val_fmt%253Dinfo%253Aofi%252Ffmt%253Akev%253Amtx%253Ajournal%26ctx_ver%253DZ39.88-2004%26url_ver%253DZ39.88-2004%26url_ctx_fmt%253Dinfo%253Aofi%252Ffmt%253Akev%253Amtx%253Actx\"><span>OpenUrl</span></a><a class=\"cit-ref-sprinkles cit-ref-sprinkles-doi cit-ref-sprinkles-crossref\" href=\"/lookup/external-ref?access_num=10.1002/hipo.450040410&amp;link_type=DOI\"><span>CrossRef</span></a><a class=\"cit-ref-sprinkles cit-ref-sprinkles-medline\" href=\"/lookup/external-ref?access_num=7874239&amp;link_type=MED&amp;atom=%2Fsci%2F285%2F5433%2F1582.atom\"><span>PubMed</span></a><a class=\"cit-ref-sprinkles cit-ref-sprinkles-newisilink cit-ref-sprinkles-webofscience\" href=\"/lookup/external-ref?access_num=A1994PP27000009&amp;link_type=ISI\"><span>Web of Science</span></a></div></div></li><li><a class=\"rev-xref-ref\" href=\"#xref-ref-10-1\" id=\"ref-10\" title=\"View reference 10 in text\">↵</a><div class=\"cit ref-cit ref-journal\" data-doi=\"10.1097/00001756-199709080-00018\" id=\"cit-285.5433.1582.21\"><div class=\"cit-metadata\"><ol class=\"cit-auth-list\"><li><span class=\"cit-auth\"> <span class=\"cit-name-given-names\">U.</span> <span class=\"cit-name-surname\">Gleissner</span></span>, </li><li><span class=\"cit-auth\"> <span class=\"cit-name-given-names\">C.</span> <span class=\"cit-name-surname\">Helmstaedter</span></span>, </li><li><span class=\"cit-auth\"> <span class=\"cit-name-given-names\">M.</span> <span class=\"cit-name-surname\">Kurthen</span></span>, </li><li><span class=\"cit-auth\"> <span class=\"cit-name-given-names\">C. E.</span> <span class=\"cit-name-surname\">Elger</span></span></li></ol><cite>, <abbr class=\"cit-jnl-abbrev\">Neuroreport</abbr> <span class=\"cit-vol\">8</span>, <span class=\"cit-fpage\">2893</span> (<span class=\"cit-pub-date\">1997</span>);</cite></div><div class=\"cit-extra\"><a class=\"cit-ref-sprinkles cit-ref-sprinkles-openurl cit-ref-sprinkles-open-url\" href=\"{openurl}?query=rft.jtitle%253DNeuroreport%26rft.stitle%253DNeuroreport%26rft.aulast%253DGleissner%26rft.auinit1%253DU.%26rft.volume%253D8%26rft.issue%253D13%26rft.spage%253D2893%26rft.epage%253D2896%26rft.atitle%253DEvidence%2Bof%2Bvery%2Bfast%2Bmemory%2Bconsolidation%253A%2Ban%2Bintracarotid%2Bamytal%2Bstudy.%26rft_id%253Dinfo%253Adoi%252F10.1097%252F00001756-199709080-00018%26rft_id%253Dinfo%253Apmid%252F9376526%26rft.genre%253Darticle%26rft_val_fmt%253Dinfo%253Aofi%252Ffmt%253Akev%253Amtx%253Ajournal%26ctx_ver%253DZ39.88-2004%26url_ver%253DZ39.88-2004%26url_ctx_fmt%253Dinfo%253Aofi%252Ffmt%253Akev%253Amtx%253Actx\"><span>OpenUrl</span></a><a class=\"cit-ref-sprinkles cit-ref-sprinkles-doi cit-ref-sprinkles-crossref\" href=\"/lookup/external-ref?access_num=10.1097/00001756-199709080-00018&amp;link_type=DOI\"><span>CrossRef</span></a><a class=\"cit-ref-sprinkles cit-ref-sprinkles-medline\" href=\"/lookup/external-ref?access_num=9376526&amp;link_type=MED&amp;atom=%2Fsci%2F285%2F5433%2F1582.atom\"><span>PubMed</span></a><a class=\"cit-ref-sprinkles cit-ref-sprinkles-newisilink cit-ref-sprinkles-webofscience\" href=\"/lookup/external-ref?access_num=A1997XV84400018&amp;link_type=ISI\"><span>Web of Science</span></a></div></div><div class=\"cit ref-cit ref-journal\" id=\"cit-285.5433.1582.22\"><div class=\"cit-metadata\"><ol class=\"cit-auth-list\"><li><span class=\"cit-auth\"> <span class=\"cit-name-given-names\">J. L.</span> <span class=\"cit-name-surname\">Ringo</span></span></li></ol><cite>, <abbr class=\"cit-jnl-abbrev\">J. Neurophysiol.</abbr> <span class=\"cit-vol\">73</span>, <span class=\"cit-fpage\">1712</span> (<span class=\"cit-pub-date\">1995</span>).</cite></div><div class=\"cit-extra\"><a class=\"cit-ref-sprinkles cit-ref-sprinkles-openurl cit-ref-sprinkles-open-url\" href=\"{openurl}?query=rft.jtitle%253DJournal%2Bof%2BNeurophysiology%26rft.stitle%253DJ.%2BNeurophysiol.%26rft.aulast%253DRingo%26rft.auinit1%253DJ.%2BL.%26rft.volume%253D73%26rft.issue%253D4%26rft.spage%253D1712%26rft.epage%253D1715%26rft.atitle%253DBrevity%2Bof%2Bprocessing%2Bin%2Ba%2Bmnemonic%2Btask%26rft_id%253Dinfo%253Apmid%252F7643177%26rft.genre%253Darticle%26rft_val_fmt%253Dinfo%253Aofi%252Ffmt%253Akev%253Amtx%253Ajournal%26ctx_ver%253DZ39.88-2004%26url_ver%253DZ39.88-2004%26url_ctx_fmt%253Dinfo%253Aofi%252Ffmt%253Akev%253Amtx%253Actx\"><span>OpenUrl</span></a><a class=\"cit-ref-sprinkles cit-ref-sprinkles-ijlink\" href=\"/lookup/ijlink?linkType=ABST&amp;journalCode=jn&amp;resid=73/4/1712&amp;atom=%2Fsci%2F285%2F5433%2F1582.atom\"><span><span class=\"cit-reflinks-abstract\">Abstract</span><span class=\"cit-sep cit-reflinks-variant-name-sep\">/</span><span class=\"cit-reflinks-full-text\"><span class=\"free-full-text\">FREE </span>Full Text</span></span></a></div></div></li><li><a class=\"rev-xref-ref\" href=\"#xref-ref-11-1\" id=\"ref-11\" title=\"View reference 11 in text\">↵</a><div class=\"cit ref-cit ref-journal\" data-doi=\"10.1016/0013-4694(87)90124-6\" id=\"cit-285.5433.1582.23\"><div class=\"cit-metadata\"><ol class=\"cit-auth-list\"><li><span class=\"cit-auth\"> <span class=\"cit-name-given-names\">K. A.</span> <span class=\"cit-name-surname\">Paller</span></span>, </li><li><span class=\"cit-auth\"> <span class=\"cit-name-given-names\">M.</span> <span class=\"cit-name-surname\">Kutas</span></span>, </li><li><span class=\"cit-auth\"> <span class=\"cit-name-given-names\">A. R.</span> <span class=\"cit-name-surname\">Mayes</span></span></li></ol><cite>, <abbr class=\"cit-jnl-abbrev\">Electroencephalogr. Clin. Neurophysiol.</abbr> <span class=\"cit-vol\">67</span>, <span class=\"cit-fpage\">360</span> (<span class=\"cit-pub-date\">1987</span>).</cite></div><div class=\"cit-extra\"><a class=\"cit-ref-sprinkles cit-ref-sprinkles-openurl cit-ref-sprinkles-open-url\" href=\"{openurl}?query=rft.jtitle%253DElectroencephalography%2Band%2Bclinical%2Bneurophysiology%26rft.stitle%253DElectroencephalogr%2BClin%2BNeurophysiol%26rft.aulast%253DPaller%26rft.auinit1%253DK.%2BA.%26rft.volume%253D67%26rft.issue%253D4%26rft.spage%253D360%26rft.epage%253D371%26rft.atitle%253DNeural%2Bcorrelates%2Bof%2Bencoding%2Bin%2Ban%2Bincidental%2Blearning%2Bparadigm.%26rft_id%253Dinfo%253Adoi%252F10.1016%252F0013-4694%252887%252990124-6%26rft_id%253Dinfo%253Apmid%252F2441971%26rft.genre%253Darticle%26rft_val_fmt%253Dinfo%253Aofi%252Ffmt%253Akev%253Amtx%253Ajournal%26ctx_ver%253DZ39.88-2004%26url_ver%253DZ39.88-2004%26url_ctx_fmt%253Dinfo%253Aofi%252Ffmt%253Akev%253Amtx%253Actx\"><span>OpenUrl</span></a><a class=\"cit-ref-sprinkles cit-ref-sprinkles-doi cit-ref-sprinkles-crossref\" href=\"/lookup/external-ref?access_num=10.1016/0013-4694(87)90124-6&amp;link_type=DOI\"><span>CrossRef</span></a><a class=\"cit-ref-sprinkles cit-ref-sprinkles-medline\" href=\"/lookup/external-ref?access_num=2441971&amp;link_type=MED&amp;atom=%2Fsci%2F285%2F5433%2F1582.atom\"><span>PubMed</span></a><a class=\"cit-ref-sprinkles cit-ref-sprinkles-newisilink cit-ref-sprinkles-webofscience\" href=\"/lookup/external-ref?access_num=A1987K116500010&amp;link_type=ISI\"><span>Web of Science</span></a></div></div></li><li><a class=\"rev-xref-ref\" href=\"#xref-ref-12-1\" id=\"ref-12\" title=\"View reference 12 in text\">↵</a><div class=\"cit ref-cit ref-journal\" data-doi=\"10.1017/S0048577298970500\" id=\"cit-285.5433.1582.24\"><div class=\"cit-metadata\"><ol class=\"cit-auth-list\"><li><span class=\"cit-auth\"> <span class=\"cit-name-given-names\">G.</span> <span class=\"cit-name-surname\">Fernández</span></span> </li><li><span class=\"cit-etal\">et al.</span></li></ol><cite>, <abbr class=\"cit-jnl-abbrev\">Psychophysiology</abbr> <span class=\"cit-vol\">35</span>, <span class=\"cit-fpage\">709</span> (<span class=\"cit-pub-date\">1998</span>);</cite></div><div class=\"cit-extra\"><a class=\"cit-ref-sprinkles cit-ref-sprinkles-openurl cit-ref-sprinkles-open-url\" href=\"{openurl}?query=rft.jtitle%253DPsychophysiology%26rft.volume%253D35%26rft.spage%253D709%26rft_id%253Dinfo%253Adoi%252F10.1017%252FS0048577298970500%26rft_id%253Dinfo%253Apmid%252F9844432%26rft.genre%253Darticle%26rft_val_fmt%253Dinfo%253Aofi%252Ffmt%253Akev%253Amtx%253Ajournal%26ctx_ver%253DZ39.88-2004%26url_ver%253DZ39.88-2004%26url_ctx_fmt%253Dinfo%253Aofi%252Ffmt%253Akev%253Amtx%253Actx\"><span>OpenUrl</span></a><a class=\"cit-ref-sprinkles cit-ref-sprinkles-doi cit-ref-sprinkles-crossref\" href=\"/lookup/external-ref?access_num=10.1017/S0048577298970500&amp;link_type=DOI\"><span>CrossRef</span></a><a class=\"cit-ref-sprinkles cit-ref-sprinkles-medline\" href=\"/lookup/external-ref?access_num=9844432&amp;link_type=MED&amp;atom=%2Fsci%2F285%2F5433%2F1582.atom\"><span>PubMed</span></a><a class=\"cit-ref-sprinkles cit-ref-sprinkles-newisilink cit-ref-sprinkles-webofscience\" href=\"/lookup/external-ref?access_num=000077154400008&amp;link_type=ISI\"><span>Web of Science</span></a></div></div><div class=\"cit ref-cit ref-journal\" data-doi=\"10.1016/0749-596X(86)90022-7\" id=\"cit-285.5433.1582.25\"><div class=\"cit-metadata\"><ol class=\"cit-auth-list\"><li><span class=\"cit-auth\"> <span class=\"cit-name-given-names\">H. J.</span> <span class=\"cit-name-surname\">Neville</span></span>, </li><li><span class=\"cit-auth\"> <span class=\"cit-name-given-names\">M.</span> <span class=\"cit-name-surname\">Kutas</span></span>, </li><li><span class=\"cit-auth\"> <span class=\"cit-name-given-names\">G.</span> <span class=\"cit-name-surname\">Chesney</span></span>, </li><li><span class=\"cit-auth\"> <span class=\"cit-name-given-names\">A. L.</span> <span class=\"cit-name-surname\">Schmidt</span></span></li></ol><cite>, <abbr class=\"cit-jnl-abbrev\">J. Mem. Lang.</abbr> <span class=\"cit-vol\">25</span>, <span class=\"cit-fpage\">75</span> (<span class=\"cit-pub-date\">1986</span>);</cite></div><div class=\"cit-extra\"><a class=\"cit-ref-sprinkles cit-ref-sprinkles-openurl cit-ref-sprinkles-open-url\" href=\"{openurl}?query=rft.jtitle%253DJ.%2BMem.%2BLang.%26rft.volume%253D25%26rft.spage%253D75%26rft_id%253Dinfo%253Adoi%252F10.1016%252F0749-596X%252886%252990022-7%26rft.genre%253Darticle%26rft_val_fmt%253Dinfo%253Aofi%252Ffmt%253Akev%253Amtx%253Ajournal%26ctx_ver%253DZ39.88-2004%26url_ver%253DZ39.88-2004%26url_ctx_fmt%253Dinfo%253Aofi%252Ffmt%253Akev%253Amtx%253Actx\"><span>OpenUrl</span></a><a class=\"cit-ref-sprinkles cit-ref-sprinkles-doi cit-ref-sprinkles-crossref\" href=\"/lookup/external-ref?access_num=10.1016/0749-596X(86)90022-7&amp;link_type=DOI\"><span>CrossRef</span></a><a class=\"cit-ref-sprinkles cit-ref-sprinkles-newisilink cit-ref-sprinkles-webofscience\" href=\"/lookup/external-ref?access_num=A1986A203100005&amp;link_type=ISI\"><span>Web of Science</span></a></div></div><div class=\"cit ref-cit ref-journal\" data-doi=\"10.1037/0278-7393.16.6.1021\" id=\"cit-285.5433.1582.26\"><div class=\"cit-metadata\"><ol class=\"cit-auth-list\"><li><span class=\"cit-auth\"> <span class=\"cit-name-given-names\">K. A.</span> <span class=\"cit-name-surname\">Paller</span></span></li></ol><cite>, <abbr class=\"cit-jnl-abbrev\">J. Exp. Psychol. Learn. Mem. Cogn.</abbr> <span class=\"cit-vol\">16</span>, <span class=\"cit-fpage\">1021</span> (<span class=\"cit-pub-date\">1990</span>) .</cite></div><div class=\"cit-extra\"><a class=\"cit-ref-sprinkles cit-ref-sprinkles-openurl cit-ref-sprinkles-open-url\" href=\"{openurl}?query=rft.jtitle%253DJournal%2Bof%2Bexperimental%2Bpsychology.%2BLearning%252C%2Bmemory%252C%2Band%2Bcognition%26rft.stitle%253DJ%2BExp%2BPsychol%2BLearn%2BMem%2BCogn%26rft.aulast%253DPaller%26rft.auinit1%253DK.%2BA.%26rft.volume%253D16%26rft.issue%253D6%26rft.spage%253D1021%26rft.epage%253D1032%26rft.atitle%253DRecall%2Band%2Bstem-completion%2Bpriming%2Bhave%2Bdifferent%2Belectrophysiological%2Bcorrelates%2Band%2Bare%2Bmodified%2Bdifferentially%2Bby%2Bdirected%2Bforgetting.%26rft_id%253Dinfo%253Adoi%252F10.1037%252F0278-7393.16.6.1021%26rft_id%253Dinfo%253Apmid%252F2148576%26rft.genre%253Darticle%26rft_val_fmt%253Dinfo%253Aofi%252Ffmt%253Akev%253Amtx%253Ajournal%26ctx_ver%253DZ39.88-2004%26url_ver%253DZ39.88-2004%26url_ctx_fmt%253Dinfo%253Aofi%252Ffmt%253Akev%253Amtx%253Actx\"><span>OpenUrl</span></a><a class=\"cit-ref-sprinkles cit-ref-sprinkles-doi cit-ref-sprinkles-crossref\" href=\"/lookup/external-ref?access_num=10.1037/0278-7393.16.6.1021&amp;link_type=DOI\"><span>CrossRef</span></a><a class=\"cit-ref-sprinkles cit-ref-sprinkles-medline\" href=\"/lookup/external-ref?access_num=2148576&amp;link_type=MED&amp;atom=%2Fsci%2F285%2F5433%2F1582.atom\"><span>PubMed</span></a><a class=\"cit-ref-sprinkles cit-ref-sprinkles-newisilink cit-ref-sprinkles-webofscience\" href=\"/lookup/external-ref?access_num=A1990EK45600007&amp;link_type=ISI\"><span>Web of Science</span></a></div></div></li><li><a class=\"rev-xref-ref\" href=\"#xref-ref-13-1\" id=\"ref-13\" title=\"View reference 13 in text\">↵</a><div class=\"cit ref-cit ref-other\" id=\"cit-285.5433.1582.27\"><div class=\"cit-metadata unstructured\">T. Picton, O. G. Lins, M. Scherg, in <em>Handbook of Neuropsychology,</em> F. Boller and J. Grafman, Eds. (Elsevier, Amsterdam, 1995), vol. 10, pp. 3–73.</div><div class=\"cit-extra\"></div></div></li><li><a class=\"rev-xref-ref\" href=\"#xref-ref-14-1\" id=\"ref-14\" title=\"View reference 14 in text\">↵</a><div class=\"cit ref-cit ref-journal\" id=\"cit-285.5433.1582.28\"><div class=\"cit-metadata\"><ol class=\"cit-auth-list\"><li><span class=\"cit-auth\"> <span class=\"cit-name-given-names\">G.</span> <span class=\"cit-name-surname\">McCarthy</span></span>, </li><li><span class=\"cit-auth\"> <span class=\"cit-name-given-names\">A. C.</span> <span class=\"cit-name-surname\">Nobre</span></span>, </li><li><span class=\"cit-auth\"> <span class=\"cit-name-given-names\">S.</span> <span class=\"cit-name-surname\">Bentin</span></span>, </li><li><span class=\"cit-auth\"> <span class=\"cit-name-given-names\">D. D.</span> <span class=\"cit-name-surname\">Spencer</span></span></li></ol><cite>, <abbr class=\"cit-jnl-abbrev\">J. Neurosci.</abbr> <span class=\"cit-vol\">15</span>, <span class=\"cit-fpage\">1080</span> (<span class=\"cit-pub-date\">1995</span>).</cite></div><div class=\"cit-extra\"><a class=\"cit-ref-sprinkles cit-ref-sprinkles-openurl cit-ref-sprinkles-open-url\" href=\"{openurl}?query=rft.jtitle%253DJournal%2Bof%2BNeuroscience%26rft.stitle%253DJ.%2BNeurosci.%26rft.aulast%253DMcCarthy%26rft.auinit1%253DG%26rft.volume%253D15%26rft.issue%253D2%26rft.spage%253D1080%26rft.epage%253D1089%26rft.atitle%253DLanguage-related%2Bfield%2Bpotentials%2Bin%2Bthe%2Banterior-medial%2Btemporal%2Blobe%253A%2BI.%2BIntracranial%2Bdistribution%2Band%2Bneural%2Bgenerators%26rft_id%253Dinfo%253Apmid%252F7869084%26rft.genre%253Darticle%26rft_val_fmt%253Dinfo%253Aofi%252Ffmt%253Akev%253Amtx%253Ajournal%26ctx_ver%253DZ39.88-2004%26url_ver%253DZ39.88-2004%26url_ctx_fmt%253Dinfo%253Aofi%252Ffmt%253Akev%253Amtx%253Actx\"><span>OpenUrl</span></a><a class=\"cit-ref-sprinkles cit-ref-sprinkles-ijlink\" href=\"/lookup/ijlink?linkType=ABST&amp;journalCode=jneuro&amp;resid=15/2/1080&amp;atom=%2Fsci%2F285%2F5433%2F1582.atom\"><span><span class=\"cit-reflinks-abstract\">Abstract</span></span></a></div></div></li><li><a class=\"rev-xref-ref\" href=\"#xref-ref-15-1\" id=\"ref-15\" title=\"View reference 15 in text\">↵</a><div class=\"cit ref-cit ref-journal\" data-doi=\"10.1016/S0028-3932(96)00110-8\" id=\"cit-285.5433.1582.29\"><div class=\"cit-metadata\"><ol class=\"cit-auth-list\"><li><span class=\"cit-auth\"> <span class=\"cit-name-given-names\">C. E.</span> <span class=\"cit-name-surname\">Elger</span></span> </li><li><span class=\"cit-etal\">et al.</span></li></ol><cite>, <abbr class=\"cit-jnl-abbrev\">Neuropsychologia</abbr> <span class=\"cit-vol\">35</span>, <span class=\"cit-fpage\">657</span> (<span class=\"cit-pub-date\">1997</span>);</cite></div><div class=\"cit-extra\"><a class=\"cit-ref-sprinkles cit-ref-sprinkles-openurl cit-ref-sprinkles-open-url\" href=\"{openurl}?query=rft.jtitle%253DNeuropsychologia%26rft.volume%253D35%26rft.spage%253D657%26rft_id%253Dinfo%253Adoi%252F10.1016%252FS0028-3932%252896%252900110-8%26rft_id%253Dinfo%253Apmid%252F9153028%26rft.genre%253Darticle%26rft_val_fmt%253Dinfo%253Aofi%252Ffmt%253Akev%253Amtx%253Ajournal%26ctx_ver%253DZ39.88-2004%26url_ver%253DZ39.88-2004%26url_ctx_fmt%253Dinfo%253Aofi%252Ffmt%253Akev%253Amtx%253Actx\"><span>OpenUrl</span></a><a class=\"cit-ref-sprinkles cit-ref-sprinkles-doi cit-ref-sprinkles-crossref\" href=\"/lookup/external-ref?access_num=10.1016/S0028-3932(96)00110-8&amp;link_type=DOI\"><span>CrossRef</span></a><a class=\"cit-ref-sprinkles cit-ref-sprinkles-medline\" href=\"/lookup/external-ref?access_num=9153028&amp;link_type=MED&amp;atom=%2Fsci%2F285%2F5433%2F1582.atom\"><span>PubMed</span></a><a class=\"cit-ref-sprinkles cit-ref-sprinkles-newisilink cit-ref-sprinkles-webofscience\" href=\"/lookup/external-ref?access_num=A1997WX22100010&amp;link_type=ISI\"><span>Web of Science</span></a></div></div><div class=\"cit ref-cit ref-journal\" data-doi=\"10.1073/pnas.95.6.3193\" id=\"cit-285.5433.1582.30\"><div class=\"cit-metadata\"><ol class=\"cit-auth-list\"><li><span class=\"cit-auth\"> <span class=\"cit-name-given-names\">T.</span> <span class=\"cit-name-surname\">Grunwald</span></span>, </li><li><span class=\"cit-auth\"> <span class=\"cit-name-given-names\">K.</span> <span class=\"cit-name-surname\">Lehnertz</span></span>, </li><li><span class=\"cit-auth\"> <span class=\"cit-name-given-names\">H. J.</span> <span class=\"cit-name-surname\">Heinze</span></span>, </li><li><span class=\"cit-auth\"> <span class=\"cit-name-given-names\">C.</span> <span class=\"cit-name-surname\">Helmstaedter</span></span>, </li><li><span class=\"cit-auth\"> <span class=\"cit-name-given-names\">C. E.</span> <span class=\"cit-name-surname\">Elger</span></span></li></ol><cite>, <abbr class=\"cit-jnl-abbrev\">Proc. Natl. Acad. Sci. U.S.A.</abbr> <span class=\"cit-vol\">95</span>, <span class=\"cit-fpage\">3193</span> (<span class=\"cit-pub-date\">1998</span>);</cite></div><div class=\"cit-extra\"><a class=\"cit-ref-sprinkles cit-ref-sprinkles-openurl cit-ref-sprinkles-open-url\" href=\"{openurl}?query=rft.jtitle%253DPNAS%26rft.stitle%253DProc.%2BNatl.%2BAcad.%2BSci.%2BUSA%26rft.aulast%253DGrunwald%26rft.auinit1%253DT.%26rft.volume%253D95%26rft.issue%253D6%26rft.spage%253D3193%26rft.epage%253D3197%26rft.atitle%253DVerbal%2Bnovelty%2Bdetection%2Bwithin%2Bthe%2Bhuman%2Bhippocampus%2Bproper%26rft_id%253Dinfo%253Adoi%252F10.1073%252Fpnas.95.6.3193%26rft_id%253Dinfo%253Apmid%252F9501239%26rft.genre%253Darticle%26rft_val_fmt%253Dinfo%253Aofi%252Ffmt%253Akev%253Amtx%253Ajournal%26ctx_ver%253DZ39.88-2004%26url_ver%253DZ39.88-2004%26url_ctx_fmt%253Dinfo%253Aofi%252Ffmt%253Akev%253Amtx%253Actx\"><span>OpenUrl</span></a><a class=\"cit-ref-sprinkles cit-ref-sprinkles-ijlink\" href=\"/lookup/ijlink?linkType=ABST&amp;journalCode=pnas&amp;resid=95/6/3193&amp;atom=%2Fsci%2F285%2F5433%2F1582.atom\"><span><span class=\"cit-reflinks-abstract\">Abstract</span><span class=\"cit-sep cit-reflinks-variant-name-sep\">/</span><span class=\"cit-reflinks-full-text\"><span class=\"free-full-text\">FREE </span>Full Text</span></span></a></div></div><div class=\"cit ref-cit ref-journal\" data-doi=\"10.1126/science.7434000\" id=\"cit-285.5433.1582.31\"><div class=\"cit-metadata\"><ol class=\"cit-auth-list\"><li><span class=\"cit-auth\"> <span class=\"cit-name-given-names\">E.</span> <span class=\"cit-name-surname\">Halgren</span></span> </li><li><span class=\"cit-etal\">et al.</span></li></ol><cite>, <abbr class=\"cit-jnl-abbrev\">Science</abbr> <span class=\"cit-vol\">210</span>, <span class=\"cit-fpage\">803</span> (<span class=\"cit-pub-date\">1980</span>). </cite></div><div class=\"cit-extra\"><a class=\"cit-ref-sprinkles cit-ref-sprinkles-openurl cit-ref-sprinkles-open-url\" href=\"{openurl}?query=rft.jtitle%253DScience%26rft.stitle%253DScience%26rft.aulast%253DHalgren%26rft.auinit1%253DE%26rft.volume%253D210%26rft.issue%253D4471%26rft.spage%253D803%26rft.epage%253D805%26rft.atitle%253DEndogenous%2Bpotentials%2Bgenerated%2Bin%2Bthe%2Bhuman%2Bhippocampal%2Bformation%2Band%2Bamygdala%2Bby%2Binfrequent%2Bevents%26rft_id%253Dinfo%253Adoi%252F10.1126%252Fscience.7434000%26rft_id%253Dinfo%253Apmid%252F7434000%26rft.genre%253Darticle%26rft_val_fmt%253Dinfo%253Aofi%252Ffmt%253Akev%253Amtx%253Ajournal%26ctx_ver%253DZ39.88-2004%26url_ver%253DZ39.88-2004%26url_ctx_fmt%253Dinfo%253Aofi%252Ffmt%253Akev%253Amtx%253Actx\"><span>OpenUrl</span></a><a class=\"cit-ref-sprinkles cit-ref-sprinkles-ijlink\" href=\"/lookup/ijlink?linkType=ABST&amp;journalCode=sci&amp;resid=210/4471/803&amp;atom=%2Fsci%2F285%2F5433%2F1582.atom\"><span><span class=\"cit-reflinks-abstract\">Abstract</span><span class=\"cit-sep cit-reflinks-variant-name-sep\">/</span><span class=\"cit-reflinks-full-text\"><span class=\"free-full-text\">FREE </span>Full Text</span></span></a></div></div><div class=\"cit ref-cit ref-journal\" data-doi=\"10.1038/333773a0\" id=\"cit-285.5433.1582.32\"><div class=\"cit-metadata\"><ol class=\"cit-auth-list\"><li><span class=\"cit-auth\"> <span class=\"cit-name-given-names\">G.</span> <span class=\"cit-name-surname\">Heit</span></span>, </li><li><span class=\"cit-auth\"> <span class=\"cit-name-given-names\">M. E.</span> <span class=\"cit-name-surname\">Smith</span></span>, </li><li><span class=\"cit-auth\"> <span class=\"cit-name-given-names\">E.</span> <span class=\"cit-name-surname\">Halgren</span></span></li></ol><cite>, <abbr class=\"cit-jnl-abbrev\">Nature</abbr> <span class=\"cit-vol\">333</span>, <span class=\"cit-fpage\">773</span> (<span class=\"cit-pub-date\">1988</span>);</cite></div><div class=\"cit-extra\"><a class=\"cit-ref-sprinkles cit-ref-sprinkles-openurl cit-ref-sprinkles-open-url\" href=\"{openurl}?query=rft.jtitle%253DNature%26rft.stitle%253DNature%26rft.aulast%253DHeit%26rft.auinit1%253DG.%26rft.volume%253D333%26rft.issue%253D6175%26rft.spage%253D773%26rft.epage%253D775%26rft.atitle%253DNeural%2Bencoding%2Bof%2Bindividual%2Bwords%2Band%2Bfaces%2Bby%2Bthe%2Bhuman%2Bhippocampus%2Band%2Bamygdala.%26rft_id%253Dinfo%253Adoi%252F10.1038%252F333773a0%26rft_id%253Dinfo%253Apmid%252F3386719%26rft.genre%253Darticle%26rft_val_fmt%253Dinfo%253Aofi%252Ffmt%253Akev%253Amtx%253Ajournal%26ctx_ver%253DZ39.88-2004%26url_ver%253DZ39.88-2004%26url_ctx_fmt%253Dinfo%253Aofi%252Ffmt%253Akev%253Amtx%253Actx\"><span>OpenUrl</span></a><a class=\"cit-ref-sprinkles cit-ref-sprinkles-doi cit-ref-sprinkles-crossref\" href=\"/lookup/external-ref?access_num=10.1038/333773a0&amp;link_type=DOI\"><span>CrossRef</span></a><a class=\"cit-ref-sprinkles cit-ref-sprinkles-medline\" href=\"/lookup/external-ref?access_num=3386719&amp;link_type=MED&amp;atom=%2Fsci%2F285%2F5433%2F1582.atom\"><span>PubMed</span></a><a class=\"cit-ref-sprinkles cit-ref-sprinkles-newisilink cit-ref-sprinkles-webofscience\" href=\"/lookup/external-ref?access_num=A1988N925400096&amp;link_type=ISI\"><span>Web of Science</span></a></div></div><div class=\"cit ref-cit ref-journal\" id=\"cit-285.5433.1582.33\"><div class=\"cit-metadata\"><ol class=\"cit-auth-list\"><li><span class=\"cit-auth\"> <span class=\"cit-name-given-names\">A. C.</span> <span class=\"cit-name-surname\">Nobre</span></span>, </li><li><span class=\"cit-auth\"> <span class=\"cit-name-given-names\">T.</span> <span class=\"cit-name-surname\">Allison</span></span>, </li><li><span class=\"cit-auth\"> <span class=\"cit-name-given-names\">G.</span> <span class=\"cit-name-surname\">McCarthy</span></span></li></ol><cite>, <span class=\"cit-vol\">372</span>, <span class=\"cit-fpage\">260</span> (<span class=\"cit-pub-date\">1994</span>).</cite></div><div class=\"cit-extra\"></div></div></li><li><a class=\"rev-xref-ref\" href=\"#xref-ref-16-1\" id=\"ref-16\" title=\"View reference 16 in text\">↵</a><div class=\"cit ref-cit ref-journal\" data-doi=\"10.1016/0168-5597(92)90008-Y\" id=\"cit-285.5433.1582.34\"><div class=\"cit-metadata\"><ol class=\"cit-auth-list\"><li><span class=\"cit-auth\"> <span class=\"cit-name-given-names\">K. A.</span> <span class=\"cit-name-surname\">Paller</span></span>, </li><li><span class=\"cit-auth\"> <span class=\"cit-name-given-names\">G.</span> <span class=\"cit-name-surname\">McCarthy</span></span>, </li><li><span class=\"cit-auth\"> <span class=\"cit-name-given-names\">E.</span> <span class=\"cit-name-surname\">Roessler</span></span>, </li><li><span class=\"cit-auth\"> <span class=\"cit-name-given-names\">T.</span> <span class=\"cit-name-surname\">Allison</span></span>, </li><li><span class=\"cit-auth\"> <span class=\"cit-name-given-names\">C. C.</span> <span class=\"cit-name-surname\">Wood</span></span></li></ol><cite>, <abbr class=\"cit-jnl-abbrev\">Electroencephalogr. Clin. Neurophysiol.</abbr> <span class=\"cit-vol\">84</span>, <span class=\"cit-fpage\">269</span> (<span class=\"cit-pub-date\">1992</span>).</cite></div><div class=\"cit-extra\"><a class=\"cit-ref-sprinkles cit-ref-sprinkles-openurl cit-ref-sprinkles-open-url\" href=\"{openurl}?query=rft.jtitle%253DElectroencephalography%2Band%2Bclinical%2Bneurophysiology%26rft.stitle%253DElectroencephalogr%2BClin%2BNeurophysiol%26rft.aulast%253DPaller%26rft.auinit1%253DK.%2BA.%26rft.volume%253D84%26rft.issue%253D3%26rft.spage%253D269%26rft.epage%253D279%26rft.atitle%253DPotentials%2Bevoked%2Bin%2Bhuman%2Band%2Bmonkey%2Bmedial%2Btemporal%2Blobe%2Bduring%2Bauditory%2Band%2Bvisual%2Boddball%2Bparadigms.%26rft_id%253Dinfo%253Adoi%252F10.1016%252F0168-5597%252892%252990008-Y%26rft_id%253Dinfo%253Apmid%252F1375886%26rft.genre%253Darticle%26rft_val_fmt%253Dinfo%253Aofi%252Ffmt%253Akev%253Amtx%253Ajournal%26ctx_ver%253DZ39.88-2004%26url_ver%253DZ39.88-2004%26url_ctx_fmt%253Dinfo%253Aofi%252Ffmt%253Akev%253Amtx%253Actx\"><span>OpenUrl</span></a><a class=\"cit-ref-sprinkles cit-ref-sprinkles-doi cit-ref-sprinkles-crossref\" href=\"/lookup/external-ref?access_num=10.1016/0168-5597(92)90008-Y&amp;link_type=DOI\"><span>CrossRef</span></a><a class=\"cit-ref-sprinkles cit-ref-sprinkles-medline\" href=\"/lookup/external-ref?access_num=1375886&amp;link_type=MED&amp;atom=%2Fsci%2F285%2F5433%2F1582.atom\"><span>PubMed</span></a><a class=\"cit-ref-sprinkles cit-ref-sprinkles-newisilink cit-ref-sprinkles-webofscience\" href=\"/lookup/external-ref?access_num=A1992HY97000008&amp;link_type=ISI\"><span>Web of Science</span></a></div></div></li><li><a class=\"rev-xref-ref\" href=\"#xref-ref-17-2\" id=\"ref-17\" title=\"View reference 17 in text\">↵</a><div class=\"cit ref-cit ref-other\" id=\"cit-285.5433.1582.35\"><div class=\"cit-metadata unstructured\">Because seizure onset could not be determined unequivocally by noninvasive investigations, electrodes were implanted stereotactically along the longitudinal axis of each hippocampus (<a class=\"xref-fig\" href=\"#F1\" id=\"xref-fig-1-3\">Fig. 1</a>) as described [</div><div class=\"cit-extra\"></div></div><div class=\"cit ref-cit ref-journal\" data-doi=\"10.1097/00006123-199810000-00058\" id=\"cit-285.5433.1582.36\"><div class=\"cit-metadata\"><ol class=\"cit-auth-list\"><li><span class=\"cit-auth\"> <span class=\"cit-name-given-names\">D.</span> <span class=\"cit-name-surname\">Van Roost</span></span>, </li><li><span class=\"cit-auth\"> <span class=\"cit-name-given-names\">L.</span> <span class=\"cit-name-surname\">Solymosi</span></span>, </li><li><span class=\"cit-auth\"> <span class=\"cit-name-given-names\">J.</span> <span class=\"cit-name-surname\">Schramm</span></span>, </li><li><span class=\"cit-auth\"> <span class=\"cit-name-given-names\">B.</span> <span class=\"cit-name-surname\">van Oosterwyck</span></span>, </li><li><span class=\"cit-auth\"> <span class=\"cit-name-given-names\">C. E.</span> <span class=\"cit-name-surname\">Elger</span></span></li></ol><cite>, <abbr class=\"cit-jnl-abbrev\">Neurosurgery</abbr> <span class=\"cit-vol\">43</span>, <span class=\"cit-fpage\">819</span> (<span class=\"cit-pub-date\">1998</span>);</cite></div><div class=\"cit-extra\"><a class=\"cit-ref-sprinkles cit-ref-sprinkles-openurl cit-ref-sprinkles-open-url\" href=\"{openurl}?query=rft.jtitle%253DNeurosurgery%26rft.stitle%253DNeurosurgery%26rft.aulast%253DVan%2BRoost%26rft.auinit1%253DD.%26rft.volume%253D43%26rft.issue%253D4%26rft.spage%253D819%26rft.epage%253D826%26rft.atitle%253DDepth%2Belectrode%2Bimplantation%2Bin%2Bthe%2Blength%2Baxis%2Bof%2Bthe%2Bhippocampus%2Bfor%2Bthe%2Bpresurgical%2Bevaluation%2Bof%2Bmedial%2Btemporal%2Blobe%2Bepilepsy%253A%2Ba%2Bcomputed%2Btomography-based%2Bstereotactic%2Binsertion%2Btechnique%2Band%2Bits%2Baccuracy.%26rft_id%253Dinfo%253Adoi%252F10.1097%252F00006123-199810000-00058%26rft_id%253Dinfo%253Apmid%252F9766309%26rft.genre%253Darticle%26rft_val_fmt%253Dinfo%253Aofi%252Ffmt%253Akev%253Amtx%253Ajournal%26ctx_ver%253DZ39.88-2004%26url_ver%253DZ39.88-2004%26url_ctx_fmt%253Dinfo%253Aofi%252Ffmt%253Akev%253Amtx%253Actx\"><span>OpenUrl</span></a><a class=\"cit-ref-sprinkles cit-ref-sprinkles-doi cit-ref-sprinkles-crossref\" href=\"/lookup/external-ref?access_num=10.1097/00006123-199810000-00058&amp;link_type=DOI\"><span>CrossRef</span></a><a class=\"cit-ref-sprinkles cit-ref-sprinkles-medline\" href=\"/lookup/external-ref?access_num=9766309&amp;link_type=MED&amp;atom=%2Fsci%2F285%2F5433%2F1582.atom\"><span>PubMed</span></a><a class=\"cit-ref-sprinkles cit-ref-sprinkles-newisilink cit-ref-sprinkles-webofscience\" href=\"/lookup/external-ref?access_num=000076018200053&amp;link_type=ISI\"><span>Web of Science</span></a></div></div><div class=\"cit ref-cit ref-other\" id=\"cit-285.5433.1582.37\"><div class=\"cit-metadata unstructured\">]. Depth electroencephalograms were referenced to linked mastoids, bandpass-filtered (0.03 to 85 Hz, 6 dB per octave), and recorded with a sampling rate of 173 Hz (12-bit analog-digital conversion). Each averaging epoch lasted 2.2 s, including 0.2 s before stimulus onset. Electrode contacts were mapped by transferring their positions from MRI to standardized anatomical drawings (<a class=\"xref-fig\" href=\"#F2\" id=\"xref-fig-2-6\">Fig. 2</a>) (6) [G. D. Jackson and J. S. Duncan, <em>MRI Neuroanatomy</em> (Churchill Livingstone, New York, 1996)]. MRI scans were acquired in sagittal and adjusted coronal planes, perpendicular to the longitudinal axis of the hippocampus (repetition time = 3719 ms, echo time = 120 ms, flip angle = 90°, field of view = 22 cm; thickness, 2.0 mm; gap, 0.3 mm; 1.5 T) (ACS-II, Philips, Eindhoven, Netherlands).</div><div class=\"cit-extra\"></div></div></li><li><a class=\"rev-xref-ref\" href=\"#xref-ref-18-1\" id=\"ref-18\" title=\"View reference 18 in text\">↵</a><div class=\"cit ref-cit ref-other\" id=\"cit-285.5433.1582.38\"><div class=\"cit-metadata unstructured\">All 12 patients (8 women; mean age 33.8 years, range 24 to 47) were native speakers of German and right-handed (left MTL seizure origin: <em>n</em> = 6; right MTL seizure origin: <em>n</em> = 6). At the time of the experiment, all patients received carbamazepine (plasma concentration, 8 to 12 μg/ml) as the only centrally acting drug. No seizure occurred within 24 hours before the experiment. Each patient gave written informed consent. The study was approved by the local medical ethics committee.</div><div class=\"cit-extra\"></div></div></li><li><a class=\"rev-xref-ref\" href=\"#xref-ref-19-1\" id=\"ref-19\" title=\"View reference 19 in text\">↵</a><div class=\"cit ref-cit ref-other\" id=\"cit-285.5433.1582.39\"><div class=\"cit-metadata unstructured\">To prove the unilaterality of the epileptic zone, we controlled the site of seizure onset in invasive recordings and the effect of resective surgery on seizure frequency. During the presurgical evaluation, at least three spontaneous seizures were recorded invasively from each patient. Each recorded seizure originated from the temporal lobe contralateral to the hemisphere investigated here. In the year before surgery, the range of the mean seizure frequencies per patient was 3.2 to 6.1 per month, and no month without any seizure occurred. After resection of the epileptic MTL, all patients remained seizure-free (follow-up, 5 to 13 months).</div><div class=\"cit-extra\"></div></div></li><li><a class=\"rev-xref-ref\" href=\"#xref-ref-20-1\" id=\"ref-20\" title=\"View reference 20 in text\">↵</a><div class=\"cit ref-cit ref-other\" id=\"cit-285.5433.1582.40\"><div class=\"cit-metadata unstructured\">After the entire procedure was explained to each patient, two training blocks were conducted immediately before the experiment to ensure that the patients had understood the task. Words were presented in uppercase letters (white against black background), in central vision (horizontal visual angle 3.0°), and for a duration of 400 ms (randomized interstimulus interval: mean 2.5 s, range 2.3 to 2.7 s). Patients were required to use a rote strategy to memorize each word; they could not use memory aids such as making rows, sentences, stories, or pictures. During the distraction task, which lasted 30 s, patients were instructed to count backward by threes, starting at a number between 81 and 99 displayed on screen. The following free-recall test lasted 90 s. Stimuli consisted of 240 semantically unrelated German nouns (word frequency, mean 75.24 per million, range 15 to 175; word length, mean 5.95 letters, range 4 to 11) [R. H. Baayen, R. Piepenbrock, H. van Rijn, <em>CELEX Lexical Database </em>(Linguistic Data Consortium, University of Pennsylvania, Philadelphia, 1993)]. The order of words was pseudorandomized under the constraints that (i) across subjects, each word occurred equally often within each quarter of the session and once at each list position; (ii) word length was balanced between lists; and (iii) neither semantic nor phonological similarities occurred within lists.</div><div class=\"cit-extra\"></div></div></li><li><a class=\"rev-xref-ref\" href=\"#xref-ref-21-1\" id=\"ref-21\" title=\"View reference 21 in text\">↵</a><div class=\"cit ref-cit ref-other\" id=\"cit-285.5433.1582.41\"><div class=\"cit-metadata unstructured\">V. Gregg, in <em>Recall and Recognition,</em> J. Brown, Ed. (Wiley, London, 1976), pp. 183–216;</div><div class=\"cit-extra\"></div></div><div class=\"cit ref-cit ref-journal\" data-doi=\"10.1037/h0028143\" id=\"cit-285.5433.1582.42\"><div class=\"cit-metadata\"><ol class=\"cit-auth-list\"><li><span class=\"cit-auth\"> <span class=\"cit-name-given-names\">B. J.</span> <span class=\"cit-name-surname\">Underwood</span></span></li></ol><cite>, <abbr class=\"cit-jnl-abbrev\">Psychol. Rev.</abbr> <span class=\"cit-vol\">76</span>, <span class=\"cit-fpage\">559</span> (<span class=\"cit-pub-date\">1969</span>).</cite></div><div class=\"cit-extra\"><a class=\"cit-ref-sprinkles cit-ref-sprinkles-openurl cit-ref-sprinkles-open-url\" href=\"{openurl}?query=rft.jtitle%253DPsychol.%2BRev.%26rft.volume%253D76%26rft.spage%253D559%26rft_id%253Dinfo%253Adoi%252F10.1037%252Fh0028143%26rft.genre%253Darticle%26rft_val_fmt%253Dinfo%253Aofi%252Ffmt%253Akev%253Amtx%253Ajournal%26ctx_ver%253DZ39.88-2004%26url_ver%253DZ39.88-2004%26url_ctx_fmt%253Dinfo%253Aofi%252Ffmt%253Akev%253Amtx%253Actx\"><span>OpenUrl</span></a><a class=\"cit-ref-sprinkles cit-ref-sprinkles-doi cit-ref-sprinkles-crossref\" href=\"/lookup/external-ref?access_num=10.1037/h0028143&amp;link_type=DOI\"><span>CrossRef</span></a><a class=\"cit-ref-sprinkles cit-ref-sprinkles-newisilink cit-ref-sprinkles-webofscience\" href=\"/lookup/external-ref?access_num=A1969E685400004&amp;link_type=ISI\"><span>Web of Science</span></a></div></div></li><li><a class=\"rev-xref-ref\" href=\"#xref-ref-22-1\" id=\"ref-22\" title=\"View reference 22 in text\">↵</a><div class=\"cit ref-cit ref-other\" id=\"cit-285.5433.1582.43\"><div class=\"cit-metadata unstructured\">Recall rates did not differ reliably between patients with left and right seizure onset (<em>t</em> = 1.87, not significant), nor did they correlate (<em>r</em> = 0.36, not significant) or vary with block position during the course of the session [one-way ANOVA (blocks 1–6 versus 8–13 versus 15–20): <em>F</em>(2, 10) &lt; 2.0, not significant]. To verify a diminished recency effect, we compared recall rates of the initial, middle, and final two words of the study list. No effect of list position occurred [<em>F</em>(2, 10) &lt; 2.0, not significant].</div><div class=\"cit-extra\"></div></div></li><li><a class=\"rev-xref-ref\" href=\"#xref-ref-23-1\" id=\"ref-23\" title=\"View reference 23 in text\">↵</a><div class=\"cit ref-cit ref-journal\" id=\"cit-285.5433.1582.44\"><div class=\"cit-metadata\"><ol class=\"cit-auth-list\"><li><span class=\"cit-auth\"> <span class=\"cit-name-given-names\">M.</span> <span class=\"cit-name-surname\">Klee</span></span>, </li><li><span class=\"cit-auth\"> <span class=\"cit-name-given-names\">W.</span> <span class=\"cit-name-surname\">Rall</span></span></li></ol><cite>, <abbr class=\"cit-jnl-abbrev\">J. Neurophysiol.</abbr> <span class=\"cit-vol\">40</span>, <span class=\"cit-fpage\">647</span> (<span class=\"cit-pub-date\">1977</span>);</cite></div><div class=\"cit-extra\"><a class=\"cit-ref-sprinkles cit-ref-sprinkles-openurl cit-ref-sprinkles-open-url\" href=\"{openurl}?query=rft.jtitle%253DJournal%2Bof%2BNeurophysiology%26rft.stitle%253DJ.%2BNeurophysiol.%26rft.aulast%253DKlee%26rft.auinit1%253DM.%26rft.volume%253D40%26rft.issue%253D3%26rft.spage%253D647%26rft.epage%253D666%26rft.atitle%253DComputed%2Bpotentials%2Bof%2Bcortically%2Barranged%2Bpopulations%2Bof%2Bneurons%26rft_id%253Dinfo%253Apmid%252F874533%26rft.genre%253Darticle%26rft_val_fmt%253Dinfo%253Aofi%252Ffmt%253Akev%253Amtx%253Ajournal%26ctx_ver%253DZ39.88-2004%26url_ver%253DZ39.88-2004%26url_ctx_fmt%253Dinfo%253Aofi%252Ffmt%253Akev%253Amtx%253Actx\"><span>OpenUrl</span></a><a class=\"cit-ref-sprinkles cit-ref-sprinkles-ijlink\" href=\"/lookup/ijlink?linkType=PDF&amp;journalCode=jn&amp;resid=40/3/647&amp;atom=%2Fsci%2F285%2F5433%2F1582.atom\"><span><span class=\"cit-reflinks-full-text\"><span class=\"free-full-text\">FREE </span>Full Text</span></span></a></div></div><div class=\"cit ref-cit ref-other\" id=\"cit-285.5433.1582.45\"><div class=\"cit-metadata unstructured\">; M. Kutas and A. Dale, in <em>Cognitive Neuroscience,</em> M. D. Rugg, Ed. (MIT Press, Cambridge, MA, 1997), pp. 197–242.</div><div class=\"cit-extra\"></div></div></li><li><a class=\"rev-xref-ref\" href=\"#xref-ref-24-1\" id=\"ref-24\" title=\"View reference 24 in text\">↵</a><div class=\"cit ref-cit ref-other\" id=\"cit-285.5433.1582.46\"><div class=\"cit-metadata unstructured\">The early epoch (300 to 500 ms) represents the time period of the actual onset latency delay of the hippocampal relative to the rhinal subsequent memory effect, as indicated by the onset latency estimation (<a class=\"xref-fig\" href=\"#F2\" id=\"xref-fig-2-7\">Fig. 2</a>). The late epoch (500 to 700 ms) represents the following time window with an identical duration.</div><div class=\"cit-extra\"></div></div></li><li><a class=\"rev-xref-ref\" href=\"#xref-ref-25-1\" id=\"ref-25\" title=\"View reference 25 in text\">↵</a><div class=\"cit ref-cit ref-journal\" data-doi=\"10.1016/0928-4257(94)90092-2\" id=\"cit-285.5433.1582.47\"><div class=\"cit-metadata\"><ol class=\"cit-auth-list\"><li><span class=\"cit-auth\"> <span class=\"cit-name-given-names\">E.</span> <span class=\"cit-name-surname\">Halgren</span></span>, </li><li><span class=\"cit-auth\"> <span class=\"cit-name-given-names\">P.</span> <span class=\"cit-name-surname\">Baudena</span></span>, </li><li><span class=\"cit-auth\"> <span class=\"cit-name-given-names\">G.</span> <span class=\"cit-name-surname\">Heit</span></span>, </li><li><span class=\"cit-auth\"> <span class=\"cit-name-given-names\">M.</span> <span class=\"cit-name-surname\">Clarke</span></span>, </li><li><span class=\"cit-auth\"> <span class=\"cit-name-given-names\">K.</span> <span class=\"cit-name-surname\">Marinkovic</span></span></li></ol><cite>, <abbr class=\"cit-jnl-abbrev\">J. Physiol. (Paris)</abbr> <span class=\"cit-vol\">88</span>, <span class=\"cit-fpage\">1</span> (<span class=\"cit-pub-date\">1994</span>).</cite></div><div class=\"cit-extra\"><a class=\"cit-ref-sprinkles cit-ref-sprinkles-openurl cit-ref-sprinkles-open-url\" href=\"{openurl}?query=rft.jtitle%253DJournal%2Bof%2Bphysiology%252C%2BParis%26rft.stitle%253DJ%2BPhysiol%2BParis%26rft.aulast%253DHalgren%26rft.auinit1%253DE.%26rft.volume%253D88%26rft.issue%253D1%26rft.spage%253D1%26rft.epage%253D50%26rft.atitle%253DSpatio-temporal%2Bstages%2Bin%2Bface%2Band%2Bword%2Bprocessing.%2BI.%2BDepth-recorded%2Bpotentials%2Bin%2Bthe%2Bhuman%2Boccipital%252C%2Btemporal%2Band%2Bparietal%2Blobes%2B%255Bcorrected%255D%26rft_id%253Dinfo%253Adoi%252F10.1016%252F0928-4257%252894%252990092-2%26rft_id%253Dinfo%253Apmid%252F8019524%26rft.genre%253Darticle%26rft_val_fmt%253Dinfo%253Aofi%252Ffmt%253Akev%253Amtx%253Ajournal%26ctx_ver%253DZ39.88-2004%26url_ver%253DZ39.88-2004%26url_ctx_fmt%253Dinfo%253Aofi%252Ffmt%253Akev%253Amtx%253Actx\"><span>OpenUrl</span></a><a class=\"cit-ref-sprinkles cit-ref-sprinkles-doi cit-ref-sprinkles-crossref\" href=\"/lookup/external-ref?access_num=10.1016/0928-4257(94)90092-2&amp;link_type=DOI\"><span>CrossRef</span></a><a class=\"cit-ref-sprinkles cit-ref-sprinkles-medline\" href=\"/lookup/external-ref?access_num=8019524&amp;link_type=MED&amp;atom=%2Fsci%2F285%2F5433%2F1582.atom\"><span>PubMed</span></a><a class=\"cit-ref-sprinkles cit-ref-sprinkles-newisilink cit-ref-sprinkles-webofscience\" href=\"/lookup/external-ref?access_num=A1994NP31900001&amp;link_type=ISI\"><span>Web of Science</span></a></div></div></li><li><a class=\"rev-xref-ref\" href=\"#xref-ref-26-1\" id=\"ref-26\" title=\"View reference 26 in text\">↵</a><div class=\"cit ref-cit ref-other\" id=\"cit-285.5433.1582.48\"><div class=\"cit-metadata unstructured\">M. Jones-Gotman, in <em>Epilepsy Surgery,</em> H. O. Lüders, Ed. (Raven, New York, 1991), pp. 469–476;</div><div class=\"cit-extra\"></div></div><div class=\"cit ref-cit ref-journal\" id=\"cit-285.5433.1582.49\"><div class=\"cit-metadata\"><ol class=\"cit-auth-list\"><li><span class=\"cit-auth\"> <span class=\"cit-name-given-names\">B.</span> <span class=\"cit-name-surname\">Milner</span></span></li></ol><cite>, <abbr class=\"cit-jnl-abbrev\">Br. Med. Bull.</abbr> <span class=\"cit-vol\">27</span>, <span class=\"cit-fpage\">272</span> (<span class=\"cit-pub-date\">1971</span>).</cite></div><div class=\"cit-extra\"><a class=\"cit-ref-sprinkles cit-ref-sprinkles-openurl cit-ref-sprinkles-open-url\" href=\"{openurl}?query=rft.jtitle%253DBritish%2BMedical%2BBulletin%26rft.stitle%253DBr%2BMed%2BBull%26rft.aulast%253DMILNER%26rft.auinit1%253DB.%26rft.volume%253D27%26rft.issue%253D3%26rft.spage%253D272%26rft.epage%253D277%26rft.atitle%253DINTERHEMISPHERIC%2BDIFFERENCES%2BIN%2BTHE%2BLOCALIZATION%2BOF%2BPSYCHOLOGICAL%2BPROCESSES%2BIN%2BMAN%26rft_id%253Dinfo%253Apmid%252F4937273%26rft.genre%253Darticle%26rft_val_fmt%253Dinfo%253Aofi%252Ffmt%253Akev%253Amtx%253Ajournal%26ctx_ver%253DZ39.88-2004%26url_ver%253DZ39.88-2004%26url_ctx_fmt%253Dinfo%253Aofi%252Ffmt%253Akev%253Amtx%253Actx\"><span>OpenUrl</span></a><a class=\"cit-ref-sprinkles cit-ref-sprinkles-ijlink\" href=\"/lookup/ijlink?linkType=PDF&amp;journalCode=bmbull&amp;resid=27/3/272&amp;atom=%2Fsci%2F285%2F5433%2F1582.atom\"><span><span class=\"cit-reflinks-full-text\"><span class=\"free-full-text\">FREE </span>Full Text</span></span></a></div></div></li><li><a class=\"rev-xref-ref\" href=\"#xref-ref-27-1\" id=\"ref-27\" title=\"View reference 27 in text\">↵</a><div class=\"cit ref-cit ref-journal\" data-doi=\"10.1016/S0896-6273(00)80474-2\" id=\"cit-285.5433.1582.50\"><div class=\"cit-metadata\"><ol class=\"cit-auth-list\"><li><span class=\"cit-auth\"> <span class=\"cit-name-given-names\">W. M.</span> <span class=\"cit-name-surname\">Kelley</span></span> </li><li><span class=\"cit-etal\">et al.</span></li></ol><cite>, <abbr class=\"cit-jnl-abbrev\">Neuron</abbr> <span class=\"cit-vol\">20</span>, <span class=\"cit-fpage\">927</span> (<span class=\"cit-pub-date\">1998</span>).</cite></div><div class=\"cit-extra\"><a class=\"cit-ref-sprinkles cit-ref-sprinkles-openurl cit-ref-sprinkles-open-url\" href=\"{openurl}?query=rft.jtitle%253DNeuron%26rft.volume%253D20%26rft.spage%253D927%26rft_id%253Dinfo%253Adoi%252F10.1016%252FS0896-6273%252800%252980474-2%26rft_id%253Dinfo%253Apmid%252F9620697%26rft.genre%253Darticle%26rft_val_fmt%253Dinfo%253Aofi%252Ffmt%253Akev%253Amtx%253Ajournal%26ctx_ver%253DZ39.88-2004%26url_ver%253DZ39.88-2004%26url_ctx_fmt%253Dinfo%253Aofi%252Ffmt%253Akev%253Amtx%253Actx\"><span>OpenUrl</span></a><a class=\"cit-ref-sprinkles cit-ref-sprinkles-doi cit-ref-sprinkles-crossref\" href=\"/lookup/external-ref?access_num=10.1016/S0896-6273(00)80474-2&amp;link_type=DOI\"><span>CrossRef</span></a><a class=\"cit-ref-sprinkles cit-ref-sprinkles-medline\" href=\"/lookup/external-ref?access_num=9620697&amp;link_type=MED&amp;atom=%2Fsci%2F285%2F5433%2F1582.atom\"><span>PubMed</span></a><a class=\"cit-ref-sprinkles cit-ref-sprinkles-newisilink cit-ref-sprinkles-webofscience\" href=\"/lookup/external-ref?access_num=000073864700012&amp;link_type=ISI\"><span>Web of Science</span></a></div></div></li><li><a class=\"rev-xref-ref\" href=\"#xref-ref-28-1\" id=\"ref-28\" title=\"View reference 28 in text\">↵</a><div class=\"cit ref-cit ref-journal\" data-doi=\"10.1111/j.1440-1819.1996.tb01665.x\" id=\"cit-285.5433.1582.51\"><div class=\"cit-metadata\"><ol class=\"cit-auth-list\"><li><span class=\"cit-auth\"> <span class=\"cit-name-given-names\">R.</span> <span class=\"cit-name-surname\">Akaho</span></span></li></ol><cite>, <abbr class=\"cit-jnl-abbrev\">Psychiat. Clin. Neurosci.</abbr> <span class=\"cit-vol\">50</span>, <span class=\"cit-fpage\">61</span> (<span class=\"cit-pub-date\">1996</span>);</cite></div><div class=\"cit-extra\"><a class=\"cit-ref-sprinkles cit-ref-sprinkles-openurl cit-ref-sprinkles-open-url\" href=\"{openurl}?query=rft.jtitle%253DPsychiatry%2Band%2BClinical%2BNeurosciences%2B%2528Carlton.%2BPrint%2529%26rft.stitle%253DPsychiatry%2Band%2BClinical%2BNeurosciences%2B%2528Carlton.%2BPrint%2529%26rft.aulast%253DAkaho%26rft.auinit1%253DR.%26rft.volume%253D50%26rft.issue%253D2%26rft.spage%253D61%26rft.epage%253D69%26rft.atitle%253DThe%2Beffects%2Bof%2Bantiepileptic%2Bdrugs%2Bon%2Bcognition%2Bin%2Bnormal%2Bvolunteers.%26rft_id%253Dinfo%253Adoi%252F10.1111%252Fj.1440-1819.1996.tb01665.x%26rft_id%253Dinfo%253Apmid%252F8783377%26rft.genre%253Darticle%26rft_val_fmt%253Dinfo%253Aofi%252Ffmt%253Akev%253Amtx%253Ajournal%26ctx_ver%253DZ39.88-2004%26url_ver%253DZ39.88-2004%26url_ctx_fmt%253Dinfo%253Aofi%252Ffmt%253Akev%253Amtx%253Actx\"><span>OpenUrl</span></a><a class=\"cit-ref-sprinkles cit-ref-sprinkles-doi cit-ref-sprinkles-crossref\" href=\"/lookup/external-ref?access_num=10.1111/j.1440-1819.1996.tb01665.x&amp;link_type=DOI\"><span>CrossRef</span></a><a class=\"cit-ref-sprinkles cit-ref-sprinkles-medline\" href=\"/lookup/external-ref?access_num=8783377&amp;link_type=MED&amp;atom=%2Fsci%2F285%2F5433%2F1582.atom\"><span>PubMed</span></a></div></div><div class=\"cit ref-cit ref-journal\" id=\"cit-285.5433.1582.52\"><div class=\"cit-metadata\"><ol class=\"cit-auth-list\"><li><span class=\"cit-auth\"> <span class=\"cit-name-given-names\">Y. J.</span> <span class=\"cit-name-surname\">Chen</span></span>, </li><li><span class=\"cit-auth\"> <span class=\"cit-name-given-names\">W. M.</span> <span class=\"cit-name-surname\">Kang</span></span>, </li><li><span class=\"cit-auth\"> <span class=\"cit-name-given-names\">W. C.</span> <span class=\"cit-name-surname\">So</span></span></li></ol><cite>, <abbr class=\"cit-jnl-abbrev\">Epilepsia</abbr> <span class=\"cit-vol\">37</span>, <span class=\"cit-fpage\">81</span> (<span class=\"cit-pub-date\">1996</span>);</cite></div><div class=\"cit-extra\"><a class=\"cit-ref-sprinkles cit-ref-sprinkles-openurl cit-ref-sprinkles-open-url\" href=\"{openurl}?query=rft.jtitle%253DEpilepsia%26rft.volume%253D37%26rft.spage%253D81%26rft_id%253Dinfo%253Apmid%252F8603630%26rft.genre%253Darticle%26rft_val_fmt%253Dinfo%253Aofi%252Ffmt%253Akev%253Amtx%253Ajournal%26ctx_ver%253DZ39.88-2004%26url_ver%253DZ39.88-2004%26url_ctx_fmt%253Dinfo%253Aofi%252Ffmt%253Akev%253Amtx%253Actx\"><span>OpenUrl</span></a><a class=\"cit-ref-sprinkles cit-ref-sprinkles-medline\" href=\"/lookup/external-ref?access_num=8603630&amp;link_type=MED&amp;atom=%2Fsci%2F285%2F5433%2F1582.atom\"><span>PubMed</span></a></div></div><div class=\"cit ref-cit ref-journal\" id=\"cit-285.5433.1582.53\"><div class=\"cit-metadata\"><ol class=\"cit-auth-list\"><li><span class=\"cit-auth\"> <span class=\"cit-name-given-names\">G. R.</span> <span class=\"cit-name-surname\">Panagopoulos</span></span>, </li><li><span class=\"cit-auth\"> <span class=\"cit-name-given-names\">T.</span> <span class=\"cit-name-surname\">Thomaides</span></span>, </li><li><span class=\"cit-auth\"> <span class=\"cit-name-given-names\">G.</span> <span class=\"cit-name-surname\">Tagaris</span></span>, </li><li><span class=\"cit-auth\"> <span class=\"cit-name-given-names\">C. L.</span> <span class=\"cit-name-surname\">Karageorgiou</span></span></li></ol><cite>, <abbr class=\"cit-jnl-abbrev\">Acta Neurol. Scand.</abbr> <span class=\"cit-vol\">96</span>, <span class=\"cit-fpage\">62</span> (<span class=\"cit-pub-date\">1997</span>).</cite></div><div class=\"cit-extra\"><a class=\"cit-ref-sprinkles cit-ref-sprinkles-openurl cit-ref-sprinkles-open-url\" href=\"{openurl}?query=rft.jtitle%253DActa%2Bneurologica%2BScandinavica%26rft.stitle%253DActa%2BNeurol%2BScand%26rft.aulast%253DPanagopoulos%26rft.auinit1%253DG.%2BR.%26rft.volume%253D96%26rft.issue%253D1%26rft.spage%253D62%26rft.epage%253D64%26rft.atitle%253DAuditory%2Bevent%2Brelated%2Bpotentials%2Bin%2Bpatients%2Bwith%2Bepilepsy%2Bon%2Bsodium%2Bvalproate%2Bmonotherapy.%26rft_id%253Dinfo%253Apmid%252F9262135%26rft.genre%253Darticle%26rft_val_fmt%253Dinfo%253Aofi%252Ffmt%253Akev%253Amtx%253Ajournal%26ctx_ver%253DZ39.88-2004%26url_ver%253DZ39.88-2004%26url_ctx_fmt%253Dinfo%253Aofi%252Ffmt%253Akev%253Amtx%253Actx\"><span>OpenUrl</span></a><a class=\"cit-ref-sprinkles cit-ref-sprinkles-medline\" href=\"/lookup/external-ref?access_num=9262135&amp;link_type=MED&amp;atom=%2Fsci%2F285%2F5433%2F1582.atom\"><span>PubMed</span></a><a class=\"cit-ref-sprinkles cit-ref-sprinkles-newisilink cit-ref-sprinkles-webofscience\" href=\"/lookup/external-ref?access_num=A1997XM19400011&amp;link_type=ISI\"><span>Web of Science</span></a></div></div></li><li><a class=\"rev-xref-ref\" href=\"#xref-ref-29-1\" id=\"ref-29\" title=\"View reference 29 in text\">↵</a><div class=\"cit ref-cit ref-other\" id=\"cit-285.5433.1582.54\"><div class=\"cit-metadata unstructured\">The posterior parahippocampus, related to declarative memory formation (4), was not covered by electrodes in our study. Thus, there might be an additional, but distinct, ERP effect generated. However, the relation between ERPs and event-related hemodynamic responses is not well understood [</div><div class=\"cit-extra\"></div></div><div class=\"cit ref-cit ref-journal\" data-doi=\"10.1002/(SICI)1097-0193(1998)6:5/6&lt;394::AID-HBM12&gt;3.0.CO;2-P\" id=\"cit-285.5433.1582.55\"><div class=\"cit-metadata\"><ol class=\"cit-auth-list\"><li><span class=\"cit-auth\"> <span class=\"cit-name-given-names\">M. D.</span> <span class=\"cit-name-surname\">Rugg</span></span></li></ol><cite>, <abbr class=\"cit-jnl-abbrev\">Hum. Brain Mapp.</abbr> <span class=\"cit-vol\">6</span>, <span class=\"cit-fpage\">394</span> (<span class=\"cit-pub-date\">1998</span>);</cite></div><div class=\"cit-extra\"><a class=\"cit-ref-sprinkles cit-ref-sprinkles-openurl cit-ref-sprinkles-open-url\" href=\"{openurl}?query=rft.jtitle%253DHuman%2Bbrain%2Bmapping%26rft.stitle%253DHum%2BBrain%2BMapp%26rft.aulast%253DRugg%26rft.auinit1%253DM.%2BD.%26rft.volume%253D6%26rft.issue%253D5-6%26rft.spage%253D394%26rft.epage%253D398%26rft.atitle%253DConvergent%2Bapproaches%2Bto%2Belectrophysiological%2Band%2Bhemodynamic%2Binvestigations%2Bof%2Bmemory.%26rft_id%253Dinfo%253Adoi%252F10.1002%252F%2528SICI%25291097-0193%25281998%25296%253A5%252F6%253C394%253A%253AAID-HBM12%253E3.0.CO%253B2-P%26rft_id%253Dinfo%253Apmid%252F9788079%26rft.genre%253Darticle%26rft_val_fmt%253Dinfo%253Aofi%252Ffmt%253Akev%253Amtx%253Ajournal%26ctx_ver%253DZ39.88-2004%26url_ver%253DZ39.88-2004%26url_ctx_fmt%253Dinfo%253Aofi%252Ffmt%253Akev%253Amtx%253Actx\"><span>OpenUrl</span></a><a class=\"cit-ref-sprinkles cit-ref-sprinkles-doi cit-ref-sprinkles-crossref\" href=\"/lookup/external-ref?access_num=10.1002/(SICI)1097-0193(1998)6:5/6&lt;394::AID-HBM12&gt;3.0.CO;2-P&amp;link_type=DOI\"><span>CrossRef</span></a><a class=\"cit-ref-sprinkles cit-ref-sprinkles-medline\" href=\"/lookup/external-ref?access_num=9788079&amp;link_type=MED&amp;atom=%2Fsci%2F285%2F5433%2F1582.atom\"><span>PubMed</span></a><a class=\"cit-ref-sprinkles cit-ref-sprinkles-newisilink cit-ref-sprinkles-webofscience\" href=\"/lookup/external-ref?access_num=000076277200012&amp;link_type=ISI\"><span>Web of Science</span></a></div></div><div class=\"cit ref-cit ref-other\" id=\"cit-285.5433.1582.56\"><div class=\"cit-metadata unstructured\">].Thus, the effects recorded here may not have induced any hemodynamic net effects, or they might be too small to be detectable.</div><div class=\"cit-extra\"></div></div></li><li><a class=\"rev-xref-ref\" href=\"#xref-ref-30-1\" id=\"ref-30\" title=\"View reference 30 in text\">↵</a><div class=\"cit ref-cit ref-journal\" data-doi=\"10.1016/0028-3932(94)00132-9\" id=\"cit-285.5433.1582.57\"><div class=\"cit-metadata\"><ol class=\"cit-auth-list\"><li><span class=\"cit-auth\"> <span class=\"cit-name-given-names\">M. D.</span> <span class=\"cit-name-surname\">Rugg</span></span>, </li><li><span class=\"cit-auth\"> <span class=\"cit-name-given-names\">C. J. C.</span> <span class=\"cit-name-surname\">Cox</span></span>, </li><li><span class=\"cit-auth\"> <span class=\"cit-name-given-names\">M. C.</span> <span class=\"cit-name-surname\">Doyle</span></span>, </li><li><span class=\"cit-auth\"> <span class=\"cit-name-given-names\">T.</span> <span class=\"cit-name-surname\">Wells</span></span></li></ol><cite>, <abbr class=\"cit-jnl-abbrev\">Neuropsychologia</abbr> <span class=\"cit-vol\">33</span>, <span class=\"cit-fpage\">471</span> (<span class=\"cit-pub-date\">1995</span>).</cite></div><div class=\"cit-extra\"><a class=\"cit-ref-sprinkles cit-ref-sprinkles-openurl cit-ref-sprinkles-open-url\" href=\"{openurl}?query=rft.jtitle%253DNeuropsychologia%26rft.volume%253D33%26rft.spage%253D471%26rft.atitle%253DNEUROPSYCHOLOGIA%26rft_id%253Dinfo%253Adoi%252F10.1016%252F0028-3932%252894%252900132-9%26rft_id%253Dinfo%253Apmid%252F7617156%26rft.genre%253Darticle%26rft_val_fmt%253Dinfo%253Aofi%252Ffmt%253Akev%253Amtx%253Ajournal%26ctx_ver%253DZ39.88-2004%26url_ver%253DZ39.88-2004%26url_ctx_fmt%253Dinfo%253Aofi%252Ffmt%253Akev%253Amtx%253Actx\"><span>OpenUrl</span></a><a class=\"cit-ref-sprinkles cit-ref-sprinkles-doi cit-ref-sprinkles-crossref\" href=\"/lookup/external-ref?access_num=10.1016/0028-3932(94)00132-9&amp;link_type=DOI\"><span>CrossRef</span></a><a class=\"cit-ref-sprinkles cit-ref-sprinkles-medline\" href=\"/lookup/external-ref?access_num=7617156&amp;link_type=MED&amp;atom=%2Fsci%2F285%2F5433%2F1582.atom\"><span>PubMed</span></a><a class=\"cit-ref-sprinkles cit-ref-sprinkles-newisilink cit-ref-sprinkles-webofscience\" href=\"/lookup/external-ref?access_num=A1995QV06700006&amp;link_type=ISI\"><span>Web of Science</span></a></div></div></li><li><div class=\"cit ref-cit ref-other no-rev-xref\" id=\"cit-285.5433.1582.58\"><div class=\"cit-metadata unstructured\">We thank J. D. E. Gabrieli, K. Paller, M. Reuber, W. Schwarz, and especially I. Tendolkar for advice on data analyses and for comments on the manuscript. We also thank H. Urbach, who acquired the MRIs.</div><div class=\"cit-extra\"></div></div></li></ol></div>]"
      ]
     },
     "execution_count": 143,
     "metadata": {},
     "output_type": "execute_result"
    }
   ],
   "source": [
    "for link in a.soup.find_all()\n",
    "# a.soup.find_all('div',{'class':'section ref-list' })"
   ]
  },
  {
   "cell_type": "code",
   "execution_count": 119,
   "metadata": {
    "collapsed": false
   },
   "outputs": [],
   "source": [
    "links_output = []\n",
    "for link in a.soup.find_all('a'):\n",
    "    links_output.append(link.get('href'))\n",
    "    \n",
    "for i in range(0,len(links_output)): \n",
    "    if links_output[i] is None:\n",
    "        continue\n",
    "    else:\n",
    "        if '.full' in links_output[i]:\n",
    "            if 'http:' in links_output[i]:\n",
    "                master_link = links_output[i]\n",
    "                break\n"
   ]
  },
  {
   "cell_type": "code",
   "execution_count": 120,
   "metadata": {
    "collapsed": false
   },
   "outputs": [
    {
     "data": {
      "text/plain": [
       "'http://science.sciencemag.org/content/285/5433/1582.full'"
      ]
     },
     "execution_count": 120,
     "metadata": {},
     "output_type": "execute_result"
    }
   ],
   "source": [
    "master_link"
   ]
  },
  {
   "cell_type": "code",
   "execution_count": 67,
   "metadata": {
    "collapsed": false
   },
   "outputs": [
    {
     "ename": "AttributeError",
     "evalue": "'ResultSet' object has no attribute 'attrs'",
     "output_type": "error",
     "traceback": [
      "\u001b[0;31m---------------------------------------------------------------------------\u001b[0m",
      "\u001b[0;31mAttributeError\u001b[0m                            Traceback (most recent call last)",
      "\u001b[0;32m<ipython-input-67-0ae8f2e7d116>\u001b[0m in \u001b[0;36m<module>\u001b[0;34m()\u001b[0m\n\u001b[0;32m----> 1\u001b[0;31m \u001b[0ma\u001b[0m\u001b[0;34m.\u001b[0m\u001b[0msoup\u001b[0m\u001b[0;34m.\u001b[0m\u001b[0mfind_all\u001b[0m\u001b[0;34m(\u001b[0m\u001b[0;34m'a'\u001b[0m\u001b[0;34m)\u001b[0m\u001b[0;34m.\u001b[0m\u001b[0mattrs\u001b[0m\u001b[0;34m(\u001b[0m\u001b[0;34m'href'\u001b[0m\u001b[0;34m)\u001b[0m\u001b[0;34m\u001b[0m\u001b[0m\n\u001b[0m",
      "\u001b[0;31mAttributeError\u001b[0m: 'ResultSet' object has no attribute 'attrs'"
     ]
    }
   ],
   "source": [
    "a.soup.find_all('a').attrs('href')"
   ]
  },
  {
   "cell_type": "code",
   "execution_count": 158,
   "metadata": {
    "collapsed": false
   },
   "outputs": [
    {
     "data": {
      "text/plain": [
       "<p class=\"details\">Suzuki, W. A. &amp; Amaral, D. G.                    <span class=\"atl\">Perirhinal and parahippocampal cortices of the macaque monkey: cortical afferents</span>. <span class=\"jtl\">J. Comp. Neurol.</span> <span class=\"vid\">350</span>, 497–533 (<span class=\"cite-month-year\">1994</span>).</p>"
      ]
     },
     "execution_count": 158,
     "metadata": {},
     "output_type": "execute_result"
    }
   ],
   "source": [
    "a.citations[15].p"
   ]
  },
  {
   "cell_type": "code",
   "execution_count": 153,
   "metadata": {
    "collapsed": false
   },
   "outputs": [
    {
     "name": "stdout",
     "output_type": "stream",
     "text": [
      "0 http://dx.doi.org/10.1126/science.1896849\n",
      "1 /doifinder/10.1038/35049064\n",
      "2 http://dx.doi.org/10.1146/annurev.neuro.30.051606.094328\n",
      "3 http://dx.doi.org/10.1098/rstb.1997.0132\n",
      "4 /doifinder/10.1038/nrn2733\n",
      "5 http://dx.doi.org/10.1093/brain/110.6.1631\n",
      "6 http://dx.doi.org/10.1002/1098-1063(2000)10:4<398::AID-HIPO6>3.0.CO;2-K\n",
      "7 http://dx.doi.org/10.1016/j.neubiorev.2011.09.005\n",
      "8 http://dx.doi.org/10.1002/hipo.20314\n",
      "9 http://dx.doi.org/10.1002/hipo.22024\n",
      "10 http://dx.doi.org/10.1002/(SICI)1096-9861(19961125)375:4<552::AID-CNE2>3.0.CO;2-0\n",
      "11 http://dx.doi.org/10.1152/jn.00077.2008\n",
      "12 http://dx.doi.org/10.1523/JNEUROSCI.3711-11.2012\n",
      "13 http://dx.doi.org/10.1002/cne.10883\n",
      "14 http://dx.doi.org/10.1002/cne.21346\n",
      "15 http://dx.doi.org/10.1002/cne.903500402\n",
      "16 http://dx.doi.org/10.1002/cne.20079\n",
      "17 http://dx.doi.org/10.1002/cne.10243\n",
      "18 http://dx.doi.org/10.1002/cne.20796\n",
      "19 /doifinder/10.1038/nrn3008\n",
      "20 http://dx.doi.org/10.1002/cne.902250105\n",
      "21 http://dx.doi.org/10.1073/pnas.98.2.676\n",
      "22 http://dx.doi.org/10.1016/j.neuron.2010.02.005\n",
      "23 http://dx.doi.org/10.1016/j.neuroimage.2007.12.043\n",
      "24 http://dx.doi.org/10.1002/1098-1063(2001)11:1<61::AID-HIPO1021>3.3.CO;2-Q\n",
      "25 http://dx.doi.org/10.1523/JNEUROSCI.3763-03.2004\n",
      "26 http://dx.doi.org/10.1016/j.neuropsychologia.2012.05.018\n",
      "27 http://www.ncbi.nlm.nih.gov/entrez/query.fcgi?holding=npg&amp;cmd=Retrieve&amp;db=PubMed&amp;list_uids=11387403&amp;dopt=Abstract\n",
      "28 http://dx.doi.org/10.1002/hipo.20852\n",
      "29 http://dx.doi.org/10.1002/hipo.20853\n",
      "30 http://dx.doi.org/10.1073/pnas.0705273104\n",
      "31 http://dx.doi.org/10.1016/S0028-3908(98)00030-6\n",
      "32 http://dx.doi.org/10.1002/hipo.10117\n",
      "33 http://dx.doi.org/10.1002/hipo.20178\n",
      "34 http://dx.doi.org/10.1016/j.neuron.2005.07.013\n",
      "35 http://www.ncbi.nlm.nih.gov/entrez/query.fcgi?holding=npg&amp;cmd=Retrieve&amp;db=PubMed&amp;list_uids=15597043&amp;dopt=Abstract\n",
      "36 http://dx.doi.org/10.1016/j.neuropsychologia.2003.07.006\n",
      "37 http://dx.doi.org/10.1073/pnas.0337195100\n",
      "38 http://www.ncbi.nlm.nih.gov/entrez/query.fcgi?holding=npg&amp;cmd=Retrieve&amp;db=PubMed&amp;list_uids=7472321&amp;dopt=Abstract\n",
      "39 /doifinder/10.1038/335817a0\n",
      "40 http://www.ncbi.nlm.nih.gov/entrez/query.fcgi?holding=npg&amp;cmd=Retrieve&amp;db=PubMed&amp;list_uids=10575038&amp;dopt=Abstract\n",
      "41 http://dx.doi.org/10.1111/j.1460-9568.2010.07320.x\n",
      "42 http://www.ncbi.nlm.nih.gov/entrez/query.fcgi?holding=npg&amp;cmd=Retrieve&amp;db=PubMed&amp;list_uids=8410203&amp;dopt=Abstract\n",
      "43 http://dx.doi.org/10.1016/j.neuron.2008.07.035\n",
      "44 http://dx.doi.org/10.1162/jocn.2009.21335\n",
      "45 http://dx.doi.org/10.1162/jocn.2008.20104\n",
      "46 http://www.ncbi.nlm.nih.gov/entrez/query.fcgi?holding=npg&amp;cmd=Retrieve&amp;db=PubMed&amp;list_uids=10712488&amp;dopt=Abstract\n",
      "48 http://dx.doi.org/10.1073/pnas.0403639101\n",
      "49 http://dx.doi.org/10.1523/JNEUROSCI.4839-03.2004\n",
      "50 http://dx.doi.org/10.1037/a0012902\n",
      "51 http://dx.doi.org/10.1016/j.nlm.2008.06.006\n",
      "52 http://dx.doi.org/10.1016/S0166-4328(99)00190-4\n",
      "53 http://dx.doi.org/10.1523/JNEUROSCI.1653-07.2007\n",
      "54 http://dx.doi.org/10.1001/archneur.60.7.949\n",
      "55 http://dx.doi.org/10.1111/j.1460-9568.2004.03710.x\n",
      "56 /doifinder/10.1038/nrn2277\n",
      "57 http://dx.doi.org/10.1093/cercor/bhh163\n",
      "58 http://dx.doi.org/10.1093/brain/awl344\n",
      "59 http://chemport.cas.org/cgi-bin/sdcgi?APP=ftslink&action=reflink&origin=npg&version=1.0&coi=1:CAS:528:DC%2BD3cXmvVGhsL0%3D&pissn=1471-003X&pyear=2012&md5=032c60a91e9eec6676fb48f3a61ebfad\n",
      "60 http://dx.doi.org/10.1073/pnas.0509704103\n",
      "61 http://dx.doi.org/10.1093/brain/awr325\n",
      "62 http://chemport.cas.org/cgi-bin/sdcgi?APP=ftslink&action=reflink&origin=npg&version=1.0&coi=1:CAS:528:DyaK2MXjvVCgsbc%3D&pissn=1471-003X&pyear=2012&md5=b17de0536818f3ae76b735fa5b794ffe\n",
      "63 http://dx.doi.org/10.1523/JNEUROSCI.3122-11.2011\n",
      "64 http://dx.doi.org/10.1162/089892904322926692\n",
      "65 http://dx.doi.org/10.1162/jocn.2009.21309\n",
      "66 http://dx.doi.org/10.1016/j.neuron.2010.11.009\n",
      "67 http://dx.doi.org/10.1002/hipo.20608\n",
      "68 http://dx.doi.org/10.1016/S0896-6273(03)00197-1\n",
      "69 http://dx.doi.org/10.1016/j.neuropsychologia.2010.01.001\n",
      "70 http://dx.doi.org/10.1080/02724990544000004\n",
      "71 http://www.ncbi.nlm.nih.gov/entrez/query.fcgi?holding=npg&amp;cmd=Retrieve&amp;db=PubMed&amp;list_uids=12684473&amp;dopt=Abstract\n",
      "72 http://www.ncbi.nlm.nih.gov/entrez/query.fcgi?holding=npg&amp;cmd=Retrieve&amp;db=PubMed&amp;list_uids=11739590&amp;dopt=Abstract\n",
      "73 http://dx.doi.org/10.1046/j.0953-816x.2001.01851.x\n",
      "74 http://dx.doi.org/10.1016/j.neuropsychologia.2004.07.017\n",
      "75 http://dx.doi.org/10.1523/JNEUROSCI.3157-05.2006\n",
      "76 http://dx.doi.org/10.1523/JNEUROSCI.2704-05.2005\n",
      "77 http://dx.doi.org/10.1523/JNEUROSCI.4792-05.2006\n",
      "78 http://dx.doi.org/10.1016/j.neuroimage.2006.06.021\n",
      "79 http://dx.doi.org/10.1523/JNEUROSCI.0374-09.2009\n",
      "80 http://dx.doi.org/10.1093/cercor/bhp073\n",
      "81 http://dx.doi.org/10.1016/j.tics.2007.08.001\n",
      "82 http://dx.doi.org/10.1016/j.conb.2006.10.012\n",
      "83 http://dx.doi.org/10.1016/j.neuropsychologia.2009.02.028\n",
      "84 http://dx.doi.org/10.1016/j.neuropsychologia.2008.01.004\n",
      "85 http://dx.doi.org/10.1093/cercor/bhq092\n",
      "86 http://dx.doi.org/10.1523/JNEUROSCI.1337-10.2010\n",
      "87 http://dx.doi.org/10.1523/JNEUROSCI.5295-04.2005\n",
      "88 http://dx.doi.org/10.1016/j.neuron.2009.08.011\n",
      "89 http://dx.doi.org/10.1152/jn.01029.2005\n",
      "90 http://dx.doi.org/10.3389/neuro.09.013.2009\n",
      "91 http://dx.doi.org/10.1080/17470919.2011.585242\n",
      "92 http://dx.doi.org/10.1073/pnas.1105816108\n",
      "93 http://dx.doi.org/10.1162/jocn.2010.21487\n",
      "94 http://dx.doi.org/10.1196/annals.1440.011\n",
      "95 http://dx.doi.org/10.1111/1467-9450.00233\n",
      "96 http://dx.doi.org/10.1016/j.neuropsychologia.2006.05.023\n",
      "97 http://dx.doi.org/10.1162/jocn.2010.21518\n",
      "98 http://dx.doi.org/10.1162/jocn.2008.21029\n",
      "99 http://dx.doi.org/10.1073/pnas.0610082104\n",
      "100 http://dx.doi.org/10.1093/cercor/bhn191\n",
      "101 http://dx.doi.org/10.1016/j.neuropsychologia.2008.10.026\n",
      "102 http://dx.doi.org/10.1016/j.tics.2007.05.001\n",
      "103 http://dx.doi.org/10.1016/j.tics.2006.11.004\n",
      "104 http://dx.doi.org/10.1037/0735-7044.119.2.557\n",
      "105 http://www.ncbi.nlm.nih.gov/entrez/query.fcgi?holding=npg&amp;cmd=Retrieve&amp;db=PubMed&amp;list_uids=9920675&amp;dopt=Abstract\n",
      "106 http://dx.doi.org/10.1037/0735-7044.116.3.479\n",
      "107 http://dx.doi.org/10.1523/JNEUROSCI.0410-04.2004\n",
      "108 http://dx.doi.org/10.1037//0735-7044.116.1.85\n",
      "109 http://dx.doi.org/10.1037/a0012895\n",
      "110 http://dx.doi.org/10.1523/JNEUROSCI.4457-04.2005\n",
      "111 http://dx.doi.org/10.1002/hipo.20369\n",
      "112 http://www.ncbi.nlm.nih.gov/entrez/query.fcgi?holding=npg&amp;cmd=Retrieve&amp;db=PubMed&amp;list_uids=12629201&amp;dopt=Abstract\n",
      "113 http://dx.doi.org/10.1111/j.1749-6632.2000.tb06737.x\n",
      "114 http://dx.doi.org/10.1016/j.neuron.2006.08.011\n",
      "115 http://dx.doi.org/10.1016/j.neuropsychologia.2004.08.002\n",
      "116 http://dx.doi.org/10.1162/jocn.2008.20035\n",
      "117 http://dx.doi.org/10.1093/cercor/12.10.1048\n",
      "118 http://dx.doi.org/10.1016/j.neuroimage.2009.10.021\n",
      "119 /doifinder/10.1038/nn1257\n",
      "120 http://dx.doi.org/10.1016/j.neuroimage.2010.06.065\n",
      "121 http://dx.doi.org/10.1016/j.neuroimage.2011.02.033\n",
      "122 /doifinder/10.1038/33402\n",
      "123 http://dx.doi.org/10.1016/S0896-6273(00)80758-8\n",
      "124 http://dx.doi.org/10.1523/JNEUROSCI.0267-11.2011\n",
      "125 http://dx.doi.org/10.1016/S0896-6273(03)00167-3\n",
      "126 http://dx.doi.org/10.1016/S0010-9452(08)70039-X\n",
      "127 http://dx.doi.org/10.1001/archneur.1986.00520020026011\n",
      "128 /doifinder/10.1038/nature01964\n",
      "129 http://dx.doi.org/10.1016/S0306-4522(03)00160-X\n",
      "130 http://dx.doi.org/10.1016/j.cub.2009.02.033\n",
      "131 http://dx.doi.org/10.1162/08989290051137549\n",
      "132 http://dx.doi.org/10.1016/j.neuron.2007.04.006\n",
      "133 http://dx.doi.org/10.1002/hipo.20109\n",
      "134 http://dx.doi.org/10.1016/j.tics.2008.07.004\n",
      "135 http://dx.doi.org/10.1093/brain/122.9.1613\n",
      "136 http://dx.doi.org/10.1162/08989290260138672\n",
      "137 http://dx.doi.org/10.1162/jocn.2009.21314\n",
      "138 http://dx.doi.org/10.1162/jocn.2006.18.9.1586\n",
      "139 http://dx.doi.org/10.1016/j.neuroimage.2010.01.087\n",
      "141 http://dx.doi.org/10.1098/rstb.2001.0946\n",
      "142 /doifinder/10.1038/nrn2335\n",
      "143 http://dx.doi.org/10.1016/j.tics.2007.08.013\n",
      "144 http://dx.doi.org/10.1037/0735-7044.98.2.310\n",
      "145 /doifinder/10.1038/nn.2919\n",
      "146 http://dx.doi.org/10.1016/S0028-3932(97)00027-4\n",
      "147 http://dx.doi.org/10.1016/j.neuron.2004.05.013\n",
      "148 http://dx.doi.org/10.1093/brain/awm052\n",
      "149 /doifinder/10.1038/nrn1825\n",
      "151 http://dx.doi.org/10.1111/j.1749-6632.2010.05445.x\n",
      "152 http://dx.doi.org/10.1016/j.neuron.2005.09.025\n",
      "153 http://dx.doi.org/10.1016/j.neuropsychologia.2010.07.030\n",
      "154 http://dx.doi.org/10.1016/j.neuron.2011.05.014\n",
      "155 http://dx.doi.org/10.1016/S0028-3932(97)00085-7\n",
      "157 http://dx.doi.org/10.1111/j.1460-9568.2010.07251.x\n",
      "158 http://dx.doi.org/10.1093/brain/awp090\n",
      "159 /doifinder/10.1038/nrn2459\n",
      "160 http://dx.doi.org/10.1523/JNEUROSCI.4163-07.2007\n",
      "161 http://dx.doi.org/10.1093/cercor/bhp116\n",
      "162 http://dx.doi.org/10.1016/j.tins.2011.08.004\n",
      "163 /doifinder/10.1038/nrn1476\n",
      "164 http://dx.doi.org/10.1037/0033-2909.123.2.162\n",
      "165 http://dx.doi.org/10.1037/0033-295X.95.2.163\n",
      "166 http://dx.doi.org/10.1126/science.1205274\n",
      "167 http://dx.doi.org/10.1016/j.tics.2007.09.009\n",
      "168 /doifinder/10.1038/nrn1052\n",
      "169 http://dx.doi.org/10.1016/j.pneurobio.2004.08.005\n",
      "170 http://dx.doi.org/10.1080/02724990444000203\n",
      "172 http://dx.doi.org/10.1016/S0306-4522(03)00281-1\n",
      "173 http://dx.doi.org/10.1016/j.neuron.2009.03.024\n",
      "174 http://dx.doi.org/10.1016/j.neuroimage.2005.10.008\n",
      "175 http://dx.doi.org/10.1523/JNEUROSCI.4978-10.2011\n",
      "176 http://dx.doi.org/10.1093/brain/awg034\n",
      "177 http://dx.doi.org/10.1136/jnnp.74.12.1627\n",
      "178 http://dx.doi.org/10.1212/WNL.57.2.216\n",
      "179 http://dx.doi.org/10.1038/nmeth.1635\n"
     ]
    }
   ],
   "source": [
    "for i in range(0,len(a.citations)):\n",
    "    if a.citations[i].a is None:\n",
    "        continue\n",
    "        print(i,'nolink')\n",
    "    print(i, a.citations[i].a['href'])"
   ]
  },
  {
   "cell_type": "code",
   "execution_count": 17,
   "metadata": {
    "collapsed": false
   },
   "outputs": [
    {
     "data": {
      "text/plain": [
       "True"
      ]
     },
     "execution_count": 17,
     "metadata": {},
     "output_type": "execute_result"
    }
   ],
   "source": [
    "\"Nature\" in a.soup.title.get_text()"
   ]
  },
  {
   "cell_type": "code",
   "execution_count": 146,
   "metadata": {
    "collapsed": false
   },
   "outputs": [
    {
     "name": "stdout",
     "output_type": "stream",
     "text": [
      "Nature Journal\n"
     ]
    }
   ],
   "source": [
    "a = nerdy('http://www.nature.com/nrn/journal/v13/n10/full/nrn3338.html')\n",
    "a.get_full_text()"
   ]
  },
  {
   "cell_type": "code",
   "execution_count": 152,
   "metadata": {
    "collapsed": false
   },
   "outputs": [
    {
     "data": {
      "text/plain": [
       "'/doifinder/10.1038/35049064'"
      ]
     },
     "execution_count": 152,
     "metadata": {},
     "output_type": "execute_result"
    }
   ],
   "source": [
    "a.citations[1].a['href']"
   ]
  },
  {
   "cell_type": "code",
   "execution_count": null,
   "metadata": {
    "collapsed": true
   },
   "outputs": [],
   "source": [
    "html=urllib.request.urlopen('http://dx.doi.org/10.1038/35049064')\n",
    "soup = bs.BeautifulSoup(html,'lxml')# trun pretty \n",
    "## extract\n",
    "citations = soup.find_all('ol', attrs={'class':'references'})"
   ]
  },
  {
   "cell_type": "code",
   "execution_count": null,
   "metadata": {
    "collapsed": false
   },
   "outputs": [],
   "source": [
    "a = nerdy('http://www.nature.com/nrn/journal/v2/n1/full/nrn0101_051a.html')\n",
    "a.get_full_text()\n",
    "a.citations\n",
    "a.citations[1].a['href']"
   ]
  },
  {
   "cell_type": "code",
   "execution_count": null,
   "metadata": {
    "collapsed": false
   },
   "outputs": [],
   "source": [
    "# a = nerdy('http://www.nature.com/nrn/journal/v13/n10/full/nrn3338.html')\n",
    "a = nerdy('http://www.nature.com/nrn/journal/v13/n10/full/nrn3338.html') # nature neuro\n",
    "a.get_full_text()\n",
    "a.get_links()\n"
   ]
  },
  {
   "cell_type": "code",
   "execution_count": null,
   "metadata": {
    "collapsed": true
   },
   "outputs": [],
   "source": [
    "a = nerdy('http://www.jneurosci.org/content/32/19/6550')\n",
    "a.get_full_text()"
   ]
  },
  {
   "cell_type": "code",
   "execution_count": null,
   "metadata": {
    "collapsed": false
   },
   "outputs": [],
   "source": [
    "a.soup"
   ]
  },
  {
   "cell_type": "code",
   "execution_count": null,
   "metadata": {
    "collapsed": false
   },
   "outputs": [],
   "source": [
    "a.soup"
   ]
  },
  {
   "cell_type": "code",
   "execution_count": null,
   "metadata": {
    "collapsed": false
   },
   "outputs": [],
   "source": [
    "a.soup.find_all('div', {'class':\"cit ref-cit ref-journal\"})[0]"
   ]
  },
  {
   "cell_type": "code",
   "execution_count": null,
   "metadata": {
    "collapsed": true
   },
   "outputs": [],
   "source": [
    "a.soup.find_all('div', {'class':\"cit ref-cit ref-journal\"})["
   ]
  },
  {
   "cell_type": "code",
   "execution_count": null,
   "metadata": {
    "collapsed": false
   },
   "outputs": [],
   "source": [
    "a = 0\n",
    "a = nerdy('http://www.sciencedirect.com/science/article/pii/S0010027716301998')# doesnt work # elsivier "
   ]
  },
  {
   "cell_type": "code",
   "execution_count": null,
   "metadata": {
    "collapsed": false
   },
   "outputs": [],
   "source": [
    "a = nerdy('http://journal.frontiersin.org/article/10.3389/fnhum.2014.00073/full') # frontiers works\n",
    "a.get_full_text()\n",
    "a.get_links()"
   ]
  },
  {
   "cell_type": "code",
   "execution_count": null,
   "metadata": {
    "collapsed": false
   },
   "outputs": [],
   "source": [
    "a.citations[18]"
   ]
  },
  {
   "cell_type": "code",
   "execution_count": null,
   "metadata": {
    "collapsed": false
   },
   "outputs": [],
   "source": [
    "a.citations[1].find_all('a')[1]['href']"
   ]
  },
  {
   "cell_type": "code",
   "execution_count": null,
   "metadata": {
    "collapsed": false
   },
   "outputs": [],
   "source": [
    "a.links_output"
   ]
  },
  {
   "cell_type": "code",
   "execution_count": null,
   "metadata": {
    "collapsed": true
   },
   "outputs": [],
   "source": [
    "a.get_links()"
   ]
  },
  {
   "cell_type": "code",
   "execution_count": null,
   "metadata": {
    "collapsed": false
   },
   "outputs": [],
   "source": [
    "a.random_ten"
   ]
  },
  {
   "cell_type": "code",
   "execution_count": 44,
   "metadata": {
    "collapsed": true
   },
   "outputs": [],
   "source": [
    "import networkx as nx"
   ]
  },
  {
   "cell_type": "code",
   "execution_count": null,
   "metadata": {
    "collapsed": true
   },
   "outputs": [],
   "source": [
    "DG = nx.DiGraph()\n",
    "\n",
    "def recursive_add(DOI)\n",
    "    if not DG.has_node(DOI) :\n",
    "        node_data = "
   ]
  },
  {
   "cell_type": "code",
   "execution_count": 89,
   "metadata": {
    "collapsed": true
   },
   "outputs": [],
   "source": [
    "# this is where the magic happens\n",
    "def recursive_add(DOI):\n",
    "    if not DG.has_node( DOI ):\n",
    "        node_data = nerdy(DOI)\n",
    "        print(node_data.paper_url)\n",
    "#         node_data.get_full_text()\n",
    "#         node_data.get_links()\n",
    "        node_data.get_full_text()\n",
    "\n",
    "#         node_data.elsevier_ref()    \n",
    "        DG.add_node( DOI)\n",
    "        child_list = node_data.random_ten\n",
    "#         return(child_list)\n",
    "        print(DOI,child_list)\n",
    "#     for child in child_list:\n",
    "#         print(child)\n",
    "#         recursive_add(child)\n",
    "#         print( 'addding: '+child )\n",
    "#         DG.add_edge(DOI, child)\n",
    "    "
   ]
  },
  {
   "cell_type": "code",
   "execution_count": 90,
   "metadata": {
    "collapsed": false
   },
   "outputs": [
    {
     "name": "stdout",
     "output_type": "stream",
     "text": [
      "http://dx.doi.org/https://www.nature.com/neuro/journal/vaop/ncurrent/full/nn.4572.html\n",
      "link Not Found\n"
     ]
    },
    {
     "ename": "AttributeError",
     "evalue": "'nerdy' object has no attribute 'random_ten'",
     "output_type": "error",
     "traceback": [
      "\u001b[0;31m---------------------------------------------------------------------------\u001b[0m",
      "\u001b[0;31mAttributeError\u001b[0m                            Traceback (most recent call last)",
      "\u001b[0;32m<ipython-input-90-0c7a9bbcdcdd>\u001b[0m in \u001b[0;36m<module>\u001b[0;34m()\u001b[0m\n\u001b[1;32m      1\u001b[0m \u001b[0mDG\u001b[0m \u001b[0;34m=\u001b[0m \u001b[0mnx\u001b[0m\u001b[0;34m.\u001b[0m\u001b[0mDiGraph\u001b[0m\u001b[0;34m(\u001b[0m\u001b[0;34m)\u001b[0m\u001b[0;34m\u001b[0m\u001b[0m\n\u001b[0;32m----> 2\u001b[0;31m \u001b[0mrecursive_add\u001b[0m\u001b[0;34m(\u001b[0m\u001b[0;34m'https://www.nature.com/neuro/journal/vaop/ncurrent/full/nn.4572.html'\u001b[0m\u001b[0;34m)\u001b[0m\u001b[0;34m\u001b[0m\u001b[0m\n\u001b[0m",
      "\u001b[0;32m<ipython-input-89-3e7a634c695a>\u001b[0m in \u001b[0;36mrecursive_add\u001b[0;34m(DOI)\u001b[0m\n\u001b[1;32m     10\u001b[0m \u001b[0;31m#         node_data.elsevier_ref()\u001b[0m\u001b[0;34m\u001b[0m\u001b[0;34m\u001b[0m\u001b[0m\n\u001b[1;32m     11\u001b[0m         \u001b[0mDG\u001b[0m\u001b[0;34m.\u001b[0m\u001b[0madd_node\u001b[0m\u001b[0;34m(\u001b[0m \u001b[0mDOI\u001b[0m\u001b[0;34m)\u001b[0m\u001b[0;34m\u001b[0m\u001b[0m\n\u001b[0;32m---> 12\u001b[0;31m         \u001b[0mchild_list\u001b[0m \u001b[0;34m=\u001b[0m \u001b[0mnode_data\u001b[0m\u001b[0;34m.\u001b[0m\u001b[0mrandom_ten\u001b[0m\u001b[0;34m\u001b[0m\u001b[0m\n\u001b[0m\u001b[1;32m     13\u001b[0m \u001b[0;31m#         return(child_list)\u001b[0m\u001b[0;34m\u001b[0m\u001b[0;34m\u001b[0m\u001b[0m\n\u001b[1;32m     14\u001b[0m         \u001b[0mprint\u001b[0m\u001b[0;34m(\u001b[0m\u001b[0mDOI\u001b[0m\u001b[0;34m,\u001b[0m\u001b[0mchild_list\u001b[0m\u001b[0;34m)\u001b[0m\u001b[0;34m\u001b[0m\u001b[0m\n",
      "\u001b[0;31mAttributeError\u001b[0m: 'nerdy' object has no attribute 'random_ten'"
     ]
    }
   ],
   "source": [
    "DG = nx.DiGraph()\n",
    "recursive_add('https://www.nature.com/neuro/journal/vaop/ncurrent/full/nn.4572.html')"
   ]
  },
  {
   "cell_type": "code",
   "execution_count": null,
   "metadata": {
    "collapsed": true
   },
   "outputs": [],
   "source": [
    "b = nerdy(a.random_ten[2])"
   ]
  },
  {
   "cell_type": "code",
   "execution_count": null,
   "metadata": {
    "collapsed": false
   },
   "outputs": [],
   "source": [
    "urllib.request.urlopen(b.paper_url)"
   ]
  },
  {
   "cell_type": "code",
   "execution_count": null,
   "metadata": {
    "collapsed": false
   },
   "outputs": [],
   "source": [
    "b.get_full_text()"
   ]
  },
  {
   "cell_type": "code",
   "execution_count": null,
   "metadata": {
    "collapsed": true
   },
   "outputs": [],
   "source": [
    "b."
   ]
  },
  {
   "cell_type": "code",
   "execution_count": null,
   "metadata": {
    "collapsed": false
   },
   "outputs": [],
   "source": [
    "b.soup"
   ]
  },
  {
   "cell_type": "code",
   "execution_count": null,
   "metadata": {
    "collapsed": false
   },
   "outputs": [],
   "source": [
    "# b.get_full_text()\n",
    "b.soup"
   ]
  },
  {
   "cell_type": "code",
   "execution_count": null,
   "metadata": {
    "collapsed": false
   },
   "outputs": [],
   "source": [
    "recursive_add(a.random_ten[1])"
   ]
  }
 ],
 "metadata": {
  "kernelspec": {
   "display_name": "Python 3",
   "language": "python",
   "name": "python3"
  },
  "language_info": {
   "codemirror_mode": {
    "name": "ipython",
    "version": 3
   },
   "file_extension": ".py",
   "mimetype": "text/x-python",
   "name": "python",
   "nbconvert_exporter": "python",
   "pygments_lexer": "ipython3",
   "version": "3.6.0"
  }
 },
 "nbformat": 4,
 "nbformat_minor": 2
}
