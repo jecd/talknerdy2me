{
 "cells": [
  {
   "cell_type": "markdown",
   "metadata": {},
   "source": [
    "This looks like it may be a killer project. I've given comments to others, so you guys should make sure to compare notes. - This looks like it should be a class --> passing full text between functions is messy, self.text is nicer. - It's rare that you find a problem where recursion is the right way to do it, building a tree of nodes is one of them. I think you are going to want to make a function that takes in a article, and calls itself. - networkx is a good package for node-graph representations in python."
   ]
  },
  {
   "cell_type": "code",
   "execution_count": 1,
   "metadata": {
    "collapsed": true
   },
   "outputs": [],
   "source": [
    "import bs4 as bs\n",
    "import urllib.request\n",
    "import re as re\n",
    "import matplotlib.pyplot as plt\n",
    "import seaborn as sns\n",
    "import pandas as pd"
   ]
  },
  {
   "cell_type": "code",
   "execution_count": 36,
   "metadata": {
    "collapsed": false
   },
   "outputs": [],
   "source": [
    "class nerdy:\n",
    "    def __init__(self, paper_url):\n",
    "        self.paper_url = paper_url\n",
    "        \n",
    "    def get_full_text(self):\n",
    "        self.html = urllib.request.urlopen(self.paper_url)\n",
    "        self.soup = bs.BeautifulSoup(self.html,'lxml')\n",
    "        self.citations = self.soup.find('ol', {'class':'references'}).select('li[id]')\n",
    "        self.article_title = self.soup.title\n",
    "        # add get authors"
   ]
  },
  {
   "cell_type": "code",
   "execution_count": 37,
   "metadata": {
    "collapsed": false
   },
   "outputs": [],
   "source": [
    "a = nerdy('http://www.nature.com/nrn/journal/v13/n10/full/nrn3338.html')"
   ]
  },
  {
   "cell_type": "code",
   "execution_count": 38,
   "metadata": {
    "collapsed": false,
    "scrolled": false
   },
   "outputs": [],
   "source": [
    "a.get_full_text()"
   ]
  },
  {
   "cell_type": "code",
   "execution_count": 41,
   "metadata": {
    "collapsed": false
   },
   "outputs": [
    {
     "data": {
      "text/plain": [
       "'Two cortical systems for memory-guided behaviour : Article : Nature Reviews Neuroscience'"
      ]
     },
     "execution_count": 41,
     "metadata": {},
     "output_type": "execute_result"
    }
   ],
   "source": [
    "a.article_title.get_text()"
   ]
  },
  {
   "cell_type": "code",
   "execution_count": 33,
   "metadata": {
    "collapsed": false
   },
   "outputs": [
    {
     "data": {
      "text/plain": [
       "<li id=\"B1\"><p class=\"details\">Squire, L. R. &amp; Zola-Morgan, S.                    <span class=\"atl\">The medial temporal lobe memory system</span>. <span class=\"jtl\">Science</span> <span class=\"vid\">253</span>, 1380–1386 (<span class=\"cite-month-year\">1991</span>).</p><ul class=\"article-views\"><li class=\"ref-doi first\"><a href=\"http://dx.doi.org/10.1126/science.1896849\" title=\"\">Article</a></li><li class=\"ref-medline\"><a href=\"http://www.ncbi.nlm.nih.gov/entrez/query.fcgi?holding=npg&amp;amp;cmd=Retrieve&amp;amp;db=PubMed&amp;amp;list_uids=1896849&amp;amp;dopt=Abstract\" title=\"Article on PubMed - \">PubMed</a></li><li class=\"ref-isi\"><a href=\"http://links.isiglobalnet2.com/gateway/Gateway.cgi?&amp;amp;GWVersion=2&amp;amp;SrcAuth=Nature&amp;amp;SrcApp=Nature&amp;amp;DestLinkType=FullRecord&amp;amp;KeyUT=A1991GF85100031&amp;amp;DestApp=WOS_CPL\" title=\"Article on ISI - \">ISI</a></li><li class=\"ref-coi\"><a href=\"http://chemport.cas.org/cgi-bin/sdcgi?APP=ftslink&amp;action=reflink&amp;origin=npg&amp;version=1.0&amp;coi=1:STN:280:By6A2snmsVQ%3D&amp;pissn=1471-003X&amp;pyear=2012&amp;md5=4e4a85c6ec359f6580ebcc8308469472\" title=\"Article on CAS - \">CAS</a></li></ul></li>"
      ]
     },
     "execution_count": 33,
     "metadata": {},
     "output_type": "execute_result"
    }
   ],
   "source": [
    "a.citations[0]"
   ]
  },
  {
   "cell_type": "code",
   "execution_count": 26,
   "metadata": {
    "collapsed": false
   },
   "outputs": [
    {
     "data": {
      "text/plain": [
       "'http://dx.doi.org/10.1126/science.1896849'"
      ]
     },
     "execution_count": 26,
     "metadata": {},
     "output_type": "execute_result"
    }
   ],
   "source": [
    "a.citations[0].a['href']"
   ]
  },
  {
   "cell_type": "code",
   "execution_count": 45,
   "metadata": {
    "collapsed": false
   },
   "outputs": [
    {
     "name": "stdout",
     "output_type": "stream",
     "text": [
      "http://dx.doi.org/10.1126/science.1896849\n",
      "/doifinder/10.1038/35049064\n",
      "http://dx.doi.org/10.1146/annurev.neuro.30.051606.094328\n",
      "http://dx.doi.org/10.1098/rstb.1997.0132\n",
      "/doifinder/10.1038/nrn2733\n",
      "http://dx.doi.org/10.1093/brain/110.6.1631\n",
      "http://dx.doi.org/10.1002/1098-1063(2000)10:4<398::AID-HIPO6>3.0.CO;2-K\n",
      "http://dx.doi.org/10.1016/j.neubiorev.2011.09.005\n",
      "http://dx.doi.org/10.1002/hipo.20314\n",
      "http://dx.doi.org/10.1002/hipo.22024\n"
     ]
    }
   ],
   "source": [
    "for i in range(0,10):\n",
    "        print(a.citations[i].a['href'])\n",
    "        "
   ]
  },
  {
   "cell_type": "code",
   "execution_count": 14,
   "metadata": {
    "collapsed": false
   },
   "outputs": [
    {
     "data": {
      "text/plain": [
       "<p id=\"aug\">Charan Ranganath<sup><a href=\"#a1\" title=\"affiliated with \">1</a>,</sup><sup><a href=\"#a2\" title=\"affiliated with \">2</a></sup>\n",
       "\t\t\t\t\t\t&amp;\n",
       "\t\t\tMaureen Ritchey<sup><a href=\"#a2\" title=\"affiliated with \">2</a></sup> \n",
       "\t\t\t<a href=\"/nrn/journal/v13/n10/authors/nrn3338.html\" title=\"More information about the author\">About the authors</a></p>"
      ]
     },
     "execution_count": 14,
     "metadata": {},
     "output_type": "execute_result"
    }
   ],
   "source": [
    "a.soup.find('p',{'id':'aug'})"
   ]
  },
  {
   "cell_type": "code",
   "execution_count": null,
   "metadata": {
    "collapsed": false
   },
   "outputs": [],
   "source": [
    "citations = a.soup.find('ol', {'class':'references'})\n",
    "citations.select('li[id]')[]"
   ]
  },
  {
   "cell_type": "code",
   "execution_count": null,
   "metadata": {
    "collapsed": true
   },
   "outputs": [],
   "source": [
    "import re\n",
    "import urllib\n",
    "from bs4 import BeautifulSoup\n",
    " \n",
    "html = urllib.urlopen('http://bgr.com/2014/10/15/google-android-5-0-lollipop-release/')\n",
    "soup = BeautifulSoup(html)\n",
    "data = soup.findAll(text=True)\n",
    " \n",
    "def visible(element):\n",
    "    if element.parent.name in ['style', 'script', '[document]', 'head', 'title']:\n",
    "        return False\n",
    "    elif re.match('<!--.*-->', str(element.encode('utf-8'))):\n",
    "        return False\n",
    "    return True\n",
    " \n",
    "result = filter(visible, data)\n",
    " \n",
    "print visible_texts"
   ]
  },
  {
   "cell_type": "code",
   "execution_count": null,
   "metadata": {
    "collapsed": true
   },
   "outputs": [],
   "source": [
    "class a_bit_of_text_class():\n",
    "    def __init__(self):\n",
    "        self.text = 'I am some text'\n",
    "\n",
    "    def update_text(self, new_text):\n",
    "        self.text = new_text\n",
    "        \n",
    "    def print_text(self):\n",
    "        print( self.text )"
   ]
  }
 ],
 "metadata": {
  "kernelspec": {
   "display_name": "Python 3",
   "language": "python",
   "name": "python3"
  },
  "language_info": {
   "codemirror_mode": {
    "name": "ipython",
    "version": 3
   },
   "file_extension": ".py",
   "mimetype": "text/x-python",
   "name": "python",
   "nbconvert_exporter": "python",
   "pygments_lexer": "ipython3",
   "version": "3.6.0"
  }
 },
 "nbformat": 4,
 "nbformat_minor": 2
}
