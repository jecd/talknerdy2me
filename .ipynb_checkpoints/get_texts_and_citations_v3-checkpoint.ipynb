{
 "cells": [
  {
   "cell_type": "markdown",
   "metadata": {},
   "source": [
    "## Here is the code to get the paper citations"
   ]
  },
  {
   "cell_type": "code",
   "execution_count": 1,
   "metadata": {
    "collapsed": true
   },
   "outputs": [],
   "source": [
    "import bs4 as bs\n",
    "import urllib.request\n",
    "import re as re\n",
    "import matplotlib.pyplot as plt\n",
    "import seaborn as sns\n",
    "import pandas as pd\n",
    "import numpy as np"
   ]
  },
  {
   "cell_type": "code",
   "execution_count": null,
   "metadata": {
    "collapsed": true
   },
   "outputs": [],
   "source": [
    "#     def get_full_text(self):\n",
    "#         self.html = urllib.request.urlopen(self.paper_url)# grab html\n",
    "#         self.soup = bs.BeautifulSoup(self.html,'lxml')# trun pretty \n",
    "#         ## extract\n",
    "#         self.citations = self.soup.find_all('div', attrs={'class':'References'})\n",
    "#         self.cite_flag = True;\n",
    "#         if self.citations is None:\n",
    "#             print('cant get citations for ',self.paper_url) \n",
    "#         elif not self.citations: # NN\n",
    "#             self.citations = self.soup.find('ol', {'class':'references'}).select('li[id]') # get citations\n",
    "#             if self.citations is None:\n",
    "#                 print('cant get citations for ',self.paper_url) \n",
    "#             elif not a.citations:\n",
    "#                 print('cant get citations for ',self.paper_url)"
   ]
  },
  {
   "cell_type": "code",
   "execution_count": null,
   "metadata": {
    "collapsed": true
   },
   "outputs": [],
   "source": [
    "\n",
    "# links_output = []\n",
    "# for link in a.soup.find_all('a'):\n",
    "#     links_output.append(link.get('href'))\n",
    "    \n",
    "# for i in range(0,len(links_output)): \n",
    "#     if links_output[i] is None:\n",
    "#         continue\n",
    "#     else:\n",
    "#         if '.full' in links_output[i]:\n",
    "#             if 'http:' in links_output[i]:\n",
    "#                 master_link = links_output[i]\n",
    "#                 break"
   ]
  },
  {
   "cell_type": "code",
   "execution_count": 70,
   "metadata": {
    "collapsed": false,
    "scrolled": true
   },
   "outputs": [],
   "source": [
    "# need to get j neuroscience to work better\n",
    "class nerdy:\n",
    "    def __init__(self, paper_url):\n",
    "        if 'http://dx' in paper_url:\n",
    "            print('a')\n",
    "            self.paper_url = paper_url\n",
    "        elif 'http' in paper_url:\n",
    "            print('b')\n",
    "            self.paper_url = paper_url\n",
    "        else:\n",
    "            print('c')\n",
    "            self.paper_url = 'http://dx.doi.org/' + paper_url\n",
    "\n",
    "        \n",
    "    def elsevier_ref(self):\n",
    "        prefix = 'https://api.elsevier.com/content/abstract/doi/'\n",
    "        suffix = '?apiKey=40acd4c83833cb8ead38b50834823fd9&view=REF'\n",
    "        doi = self.paper_url\n",
    "\n",
    "        self.link = prefix+doi+suffix\n",
    "        self.html = urllib.request.urlopen(self.link)# grab html\n",
    "        self.soup = bs.BeautifulSoup(self.html,'xml')# trun pretty \n",
    "        \n",
    "        self.citations =[]\n",
    "        for doi in self.soup.find_all('doi'):\n",
    "            self.citations.append(doi.contents[0])\n",
    "        \n",
    "        self.random_ten = np.random.choice(self.citations,size = 10)\n",
    "                        \n",
    "    def get_full_text(self):\n",
    "        # added error handeling\n",
    "        req = urllib.request.Request(self.paper_url)\n",
    "        try: urllib.request.urlopen(req)\n",
    "        except urllib.error.URLError as e:\n",
    "            print('link ' + e.reason)\n",
    "            return\n",
    "        else:\n",
    "            self.html = urllib.request.urlopen(self.paper_url)\n",
    "        \n",
    "#         self.html = urllib.request.urlopen(self.paper_url)# grab html\n",
    "        self.soup = bs.BeautifulSoup(self.html,'lxml')# trun pretty \n",
    "        ## extract\n",
    "        ## auto detect journal\n",
    "        if \"Nature\" in self.soup.title.get_text():\n",
    "            print('Nature Journal')\n",
    "            self.journal = 'Nature'\n",
    "            self.citations = self.soup.find('ol', {'class':'references'}).select('li[id]')\n",
    "            \n",
    "            counter = 0\n",
    "            prefix = ''#'http://dx.doi.org/'\n",
    "            links_output = []\n",
    "            for i in range(len(self.citations[0:])):\n",
    "                if self.citations[i].a is None: # if link doesnt exist \n",
    "                    counter = counter + 1\n",
    "                    print(i, 'cant find link')\n",
    "                elif len(self.citations[i].a['href']) > 90: # if the link is really long \n",
    "                    print(i, 'long link')\n",
    "#                     links_output.append(re.sub(\"http://dx.doi.org/\", '' ,self.citations[i].a['href']))\n",
    "                elif 'http://dx.doi.org/' in self.citations[i].a['href']: # normal\n",
    "                    links_output.append(re.sub(\"http://dx.doi.org/\", '' ,self.citations[i].a['href']))\n",
    "                else: # if its short add prefix\n",
    "                    links_output.append(re.sub(\"/doifinder/\", '' ,self.citations[i].a['href']))\n",
    "                    \n",
    "            ## save em to class\n",
    "            self.links_output = links_output\n",
    "            self.missing_links = counter\n",
    "            if len(a.links_output) < 1:\n",
    "                counter = 0\n",
    "                for link in self.citations:\n",
    "                    for morelinks in link.find_all('a',href = True):\n",
    "                        counter = counter + 1\n",
    "                        print(counter, morelinks['href'])\n",
    "                        if 'http://dx.doi.org/' in morelinks['href']: # normal\n",
    "                            links_output.append(re.sub(\"http://dx.doi.org/\", '' ,morelinks['href']))\n",
    "                        \n",
    "            self.random_ten = np.random.choice(self.links_output,size = 10)\n",
    "            \n",
    "        elif \"ScienceDirect\" in self.soup.title.get_text(): \n",
    "            print('ScienceDirect',self.soup.title.get_text())\n",
    "            \n",
    "            prefix = 'https://api.elsevier.com/content/abstract/doi/'\n",
    "            suffix = '?apiKey=40acd4c83833cb8ead38b50834823fd9&view=REF'\n",
    "            doi = self.paper_url\n",
    "\n",
    "            self.link = prefix+doi+suffix\n",
    "            self.html = urllib.request.urlopen(self.link)# grab html\n",
    "            self.soup = bs.BeautifulSoup(self.html,'xml')# trun pretty \n",
    "\n",
    "            self.citations =[]\n",
    "            for doi in self.soup.find_all('doi'):\n",
    "                self.citations.append(doi.contents[0])\n",
    "\n",
    "            self.random_ten = np.random.choice(self.citations,size = 10)\n",
    "            \n",
    "        elif \"Science\" in self.soup.title.get_text(): # science\n",
    "            print('Science',self.soup.title.get_text())\n",
    "            \n",
    "            print('getting full text','Science Journal')\n",
    "            self.journal = 'Science'\n",
    "            self.soup = bs.BeautifulSoup(self.html,'lxml')#        \n",
    "            self.citations = self.soup.find_all('div', attrs={'class':'References'})\n",
    "            if self.citations is None:\n",
    "                print('actually abstract getting really')\n",
    "                links_output = []\n",
    "                for link in self.soup.find_all('a'):\n",
    "                    links_output.append(link.get('href'))\n",
    "\n",
    "                for i in range(0,len(links_output)): \n",
    "                    if links_output[i] is None:\n",
    "                        continue\n",
    "                    else:\n",
    "                        if '.full' in links_output[i]:\n",
    "                            if 'http:' in links_output[i]:\n",
    "                                self.master_link = links_output[i]\n",
    "                                break\n",
    "                self.html = urllib.request.urlopen(self.master_link)# grab html\n",
    "                self.soup = bs.BeautifulSoup(self.html,'lxml')#        \n",
    "                self.citations = self.soup.find_all('div', attrs={'class':'References'})\n",
    "                self.random_ten = np.random.choice(self.citations,size = 10)\n",
    "            else:\n",
    "                print(self.citations)\n",
    "                self.random_ten = np.random.choice(self.citations,size = 10)\n",
    "        else:\n",
    "            print(self.soup.title.get_text(),'unsupported journal')\n",
    "        \n",
    "    def get_links(self):    \n",
    "        ## get links\n",
    "        counter = 0\n",
    "        prefix = ''#'http://dx.doi.org/'\n",
    "        links_output = [] # create output \n",
    "        if self.cite_flag == True:\n",
    "            for i in range(len(self.citations[0:])):\n",
    "                if len(self.citations[i].find_all('a')) == 4:\n",
    "                    links_output.append(self.citations[i].find_all('a')[3]['href'])\n",
    "                elif len(self.citations[i].find_all('a')) < 2 :\n",
    "                    counter = counter + 1\n",
    "                    print(i,'cant find link')\n",
    "                elif 'http://dx.doi.org/' in self.citations[i].find_all('a')[1]['href']:\n",
    "                    links_output.append(self.citations[i].find_all('a')[1]['href'])\n",
    "                else:\n",
    "                    counter = counter + 1\n",
    "                    print(i,'cant find link')\n",
    "\n",
    "        else: ## v1 \n",
    "            for i in range(len(self.citations[0:])):\n",
    "                if self.citations[i].a is None: # if link doesnt exist \n",
    "                    counter = counter + 1\n",
    "                    print(i, 'cant find link')\n",
    "                elif len(self.citations[i].a['href']) > 120: # if the link is really long \n",
    "                    links_output.append(re.sub(\"http://dx.doi.org/\", '' ,self.citations[i].a['href']))\n",
    "                elif 'http://dx.doi.org/' in self.citations[i].a['href']: # normal\n",
    "                    links_output.append(self.citations[i].a['href'])\n",
    "                else: # if its short add prefix\n",
    "                    links_output.append(prefix + re.sub(\"/doifinder/\", '' ,self.citations[i].a['href']))\n",
    "                    \n",
    "        ## save em to class\n",
    "        self.links_output = links_output\n",
    "        self.missing_links = counter\n",
    "        self.random_ten = np.random.choice(self.links_output,size = 10)"
   ]
  },
  {
   "cell_type": "code",
   "execution_count": 76,
   "metadata": {
    "collapsed": false
   },
   "outputs": [
    {
     "name": "stdout",
     "output_type": "stream",
     "text": [
      "c\n",
      "link Not Found\n"
     ]
    }
   ],
   "source": [
    "a = nerdy('10.1016/j.neuron.2004.05.013')\n",
    "a.get_full_text()"
   ]
  },
  {
   "cell_type": "code",
   "execution_count": 73,
   "metadata": {
    "collapsed": false
   },
   "outputs": [
    {
     "data": {
      "text/plain": [
       "array(['10.1523/JNEUROSCI.3763-03.2004', '10.1016/j.neuron.2004.05.013',\n",
       "       '10.1002/cne.21346', '10.1523/JNEUROSCI.4792-05.2006',\n",
       "       '10.1111/j.1460-9568.2010.07251.x', '10.1093/brain/awg034',\n",
       "       '10.1016/j.neuron.2005.09.025', '10.1523/JNEUROSCI.0410-04.2004',\n",
       "       '10.1523/JNEUROSCI.4839-03.2004', '10.1073/pnas.98.2.676'], \n",
       "      dtype='<U63')"
      ]
     },
     "execution_count": 73,
     "metadata": {},
     "output_type": "execute_result"
    }
   ],
   "source": [
    "a.random_ten"
   ]
  },
  {
   "cell_type": "code",
   "execution_count": 40,
   "metadata": {
    "collapsed": false
   },
   "outputs": [
    {
     "name": "stdout",
     "output_type": "stream",
     "text": [
      "1 http://chemport.cas.org/cgi-bin/sdcgi?APP=ftslink&action=reflink&origin=npg&version=1.0&coi=1:CAS:528:DC%2BD2sXitVGrsbo%3D&pissn=1097-6256&pyear=2017&md5=a742e458815bc5e77072195e3b5b2af5\n",
      "2 http://links.isiglobalnet2.com/gateway/Gateway.cgi?amp;GWVersion=2&amp;SrcAuth=Nature&amp;SrcApp=Nature&amp;DestLinkType=FullRecord&amp;KeyUT=000244520500013&amp;DestApp=WOS_CPL\n",
      "3 http://www.ncbi.nlm.nih.gov/entrez/query.fcgi?holding=npg&amp;cmd=Retrieve&amp;db=PubMed&amp;list_uids=17318210&amp;dopt=Abstract\n",
      "4 /doifinder/10.1038/nrc2088\n",
      "5 http://chemport.cas.org/cgi-bin/sdcgi?APP=ftslink&action=reflink&origin=npg&version=1.0&coi=1:CAS:528:DC%2BC2cXksVWntLk%3D&pissn=1097-6256&pyear=2017&md5=15aaf83200d70fdeffdec79cda73a0f2\n",
      "6 http://links.isiglobalnet2.com/gateway/Gateway.cgi?amp;GWVersion=2&amp;SrcAuth=Nature&amp;SrcApp=Nature&amp;DestLinkType=FullRecord&amp;KeyUT=000333233400008&amp;DestApp=WOS_CPL\n",
      "7 http://www.ncbi.nlm.nih.gov/entrez/query.fcgi?holding=npg&amp;cmd=Retrieve&amp;db=PubMed&amp;list_uids=24651011&amp;dopt=Abstract\n",
      "8 http://dx.doi.org/10.1016/j.ccr.2014.02.025\n",
      "9 http://chemport.cas.org/cgi-bin/sdcgi?APP=ftslink&action=reflink&origin=npg&version=1.0&coi=1:CAS:528:DC%2BC3sXhslCmsLrP&pissn=1097-6256&pyear=2017&md5=78af2475e67cf787334437ad87b2406c\n",
      "10 http://links.isiglobalnet2.com/gateway/Gateway.cgi?amp;GWVersion=2&amp;SrcAuth=Nature&amp;SrcApp=Nature&amp;DestLinkType=FullRecord&amp;KeyUT=000326920300017&amp;DestApp=WOS_CPL\n",
      "11 http://www.ncbi.nlm.nih.gov/entrez/query.fcgi?holding=npg&amp;cmd=Retrieve&amp;db=PubMed&amp;list_uids=24202392&amp;dopt=Abstract\n",
      "12 /doifinder/10.1038/nm.3388\n",
      "13 http://chemport.cas.org/cgi-bin/sdcgi?APP=ftslink&action=reflink&origin=npg&version=1.0&coi=1:CAS:528:DC%2BC3MXotlersbc%3D&pissn=1097-6256&pyear=2017&md5=a85a82f90d9581ac91a8aee4c4e6679c\n",
      "14 http://links.isiglobalnet2.com/gateway/Gateway.cgi?amp;GWVersion=2&amp;SrcAuth=Nature&amp;SrcApp=Nature&amp;DestLinkType=FullRecord&amp;KeyUT=000292287300020&amp;DestApp=WOS_CPL\n",
      "15 http://www.ncbi.nlm.nih.gov/entrez/query.fcgi?holding=npg&amp;cmd=Retrieve&amp;db=PubMed&amp;list_uids=21555370&amp;dopt=Abstract\n",
      "16 http://dx.doi.org/10.1158/0008-5472.CAN-10-2668\n",
      "17 http://chemport.cas.org/cgi-bin/sdcgi?APP=ftslink&action=reflink&origin=npg&version=1.0&coi=1:CAS:528:DC%2BC2cXht1agsL7I&pissn=1097-6256&pyear=2017&md5=f29649dd188e189d5e24ac60eb471f3b\n",
      "18 http://links.isiglobalnet2.com/gateway/Gateway.cgi?amp;GWVersion=2&amp;SrcAuth=Nature&amp;SrcApp=Nature&amp;DestLinkType=FullRecord&amp;KeyUT=000340343800009&amp;DestApp=WOS_CPL\n",
      "19 http://www.ncbi.nlm.nih.gov/entrez/query.fcgi?holding=npg&amp;cmd=Retrieve&amp;db=PubMed&amp;list_uids=25065853&amp;dopt=Abstract\n",
      "20 http://dx.doi.org/10.1016/j.ccr.2014.05.019\n",
      "21 http://chemport.cas.org/cgi-bin/sdcgi?APP=ftslink&action=reflink&origin=npg&version=1.0&coi=1:CAS:528:DC%2BC3cXkvFKgsL4%3D&pissn=1097-6256&pyear=2017&md5=17cbc0f46aad5d1c8dc99a400bf3dae5\n",
      "22 http://links.isiglobalnet2.com/gateway/Gateway.cgi?amp;GWVersion=2&amp;SrcAuth=Nature&amp;SrcApp=Nature&amp;DestLinkType=FullRecord&amp;KeyUT=000274471300013&amp;DestApp=WOS_CPL\n",
      "23 http://www.ncbi.nlm.nih.gov/entrez/query.fcgi?holding=npg&amp;cmd=Retrieve&amp;db=PubMed&amp;list_uids=20129251&amp;dopt=Abstract\n",
      "24 http://dx.doi.org/10.1016/j.ccr.2009.12.020\n",
      "25 http://chemport.cas.org/cgi-bin/sdcgi?APP=ftslink&action=reflink&origin=npg&version=1.0&coi=1:CAS:528:DC%2BC3cXhtFGmt77M&pissn=1097-6256&pyear=2017&md5=1db0c787d0b72d188b3fb89933b2e49e\n",
      "26 http://links.isiglobalnet2.com/gateway/Gateway.cgi?amp;GWVersion=2&amp;SrcAuth=Nature&amp;SrcApp=Nature&amp;DestLinkType=FullRecord&amp;KeyUT=000282587700001&amp;DestApp=WOS_CPL\n",
      "27 http://www.ncbi.nlm.nih.gov/entrez/query.fcgi?holding=npg&amp;cmd=Retrieve&amp;db=PubMed&amp;list_uids=20824044&amp;dopt=Abstract\n",
      "28 http://dx.doi.org/10.1593/neo.10688\n",
      "29 http://chemport.cas.org/cgi-bin/sdcgi?APP=ftslink&action=reflink&origin=npg&version=1.0&coi=1:CAS:528:DC%2BD2MXht1SrtrrE&pissn=1097-6256&pyear=2017&md5=31395878a71f70c0223c99ba23f9fa2f\n",
      "30 http://links.isiglobalnet2.com/gateway/Gateway.cgi?amp;GWVersion=2&amp;SrcAuth=Nature&amp;SrcApp=Nature&amp;DestLinkType=FullRecord&amp;KeyUT=000233119600006&amp;DestApp=WOS_CPL\n",
      "31 http://www.ncbi.nlm.nih.gov/entrez/query.fcgi?holding=npg&amp;cmd=Retrieve&amp;db=PubMed&amp;list_uids=16282176&amp;dopt=Abstract\n",
      "32 http://dx.doi.org/10.1056/NEJMoa051918\n",
      "33 http://links.isiglobalnet2.com/gateway/Gateway.cgi?amp;GWVersion=2&amp;SrcAuth=Nature&amp;SrcApp=Nature&amp;DestLinkType=FullRecord&amp;KeyUT=000268421500002&amp;DestApp=WOS_CPL\n",
      "34 http://www.ncbi.nlm.nih.gov/entrez/query.fcgi?holding=npg&amp;cmd=Retrieve&amp;db=PubMed&amp;list_uids=19584260&amp;dopt=Abstract\n",
      "35 http://dx.doi.org/10.1158/1541-7786.MCR-08-0479\n",
      "36 http://chemport.cas.org/cgi-bin/sdcgi?APP=ftslink&action=reflink&origin=npg&version=1.0&coi=1:CAS:528:DC%2BC3sXnsVOmurw%3D&pissn=1097-6256&pyear=2017&md5=3860b87afc63caa37ea4773b7b77a587\n",
      "37 http://links.isiglobalnet2.com/gateway/Gateway.cgi?amp;GWVersion=2&amp;SrcAuth=Nature&amp;SrcApp=Nature&amp;DestLinkType=FullRecord&amp;KeyUT=000319210600025&amp;DestApp=WOS_CPL\n",
      "38 http://www.ncbi.nlm.nih.gov/entrez/query.fcgi?holding=npg&amp;cmd=Retrieve&amp;db=PubMed&amp;list_uids=23533263&amp;dopt=Abstract\n",
      "39 http://dx.doi.org/10.1158/2159-8290.CD-12-0502\n",
      "40 http://chemport.cas.org/cgi-bin/sdcgi?APP=ftslink&action=reflink&origin=npg&version=1.0&coi=1:CAS:528:DC%2BC2cXkslOl&pissn=1097-6256&pyear=2017&md5=14c5f6614461aeb7fda4a9e90f569a2c\n",
      "41 http://links.isiglobalnet2.com/gateway/Gateway.cgi?amp;GWVersion=2&amp;SrcAuth=Nature&amp;SrcApp=Nature&amp;DestLinkType=FullRecord&amp;KeyUT=000329162000050&amp;DestApp=WOS_CPL\n",
      "42 http://www.ncbi.nlm.nih.gov/entrez/query.fcgi?holding=npg&amp;cmd=Retrieve&amp;db=PubMed&amp;list_uids=24310612&amp;dopt=Abstract\n",
      "43 http://dx.doi.org/10.1126/science.1241328\n",
      "44 http://chemport.cas.org/cgi-bin/sdcgi?APP=ftslink&action=reflink&origin=npg&version=1.0&coi=1:CAS:528:DC%2BC38XmvF2msLw%3D&pissn=1097-6256&pyear=2017&md5=0d272a4af1af683c8178d6a411370fad\n",
      "45 http://links.isiglobalnet2.com/gateway/Gateway.cgi?amp;GWVersion=2&amp;SrcAuth=Nature&amp;SrcApp=Nature&amp;DestLinkType=FullRecord&amp;KeyUT=000306328600038&amp;DestApp=WOS_CPL\n",
      "46 http://www.ncbi.nlm.nih.gov/entrez/query.fcgi?holding=npg&amp;cmd=Retrieve&amp;db=PubMed&amp;list_uids=22588882&amp;dopt=Abstract\n",
      "47 http://dx.doi.org/10.1158/2159-8290.CD-11-0287\n",
      "48 http://chemport.cas.org/cgi-bin/sdcgi?APP=ftslink&action=reflink&origin=npg&version=1.0&coi=1:CAS:528:DC%2BC2MXksVeltbc%3D&pissn=1097-6256&pyear=2017&md5=04d5c4d4964bf8e124c458ffb82776c4\n",
      "49 http://www.ncbi.nlm.nih.gov/entrez/query.fcgi?holding=npg&amp;cmd=Retrieve&amp;db=PubMed&amp;list_uids=25503978&amp;dopt=Abstract\n",
      "50 http://dx.doi.org/10.1038/ncomms6811\n",
      "51 http://www.ncbi.nlm.nih.gov/entrez/query.fcgi?holding=npg&amp;cmd=Retrieve&amp;db=PubMed&amp;list_uids=26282175&amp;dopt=Abstract\n",
      "52 http://dx.doi.org/10.1158/0008-5472.CAN-15-0989\n",
      "53 http://chemport.cas.org/cgi-bin/sdcgi?APP=ftslink&action=reflink&origin=npg&version=1.0&coi=1:CAS:528:DC%2BC3MXhsFCmsb%2FJ&pissn=1097-6256&pyear=2017&md5=e659ca3c39f8635d13456ced8274be54\n",
      "54 http://links.isiglobalnet2.com/gateway/Gateway.cgi?amp;GWVersion=2&amp;SrcAuth=Nature&amp;SrcApp=Nature&amp;DestLinkType=FullRecord&amp;KeyUT=000298142600008&amp;DestApp=WOS_CPL\n",
      "55 http://www.ncbi.nlm.nih.gov/entrez/query.fcgi?holding=npg&amp;cmd=Retrieve&amp;db=PubMed&amp;list_uids=21987724&amp;dopt=Abstract\n",
      "56 http://dx.doi.org/10.1158/0008-5472.CAN-11-1514\n",
      "57 http://chemport.cas.org/cgi-bin/sdcgi?APP=ftslink&action=reflink&origin=npg&version=1.0&coi=1:CAS:528:DC%2BC3sXhvFSmtL4%3D&pissn=1097-6256&pyear=2017&md5=e7e1b67c94aee81b5a4881a87a9e9432\n",
      "58 http://links.isiglobalnet2.com/gateway/Gateway.cgi?amp;GWVersion=2&amp;SrcAuth=Nature&amp;SrcApp=Nature&amp;DestLinkType=FullRecord&amp;KeyUT=000314362800023&amp;DestApp=WOS_CPL\n",
      "59 http://www.ncbi.nlm.nih.gov/entrez/query.fcgi?holding=npg&amp;cmd=Retrieve&amp;db=PubMed&amp;list_uids=23374349&amp;dopt=Abstract\n",
      "60 http://dx.doi.org/10.1016/j.cell.2012.12.032\n",
      "61 http://chemport.cas.org/cgi-bin/sdcgi?APP=ftslink&action=reflink&origin=npg&version=1.0&coi=1:CAS:528:DC%2BD28XlsFOruw%3D%3D&pissn=1097-6256&pyear=2017&md5=7a9df55c9f9c66b412b4abfb9617bdb6\n",
      "62 http://links.isiglobalnet2.com/gateway/Gateway.cgi?amp;GWVersion=2&amp;SrcAuth=Nature&amp;SrcApp=Nature&amp;DestLinkType=FullRecord&amp;KeyUT=000234915100037&amp;DestApp=WOS_CPL\n",
      "63 http://www.ncbi.nlm.nih.gov/entrez/query.fcgi?holding=npg&amp;cmd=Retrieve&amp;db=PubMed&amp;list_uids=16424019&amp;dopt=Abstract\n",
      "64 http://dx.doi.org/10.1158/0008-5472.CAN-05-2753\n",
      "65 http://chemport.cas.org/cgi-bin/sdcgi?APP=ftslink&action=reflink&origin=npg&version=1.0&coi=1:CAS:528:DyaK38Xkt1eqtLo%3D&pissn=1097-6256&pyear=2017&md5=4216d57c15b692f1ed3909273f83741f\n",
      "66 http://www.ncbi.nlm.nih.gov/entrez/query.fcgi?holding=npg&amp;cmd=Retrieve&amp;db=PubMed&amp;list_uids=1557402&amp;dopt=Abstract\n",
      "67 http://dx.doi.org/10.1073/pnas.89.7.2965\n",
      "68 http://www.ncbi.nlm.nih.gov/entrez/query.fcgi?holding=npg&amp;cmd=Retrieve&amp;db=PubMed&amp;list_uids=24884660&amp;dopt=Abstract\n",
      "69 http://dx.doi.org/10.1186/1479-5876-12-128\n",
      "70 http://chemport.cas.org/cgi-bin/sdcgi?APP=ftslink&action=reflink&origin=npg&version=1.0&coi=1:CAS:528:DC%2BC3sXhtlKrt7bJ&pissn=1097-6256&pyear=2017&md5=e81f6d6ece605f0545e2ed0dc000e362\n",
      "71 http://links.isiglobalnet2.com/gateway/Gateway.cgi?amp;GWVersion=2&amp;SrcAuth=Nature&amp;SrcApp=Nature&amp;DestLinkType=FullRecord&amp;KeyUT=000324285700015&amp;DestApp=WOS_CPL\n",
      "72 http://www.ncbi.nlm.nih.gov/entrez/query.fcgi?holding=npg&amp;cmd=Retrieve&amp;db=PubMed&amp;list_uids=23972990&amp;dopt=Abstract\n",
      "73 http://dx.doi.org/10.1016/j.celrep.2013.07.025\n",
      "74 http://chemport.cas.org/cgi-bin/sdcgi?APP=ftslink&action=reflink&origin=npg&version=1.0&coi=1:CAS:528:DC%2BD28XjtlChsLs%3D&pissn=1097-6256&pyear=2017&md5=b765a40be6faffb7b8ad8cdfae73c83f\n",
      "75 http://links.isiglobalnet2.com/gateway/Gateway.cgi?amp;GWVersion=2&amp;SrcAuth=Nature&amp;SrcApp=Nature&amp;DestLinkType=FullRecord&amp;KeyUT=000236899000045&amp;DestApp=WOS_CPL\n",
      "76 http://www.ncbi.nlm.nih.gov/entrez/query.fcgi?holding=npg&amp;cmd=Retrieve&amp;db=PubMed&amp;list_uids=16609043&amp;dopt=Abstract\n",
      "77 http://dx.doi.org/10.1158/1078-0432.CCR-05-2510\n",
      "78 http://chemport.cas.org/cgi-bin/sdcgi?APP=ftslink&action=reflink&origin=npg&version=1.0&coi=1:CAS:528:DC%2BD2sXhtFCjt7vP&pissn=1097-6256&pyear=2017&md5=9e80bf4e33318f0cdcaa4812f1995fd2\n",
      "79 http://links.isiglobalnet2.com/gateway/Gateway.cgi?amp;GWVersion=2&amp;SrcAuth=Nature&amp;SrcApp=Nature&amp;DestLinkType=FullRecord&amp;KeyUT=000250086100051&amp;DestApp=WOS_CPL\n",
      "80 http://www.ncbi.nlm.nih.gov/entrez/query.fcgi?holding=npg&amp;cmd=Retrieve&amp;db=PubMed&amp;list_uids=17872411&amp;dopt=Abstract\n",
      "81 http://dx.doi.org/10.1126/science.1142946\n",
      "82 http://chemport.cas.org/cgi-bin/sdcgi?APP=ftslink&action=reflink&origin=npg&version=1.0&coi=1:CAS:528:DC%2BD2sXptVejtb8%3D&pissn=1097-6256&pyear=2017&md5=e91e9fbfc4ffebfce4693e8dd972a6e9\n",
      "83 http://www.ncbi.nlm.nih.gov/entrez/query.fcgi?holding=npg&amp;cmd=Retrieve&amp;db=PubMed&amp;list_uids=17646646&amp;dopt=Abstract\n",
      "84 http://dx.doi.org/10.1073/pnas.0705158104\n",
      "85 http://links.isiglobalnet2.com/gateway/Gateway.cgi?amp;GWVersion=2&amp;SrcAuth=Nature&amp;SrcApp=Nature&amp;DestLinkType=FullRecord&amp;KeyUT=000265106500004&amp;DestApp=WOS_CPL\n",
      "86 http://www.ncbi.nlm.nih.gov/entrez/query.fcgi?holding=npg&amp;cmd=Retrieve&amp;db=PubMed&amp;list_uids=19412429&amp;dopt=Abstract\n",
      "87 http://dx.doi.org/10.1593/neo.09230\n",
      "88 http://www.ncbi.nlm.nih.gov/entrez/query.fcgi?holding=npg&amp;cmd=Retrieve&amp;db=PubMed&amp;list_uids=25659577&amp;dopt=Abstract\n",
      "89 /doifinder/10.1038/onc.2014.448\n",
      "90 http://chemport.cas.org/cgi-bin/sdcgi?APP=ftslink&action=reflink&origin=npg&version=1.0&coi=1:CAS:528:DC%2BC2MXlvVCisr0%3D&pissn=1097-6256&pyear=2017&md5=ee008ed62b7ac024ad2c7bfb52b13d27\n",
      "91 http://www.ncbi.nlm.nih.gov/entrez/query.fcgi?holding=npg&amp;cmd=Retrieve&amp;db=PubMed&amp;list_uids=25843712&amp;dopt=Abstract\n",
      "92 http://dx.doi.org/10.1016/j.celrep.2015.03.012\n",
      "93 http://chemport.cas.org/cgi-bin/sdcgi?APP=ftslink&action=reflink&origin=npg&version=1.0&coi=1:CAS:528:DC%2BD3sXit12mu7s%3D&pissn=1097-6256&pyear=2017&md5=81e588b50652cc73a3a8bb13cc9bb03a\n",
      "94 http://links.isiglobalnet2.com/gateway/Gateway.cgi?amp;GWVersion=2&amp;SrcAuth=Nature&amp;SrcApp=Nature&amp;DestLinkType=FullRecord&amp;KeyUT=000182179200010&amp;DestApp=WOS_CPL\n",
      "95 http://www.ncbi.nlm.nih.gov/entrez/query.fcgi?holding=npg&amp;cmd=Retrieve&amp;db=PubMed&amp;list_uids=12655295&amp;dopt=Abstract\n",
      "96 /doifinder/10.1038/sj.cdd.4401189\n",
      "97 http://chemport.cas.org/cgi-bin/sdcgi?APP=ftslink&action=reflink&origin=npg&version=1.0&coi=1:CAS:528:DyaK2cXis1Oru7o%3D&pissn=1097-6256&pyear=2017&md5=d69902730a935ef5cdd346a615960e9b\n",
      "98 http://links.isiglobalnet2.com/gateway/Gateway.cgi?amp;GWVersion=2&amp;SrcAuth=Nature&amp;SrcApp=Nature&amp;DestLinkType=FullRecord&amp;KeyUT=A1994NC60900033&amp;DestApp=WOS_CPL\n",
      "99 http://www.ncbi.nlm.nih.gov/entrez/query.fcgi?holding=npg&amp;cmd=Retrieve&amp;db=PubMed&amp;list_uids=8144934&amp;dopt=Abstract\n",
      "100 http://chemport.cas.org/cgi-bin/sdcgi?APP=ftslink&action=reflink&origin=npg&version=1.0&coi=1:CAS:528:DC%2BD3sXpsVCiurs%3D&pissn=1097-6256&pyear=2017&md5=8fc0f178147c9be272f26654a28ac311\n",
      "101 http://links.isiglobalnet2.com/gateway/Gateway.cgi?amp;GWVersion=2&amp;SrcAuth=Nature&amp;SrcApp=Nature&amp;DestLinkType=FullRecord&amp;KeyUT=000186367200025&amp;DestApp=WOS_CPL\n",
      "102 http://www.ncbi.nlm.nih.gov/entrez/query.fcgi?holding=npg&amp;cmd=Retrieve&amp;db=PubMed&amp;list_uids=14708607&amp;dopt=Abstract\n",
      "103 http://dx.doi.org/10.1046/j.1523-1747.2003.12565.x\n",
      "104 http://chemport.cas.org/cgi-bin/sdcgi?APP=ftslink&action=reflink&origin=npg&version=1.0&coi=1:CAS:528:DC%2BD2sXhtFSntLvF&pissn=1097-6256&pyear=2017&md5=41bd578584df3f6ae1e11d7100d14a16\n",
      "105 http://www.ncbi.nlm.nih.gov/entrez/query.fcgi?holding=npg&amp;cmd=Retrieve&amp;db=PubMed&amp;list_uids=17908987&amp;dopt=Abstract\n",
      "106 http://dx.doi.org/10.1158/1078-0432.CCR-07-0352\n",
      "107 http://chemport.cas.org/cgi-bin/sdcgi?APP=ftslink&action=reflink&origin=npg&version=1.0&coi=1:CAS:528:DC%2BC38XjtFOktb4%3D&pissn=1097-6256&pyear=2017&md5=69f7eb29e17132a57cdce54778ddcf8b\n",
      "108 http://links.isiglobalnet2.com/gateway/Gateway.cgi?amp;GWVersion=2&amp;SrcAuth=Nature&amp;SrcApp=Nature&amp;DestLinkType=FullRecord&amp;KeyUT=000300877900053&amp;DestApp=WOS_CPL\n",
      "109 http://www.ncbi.nlm.nih.gov/entrez/query.fcgi?holding=npg&amp;cmd=Retrieve&amp;db=PubMed&amp;list_uids=22281684&amp;dopt=Abstract\n",
      "110 /doifinder/10.1038/nature10868\n",
      "111 http://chemport.cas.org/cgi-bin/sdcgi?APP=ftslink&action=reflink&origin=npg&version=1.0&coi=1:CAS:528:DC%2BC38Xls1ektrw%3D&pissn=1097-6256&pyear=2017&md5=3fa39d5fd3c418eacd12e1c1f6dba0e7\n",
      "112 http://links.isiglobalnet2.com/gateway/Gateway.cgi?amp;GWVersion=2&amp;SrcAuth=Nature&amp;SrcApp=Nature&amp;DestLinkType=FullRecord&amp;KeyUT=000302805600011&amp;DestApp=WOS_CPL\n",
      "113 http://www.ncbi.nlm.nih.gov/entrez/query.fcgi?holding=npg&amp;cmd=Retrieve&amp;db=PubMed&amp;list_uids=22500798&amp;dopt=Abstract\n",
      "114 http://dx.doi.org/10.1016/j.cell.2012.02.053\n",
      "115 http://chemport.cas.org/cgi-bin/sdcgi?APP=ftslink&action=reflink&origin=npg&version=1.0&coi=1:CAS:528:DC%2BC3cXhtVOgu77E&pissn=1097-6256&pyear=2017&md5=ced94eddea0f17523d31a26ee6b07e7d\n",
      "116 http://www.ncbi.nlm.nih.gov/entrez/query.fcgi?holding=npg&amp;cmd=Retrieve&amp;db=PubMed&amp;list_uids=19738203&amp;dopt=Abstract\n",
      "117 http://dx.doi.org/10.1126/scisignal.287re6\n",
      "118 http://links.isiglobalnet2.com/gateway/Gateway.cgi?amp;GWVersion=2&amp;SrcAuth=Nature&amp;SrcApp=Nature&amp;DestLinkType=FullRecord&amp;KeyUT=000341155800007&amp;DestApp=WOS_CPL\n",
      "119 http://www.ncbi.nlm.nih.gov/entrez/query.fcgi?holding=npg&amp;cmd=Retrieve&amp;db=PubMed&amp;list_uids=24077285&amp;dopt=Abstract\n",
      "120 http://dx.doi.org/10.1038/onc.2013.400\n",
      "121 http://chemport.cas.org/cgi-bin/sdcgi?APP=ftslink&action=reflink&origin=npg&version=1.0&coi=1:CAS:528:DC%2BC3sXhs1Wks7nL&pissn=1097-6256&pyear=2017&md5=1519f862552164fb08a43e1d5eab96ca\n",
      "122 http://links.isiglobalnet2.com/gateway/Gateway.cgi?amp;GWVersion=2&amp;SrcAuth=Nature&amp;SrcApp=Nature&amp;DestLinkType=FullRecord&amp;KeyUT=000326198500007&amp;DestApp=WOS_CPL\n",
      "123 http://www.ncbi.nlm.nih.gov/entrez/query.fcgi?holding=npg&amp;cmd=Retrieve&amp;db=PubMed&amp;list_uids=24135280&amp;dopt=Abstract\n",
      "124 http://dx.doi.org/10.1016/j.ccr.2013.09.004\n",
      "125 http://chemport.cas.org/cgi-bin/sdcgi?APP=ftslink&action=reflink&origin=npg&version=1.0&coi=1:CAS:528:DC%2BC28Xms1OntrY%3D&pissn=1097-6256&pyear=2017&md5=e0d30c33d497154aeb9e5e94fd796274\n",
      "126 http://www.ncbi.nlm.nih.gov/entrez/query.fcgi?holding=npg&amp;cmd=Retrieve&amp;db=PubMed&amp;list_uids=27110918&amp;dopt=Abstract\n",
      "127 /doifinder/10.1038/nn.4295\n",
      "128 http://chemport.cas.org/cgi-bin/sdcgi?APP=ftslink&action=reflink&origin=npg&version=1.0&coi=1:CAS:528:DC%2BD1cXivVaitr0%3D&pissn=1097-6256&pyear=2017&md5=b07991177484d76d7f15afa15e287d27\n",
      "129 http://links.isiglobalnet2.com/gateway/Gateway.cgi?amp;GWVersion=2&amp;SrcAuth=Nature&amp;SrcApp=Nature&amp;DestLinkType=FullRecord&amp;KeyUT=000253458300005&amp;DestApp=WOS_CPL\n",
      "130 http://www.ncbi.nlm.nih.gov/entrez/query.fcgi?holding=npg&amp;cmd=Retrieve&amp;db=PubMed&amp;list_uids=18258752&amp;dopt=Abstract\n",
      "131 http://dx.doi.org/10.1101/gad.1606508\n",
      "132 http://chemport.cas.org/cgi-bin/sdcgi?APP=ftslink&action=reflink&origin=npg&version=1.0&coi=1:CAS:528:DC%2BD2cXpsVKhsr8%3D&pissn=1097-6256&pyear=2017&md5=6147277cfa9fd42c42ed74f3d87613ac\n",
      "133 http://links.isiglobalnet2.com/gateway/Gateway.cgi?amp;GWVersion=2&amp;SrcAuth=Nature&amp;SrcApp=Nature&amp;DestLinkType=FullRecord&amp;KeyUT=000187796300021&amp;DestApp=WOS_CPL\n",
      "134 http://www.ncbi.nlm.nih.gov/entrez/query.fcgi?holding=npg&amp;cmd=Retrieve&amp;db=PubMed&amp;list_uids=14638850&amp;dopt=Abstract\n",
      "135 http://dx.doi.org/10.1200/JCO.2004.08.110\n",
      "136 http://chemport.cas.org/cgi-bin/sdcgi?APP=ftslink&action=reflink&origin=npg&version=1.0&coi=1:CAS:528:DC%2BD1MXmsVSrsg%3D%3D&pissn=1097-6256&pyear=2017&md5=6e91b28ab99f3df421c7a7998644d2e3\n",
      "137 http://www.ncbi.nlm.nih.gov/entrez/query.fcgi?holding=npg&amp;cmd=Retrieve&amp;db=PubMed&amp;list_uids=18955445&amp;dopt=Abstract\n",
      "138 http://dx.doi.org/10.1200/JCO.2008.18.0612\n",
      "139 http://www.ncbi.nlm.nih.gov/entrez/query.fcgi?holding=npg&amp;cmd=Retrieve&amp;db=PubMed&amp;list_uids=19960228&amp;dopt=Abstract\n",
      "140 http://dx.doi.org/10.1007/s11060-009-0067-2\n",
      "141 http://chemport.cas.org/cgi-bin/sdcgi?APP=ftslink&action=reflink&origin=npg&version=1.0&coi=1:CAS:528:DC%2BC3cXhtFWmsLnM&pissn=1097-6256&pyear=2017&md5=dee144c19bf10ca86d26e572270ac569\n",
      "142 http://links.isiglobalnet2.com/gateway/Gateway.cgi?amp;GWVersion=2&amp;SrcAuth=Nature&amp;SrcApp=Nature&amp;DestLinkType=FullRecord&amp;KeyUT=000280970700006&amp;DestApp=WOS_CPL\n",
      "143 http://www.ncbi.nlm.nih.gov/entrez/query.fcgi?holding=npg&amp;cmd=Retrieve&amp;db=PubMed&amp;list_uids=20713517&amp;dopt=Abstract\n",
      "144 http://dx.doi.org/10.1101/gad.1890510\n",
      "145 http://chemport.cas.org/cgi-bin/sdcgi?APP=ftslink&action=reflink&origin=npg&version=1.0&coi=1:CAS:528:DC%2BC2MXmt1Sisr8%3D&pissn=1097-6256&pyear=2017&md5=15616fb52b56159ffd2b07eb24904999\n",
      "146 http://www.ncbi.nlm.nih.gov/entrez/query.fcgi?holding=npg&amp;cmd=Retrieve&amp;db=PubMed&amp;list_uids=25855404&amp;dopt=Abstract\n",
      "147 /doifinder/10.1038/nrc3918\n",
      "148 http://chemport.cas.org/cgi-bin/sdcgi?APP=ftslink&action=reflink&origin=npg&version=1.0&coi=1:CAS:528:DC%2BD2MXit1Wksbk%3D&pissn=1097-6256&pyear=2017&md5=a038ac859d70a1e5ec176467d8d0963c\n",
      "149 http://links.isiglobalnet2.com/gateway/Gateway.cgi?amp;GWVersion=2&amp;SrcAuth=Nature&amp;SrcApp=Nature&amp;DestLinkType=FullRecord&amp;KeyUT=000227491200007&amp;DestApp=WOS_CPL\n",
      "150 http://www.ncbi.nlm.nih.gov/entrez/query.fcgi?holding=npg&amp;cmd=Retrieve&amp;db=PubMed&amp;list_uids=15758009&amp;dopt=Abstract\n",
      "151 http://dx.doi.org/10.1056/NEJMoa043330\n"
     ]
    }
   ],
   "source": [
    "counter = 0\n",
    "for link in a.citations:\n",
    "    for morelinks in link.find_all('a',href = True):\n",
    "        counter = counter + 1\n",
    "        print(counter, morelinks['href'])"
   ]
  },
  {
   "cell_type": "code",
   "execution_count": 5,
   "metadata": {
    "collapsed": false
   },
   "outputs": [
    {
     "ename": "AttributeError",
     "evalue": "'nerdy' object has no attribute 'random_ten'",
     "output_type": "error",
     "traceback": [
      "\u001b[0;31m---------------------------------------------------------------------------\u001b[0m",
      "\u001b[0;31mAttributeError\u001b[0m                            Traceback (most recent call last)",
      "\u001b[0;32m<ipython-input-5-e8aa06466196>\u001b[0m in \u001b[0;36m<module>\u001b[0;34m()\u001b[0m\n\u001b[0;32m----> 1\u001b[0;31m \u001b[0ma\u001b[0m\u001b[0;34m.\u001b[0m\u001b[0mrandom_ten\u001b[0m\u001b[0;34m\u001b[0m\u001b[0m\n\u001b[0m",
      "\u001b[0;31mAttributeError\u001b[0m: 'nerdy' object has no attribute 'random_ten'"
     ]
    }
   ],
   "source": [
    "a.random_ten"
   ]
  },
  {
   "cell_type": "code",
   "execution_count": 49,
   "metadata": {
    "collapsed": false
   },
   "outputs": [
    {
     "name": "stdout",
     "output_type": "stream",
     "text": [
      "c\n",
      "http://dx.doi.org/10.1037//0735-7044.112.6.1291\n",
      "link Requested Range Not Satisfiable\n"
     ]
    }
   ],
   "source": [
    "a=nerdy('10.1037//0735-7044.112.6.1291')\n",
    "print(a.paper_url)\n",
    "a.get_full_text()\n",
    "# html = urllib.request.urlopen(a.paper_url)`"
   ]
  },
  {
   "cell_type": "code",
   "execution_count": 46,
   "metadata": {
    "collapsed": false
   },
   "outputs": [
    {
     "data": {
      "text/plain": [
       "array(['10.1111/j.1460-9568.2004.03710.x', '10.1016/j.neuron.2009.08.011',\n",
       "       '10.1093/brain/awp090', '10.1037/a0012895',\n",
       "       '10.1162/jocn.2006.18.9.1586', '10.1016/j.neuron.2009.08.011',\n",
       "       '10.1002/hipo.20109', '10.1037/a0012895',\n",
       "       '10.1016/j.neuropsychologia.2010.01.001',\n",
       "       '10.1162/089892904322926692'], \n",
       "      dtype='<U63')"
      ]
     },
     "execution_count": 46,
     "metadata": {},
     "output_type": "execute_result"
    }
   ],
   "source": [
    "a.random_ten"
   ]
  },
  {
   "cell_type": "code",
   "execution_count": 176,
   "metadata": {
    "collapsed": false
   },
   "outputs": [
    {
     "ename": "AttributeError",
     "evalue": "'ResultSet' object has no attribute 'select'",
     "output_type": "error",
     "traceback": [
      "\u001b[0;31m---------------------------------------------------------------------------\u001b[0m",
      "\u001b[0;31mAttributeError\u001b[0m                            Traceback (most recent call last)",
      "\u001b[0;32m<ipython-input-176-c9a9e0eeb073>\u001b[0m in \u001b[0;36m<module>\u001b[0;34m()\u001b[0m\n\u001b[1;32m      1\u001b[0m \u001b[0;32mfor\u001b[0m \u001b[0mlink\u001b[0m \u001b[0;32min\u001b[0m \u001b[0ma\u001b[0m\u001b[0;34m.\u001b[0m\u001b[0mcitations\u001b[0m\u001b[0;34m:\u001b[0m\u001b[0;34m\u001b[0m\u001b[0m\n\u001b[0;32m----> 2\u001b[0;31m     \u001b[0mprint\u001b[0m\u001b[0;34m(\u001b[0m\u001b[0mlink\u001b[0m\u001b[0;34m.\u001b[0m\u001b[0mfind_all\u001b[0m\u001b[0;34m(\u001b[0m\u001b[0;34m'a'\u001b[0m\u001b[0;34m)\u001b[0m\u001b[0;34m.\u001b[0m\u001b[0mselect\u001b[0m\u001b[0;34m(\u001b[0m\u001b[0;34m'href'\u001b[0m\u001b[0;34m)\u001b[0m\u001b[0;34m)\u001b[0m\u001b[0;34m\u001b[0m\u001b[0m\n\u001b[0m",
      "\u001b[0;31mAttributeError\u001b[0m: 'ResultSet' object has no attribute 'select'"
     ]
    }
   ],
   "source": [
    "for link in a.citations:\n",
    "    print(link.find_all('a').select('href'))"
   ]
  },
  {
   "cell_type": "code",
   "execution_count": 146,
   "metadata": {
    "collapsed": false
   },
   "outputs": [
    {
     "name": "stdout",
     "output_type": "stream",
     "text": [
      "Nature Journal\n"
     ]
    }
   ],
   "source": [
    "a = nerdy('http://www.nature.com/nrn/journal/v13/n10/full/nrn3338.html')\n",
    "a.get_full_text()"
   ]
  },
  {
   "cell_type": "code",
   "execution_count": 152,
   "metadata": {
    "collapsed": false
   },
   "outputs": [
    {
     "data": {
      "text/plain": [
       "'/doifinder/10.1038/35049064'"
      ]
     },
     "execution_count": 152,
     "metadata": {},
     "output_type": "execute_result"
    }
   ],
   "source": [
    "a.citations[1].a['href']"
   ]
  },
  {
   "cell_type": "code",
   "execution_count": null,
   "metadata": {
    "collapsed": true
   },
   "outputs": [],
   "source": [
    "html=urllib.request.urlopen('http://dx.doi.org/10.1038/35049064')\n",
    "soup = bs.BeautifulSoup(html,'lxml')# trun pretty \n",
    "## extract\n",
    "citations = soup.find_all('ol', attrs={'class':'references'})"
   ]
  },
  {
   "cell_type": "code",
   "execution_count": null,
   "metadata": {
    "collapsed": false
   },
   "outputs": [],
   "source": [
    "a = nerdy('http://www.nature.com/nrn/journal/v2/n1/full/nrn0101_051a.html')\n",
    "a.get_full_text()\n",
    "a.citations\n",
    "a.citations[1].a['href']"
   ]
  },
  {
   "cell_type": "code",
   "execution_count": null,
   "metadata": {
    "collapsed": false
   },
   "outputs": [],
   "source": [
    "# a = nerdy('http://www.nature.com/nrn/journal/v13/n10/full/nrn3338.html')\n",
    "a = nerdy('http://www.nature.com/nrn/journal/v13/n10/full/nrn3338.html') # nature neuro\n",
    "a.get_full_text()\n",
    "a.get_links()\n"
   ]
  },
  {
   "cell_type": "code",
   "execution_count": null,
   "metadata": {
    "collapsed": true
   },
   "outputs": [],
   "source": [
    "a = nerdy('http://www.jneurosci.org/content/32/19/6550')\n",
    "a.get_full_text()"
   ]
  },
  {
   "cell_type": "code",
   "execution_count": 50,
   "metadata": {
    "collapsed": true
   },
   "outputs": [],
   "source": [
    "import networkx as nx"
   ]
  },
  {
   "cell_type": "code",
   "execution_count": 51,
   "metadata": {
    "collapsed": true
   },
   "outputs": [],
   "source": [
    "# this is where the magic happens\n",
    "def recursive_add(DOI):\n",
    "    if not DG.has_node( DOI ):\n",
    "        node_data = nerdy(DOI)\n",
    "        print(node_data.paper_url)\n",
    "#         node_data.get_full_text()\n",
    "#         node_data.get_links()\n",
    "        node_data.get_full_text()\n",
    "\n",
    "#         node_data.elsevier_ref()    \n",
    "        DG.add_node( DOI)\n",
    "        child_list = node_data.random_ten\n",
    "#         return(child_list)\n",
    "        print(DOI,child_list)\n",
    "#     for child in child_list:\n",
    "#         print(child)\n",
    "#         recursive_add(child)\n",
    "#         print( 'addding: '+child )\n",
    "#         DG.add_edge(DOI, child)\n",
    "    "
   ]
  },
  {
   "cell_type": "code",
   "execution_count": 52,
   "metadata": {
    "collapsed": false
   },
   "outputs": [
    {
     "name": "stdout",
     "output_type": "stream",
     "text": [
      "b\n",
      "https://www.nature.com/neuro/journal/vaop/ncurrent/full/nn.4572.html\n",
      "Nature Journal\n",
      "0 long link\n",
      "1 long link\n",
      "2 long link\n",
      "3 long link\n",
      "4 long link\n",
      "5 long link\n",
      "6 long link\n",
      "7 long link\n",
      "8 long link\n",
      "9 long link\n",
      "10 long link\n",
      "11 long link\n",
      "12 long link\n",
      "13 long link\n",
      "14 long link\n",
      "15 long link\n",
      "16 long link\n",
      "17 long link\n",
      "18 long link\n",
      "19 long link\n",
      "20 long link\n",
      "21 long link\n",
      "22 long link\n",
      "23 long link\n",
      "24 long link\n",
      "25 long link\n",
      "26 long link\n",
      "27 long link\n",
      "28 long link\n",
      "29 long link\n",
      "30 long link\n",
      "31 long link\n",
      "32 long link\n",
      "33 long link\n",
      "34 long link\n",
      "35 long link\n",
      "36 long link\n",
      "37 long link\n",
      "38 long link\n",
      "39 long link\n",
      "40 long link\n",
      "41 long link\n",
      "42 long link\n",
      "43 long link\n",
      "44 long link\n",
      "45 long link\n",
      "46 long link\n",
      "https://www.nature.com/neuro/journal/vaop/ncurrent/full/nn.4572.html ['http://www.mathworks.com/matlabcentral/fileexchange/8998'\n",
      " 'http://www.mathworks.com/matlabcentral/fileexchange/8998'\n",
      " 'http://www.mathworks.com/matlabcentral/fileexchange/8998'\n",
      " 'http://www.mathworks.com/matlabcentral/fileexchange/8998'\n",
      " 'http://www.mathworks.com/matlabcentral/fileexchange/8998'\n",
      " 'http://www.mathworks.com/matlabcentral/fileexchange/8998'\n",
      " 'http://www.mathworks.com/matlabcentral/fileexchange/8998'\n",
      " 'http://www.mathworks.com/matlabcentral/fileexchange/8998'\n",
      " 'http://www.mathworks.com/matlabcentral/fileexchange/8998'\n",
      " 'http://www.mathworks.com/matlabcentral/fileexchange/8998']\n"
     ]
    }
   ],
   "source": [
    "DG = nx.DiGraph()\n",
    "recursive_add('https://www.nature.com/neuro/journal/vaop/ncurrent/full/nn.4572.html')"
   ]
  },
  {
   "cell_type": "code",
   "execution_count": null,
   "metadata": {
    "collapsed": true
   },
   "outputs": [],
   "source": [
    "b = nerdy(a.random_ten[2])"
   ]
  },
  {
   "cell_type": "code",
   "execution_count": null,
   "metadata": {
    "collapsed": false
   },
   "outputs": [],
   "source": [
    "urllib.request.urlopen(b.paper_url)"
   ]
  },
  {
   "cell_type": "code",
   "execution_count": null,
   "metadata": {
    "collapsed": false
   },
   "outputs": [],
   "source": [
    "b.get_full_text()"
   ]
  },
  {
   "cell_type": "code",
   "execution_count": null,
   "metadata": {
    "collapsed": true
   },
   "outputs": [],
   "source": [
    "b."
   ]
  },
  {
   "cell_type": "code",
   "execution_count": null,
   "metadata": {
    "collapsed": false
   },
   "outputs": [],
   "source": [
    "b.soup"
   ]
  },
  {
   "cell_type": "code",
   "execution_count": null,
   "metadata": {
    "collapsed": false
   },
   "outputs": [],
   "source": [
    "# b.get_full_text()\n",
    "b.soup"
   ]
  },
  {
   "cell_type": "code",
   "execution_count": null,
   "metadata": {
    "collapsed": false
   },
   "outputs": [],
   "source": [
    "recursive_add(a.random_ten[1])"
   ]
  }
 ],
 "metadata": {
  "kernelspec": {
   "display_name": "Python 3",
   "language": "python",
   "name": "python3"
  },
  "language_info": {
   "codemirror_mode": {
    "name": "ipython",
    "version": 3
   },
   "file_extension": ".py",
   "mimetype": "text/x-python",
   "name": "python",
   "nbconvert_exporter": "python",
   "pygments_lexer": "ipython3",
   "version": "3.6.0"
  }
 },
 "nbformat": 4,
 "nbformat_minor": 2
}
