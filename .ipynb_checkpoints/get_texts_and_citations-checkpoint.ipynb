{
 "cells": [
  {
   "cell_type": "markdown",
   "metadata": {},
   "source": [
    "## Here is the code to get the paper citations"
   ]
  },
  {
   "cell_type": "code",
   "execution_count": 1,
   "metadata": {
    "collapsed": true
   },
   "outputs": [],
   "source": [
    "import bs4 as bs\n",
    "import urllib.request\n",
    "import re as re\n",
    "import matplotlib.pyplot as plt\n",
    "import seaborn as sns\n",
    "import pandas as pd\n",
    "import numpy as np"
   ]
  },
  {
   "cell_type": "code",
   "execution_count": null,
   "metadata": {
    "collapsed": true
   },
   "outputs": [],
   "source": [
    "class nerdy:\n",
    "    def __init__(self, paper_url):\n",
    "        self.paper_url = paper_url\n",
    "        \n",
    "    def get_full_text(self):\n",
    "        self.html = urllib.request.urlopen(self.paper_url)# grab html\n",
    "        self.soup = bs.BeautifulSoup(self.html,'lxml')# trun pretty \n",
    "        self.citations = self.soup.find('ol', {'class':'references'}).select('li[id]') # get citations\n",
    "        self.article_title = self.soup.title # get article title needs revision\n",
    "        \n",
    "    def get_links(self):    \n",
    "        ## get links\n",
    "        counter = 0\n",
    "        prefix = 'http://dx.doi.org/'\n",
    "        links_output = [] # create output \n",
    "        for i in range(len(self.citations[0:])):\n",
    "            if self.citations[i].a is None: # if link doesnt exist \n",
    "                counter = counter + 1\n",
    "                links_output.append('no_link')\n",
    "            elif len(self.citations[i].a['href']) > 120: # if the link is really long \n",
    "                links_output.append(re.sub(\"http://dx.doi.org/\", '' ,self.citations[i].a['href']))\n",
    "            elif 'http://dx.doi.org/' in self.citations[i].a['href']: # normal\n",
    "                links_output.append(self.citations[i].a['href'])\n",
    "            else: # if its short add prefix\n",
    "                links_output.append(prefix + re.sub(\"/doifinder/\", '' ,self.citations[i].a['href']))\n",
    "        ## save em to class\n",
    "        self.links_output = links_output\n",
    "        self.missing_links = counter\n",
    "        self.random_ten = np.random.choice(self.links_output,size = 10)"
   ]
  },
  {
   "cell_type": "code",
   "execution_count": null,
   "metadata": {
    "collapsed": true
   },
   "outputs": [],
   "source": [
    "a = nerdy('http://www.nature.com/nrn/journal/v13/n10/full/nrn3338.html')"
   ]
  },
  {
   "cell_type": "code",
   "execution_count": null,
   "metadata": {
    "collapsed": true
   },
   "outputs": [],
   "source": [
    "a.get_full_text()"
   ]
  },
  {
   "cell_type": "code",
   "execution_count": null,
   "metadata": {
    "collapsed": true
   },
   "outputs": [],
   "source": [
    "a.get_links()"
   ]
  },
  {
   "cell_type": "code",
   "execution_count": null,
   "metadata": {
    "collapsed": true
   },
   "outputs": [],
   "source": [
    "a.random_ten"
   ]
  }
 ],
 "metadata": {
  "kernelspec": {
   "display_name": "Python 3",
   "language": "python",
   "name": "python3"
  },
  "language_info": {
   "codemirror_mode": {
    "name": "ipython",
    "version": 3
   },
   "file_extension": ".py",
   "mimetype": "text/x-python",
   "name": "python",
   "nbconvert_exporter": "python",
   "pygments_lexer": "ipython3",
   "version": "3.6.0"
  }
 },
 "nbformat": 4,
 "nbformat_minor": 2
}
